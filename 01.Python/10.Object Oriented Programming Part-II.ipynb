{
 "cells": [
  {
   "cell_type": "markdown",
   "id": "6d306b72",
   "metadata": {},
   "source": [
    "# Object Oriented Programming\n",
    "\n",
    "- How objects access the attributes\n",
    "- Reference Variables\n",
    "- Pass by reference\n",
    "- Mutability of object\n",
    "- Encapsulation\n",
    "- Collection of Objects\n",
    "- Static Variables"
   ]
  },
  {
   "cell_type": "markdown",
   "id": "a69e259a",
   "metadata": {},
   "source": [
    "## How objects access the attributes"
   ]
  },
  {
   "cell_type": "code",
   "execution_count": 1,
   "id": "7745bf9d",
   "metadata": {},
   "outputs": [],
   "source": [
    "class Person:\n",
    "    \n",
    "    def __init__(self, name_input, country_input):\n",
    "        self.name = name_input\n",
    "        self.country = country_input\n",
    "        \n",
    "    def greet(self):\n",
    "        if self.country == 'India':\n",
    "            print('Namaste', self.name)\n",
    "        else:\n",
    "            print('Hello', self.name)"
   ]
  },
  {
   "cell_type": "code",
   "execution_count": 2,
   "id": "690eb0db",
   "metadata": {},
   "outputs": [
    {
     "name": "stdout",
     "output_type": "stream",
     "text": [
      "xyz\n",
      "India\n"
     ]
    }
   ],
   "source": [
    "# How to access the attributes\n",
    "p = Person('xyz', 'India')\n",
    "print(p.name)\n",
    "print(p.country)"
   ]
  },
  {
   "cell_type": "code",
   "execution_count": 3,
   "id": "9a852879",
   "metadata": {},
   "outputs": [
    {
     "name": "stdout",
     "output_type": "stream",
     "text": [
      "Namaste xyz\n"
     ]
    }
   ],
   "source": [
    "# How to access the methods\n",
    "p.greet()"
   ]
  },
  {
   "cell_type": "code",
   "execution_count": 4,
   "id": "7ed4d755",
   "metadata": {},
   "outputs": [
    {
     "ename": "AttributeError",
     "evalue": "'Person' object has no attribute 'gender'",
     "output_type": "error",
     "traceback": [
      "\u001b[1;31m---------------------------------------------------------------------------\u001b[0m",
      "\u001b[1;31mAttributeError\u001b[0m                            Traceback (most recent call last)",
      "\u001b[1;32m~\\AppData\\Local\\Temp\\ipykernel_11188\\22527197.py\u001b[0m in \u001b[0;36m<module>\u001b[1;34m\u001b[0m\n\u001b[0;32m      1\u001b[0m \u001b[1;31m# What if, try to access non-existent attributes\u001b[0m\u001b[1;33m\u001b[0m\u001b[1;33m\u001b[0m\u001b[0m\n\u001b[1;32m----> 2\u001b[1;33m \u001b[0mp\u001b[0m\u001b[1;33m.\u001b[0m\u001b[0mgender\u001b[0m\u001b[1;33m\u001b[0m\u001b[1;33m\u001b[0m\u001b[0m\n\u001b[0m",
      "\u001b[1;31mAttributeError\u001b[0m: 'Person' object has no attribute 'gender'"
     ]
    }
   ],
   "source": [
    "# What if, try to access non-existent attributes\n",
    "p.gender"
   ]
  },
  {
   "cell_type": "markdown",
   "id": "6c3d6148",
   "metadata": {},
   "source": [
    "### Attribute creation from outside the class"
   ]
  },
  {
   "cell_type": "code",
   "execution_count": 5,
   "id": "1833975d",
   "metadata": {},
   "outputs": [],
   "source": [
    "p.gender = 'Male'"
   ]
  },
  {
   "cell_type": "code",
   "execution_count": 6,
   "id": "844025c1",
   "metadata": {},
   "outputs": [
    {
     "data": {
      "text/plain": [
       "'Male'"
      ]
     },
     "execution_count": 6,
     "metadata": {},
     "output_type": "execute_result"
    }
   ],
   "source": [
    "p.gender"
   ]
  },
  {
   "cell_type": "markdown",
   "id": "8b44ea28",
   "metadata": {},
   "source": [
    "## Reference Variables\n",
    "\n",
    "- Reference variables holds the object.\n",
    "- We can create objects without reference variable as well.\n",
    "- An object can have multiple reference variables.\n",
    "- Assigning a new reference variable to an existing object does not create new object."
   ]
  },
  {
   "cell_type": "code",
   "execution_count": 7,
   "id": "7ef75f1e",
   "metadata": {},
   "outputs": [],
   "source": [
    "# Object without a reference\n",
    "class Person:\n",
    "    \n",
    "    def __init__(self):\n",
    "        self.name = 'abc'\n",
    "        self.gender = 'male'\n",
    "        \n",
    "# p is not an object of person class. \n",
    "# p is a reference variable which contains the address of the object created.\n",
    "p = Person()\n",
    "q = p"
   ]
  },
  {
   "cell_type": "code",
   "execution_count": 8,
   "id": "095615c8",
   "metadata": {},
   "outputs": [
    {
     "name": "stdout",
     "output_type": "stream",
     "text": [
      "2372274376512\n",
      "2372274376512\n"
     ]
    }
   ],
   "source": [
    "# Multiple reference\n",
    "print(id(p))\n",
    "print(id(q)) # p and q both are pointing to the same memory location"
   ]
  },
  {
   "cell_type": "code",
   "execution_count": 9,
   "id": "2882e0bf",
   "metadata": {},
   "outputs": [
    {
     "name": "stdout",
     "output_type": "stream",
     "text": [
      "abc\n",
      "abc\n",
      "xyz\n",
      "xyz\n"
     ]
    }
   ],
   "source": [
    "# change attribute value with the help of 2nd object\n",
    "print(p.name)\n",
    "print(q.name)\n",
    "\n",
    "q.name = 'xyz'\n",
    "\n",
    "print(p.name)\n",
    "print(q.name)"
   ]
  },
  {
   "cell_type": "markdown",
   "id": "a130be28",
   "metadata": {},
   "source": [
    "## Pass by reference"
   ]
  },
  {
   "cell_type": "code",
   "execution_count": 10,
   "id": "a258da63",
   "metadata": {},
   "outputs": [
    {
     "name": "stdout",
     "output_type": "stream",
     "text": [
      "Hi, My name is abc and I'm a male\n"
     ]
    },
    {
     "ename": "AttributeError",
     "evalue": "'NoneType' object has no attribute 'name'",
     "output_type": "error",
     "traceback": [
      "\u001b[1;31m---------------------------------------------------------------------------\u001b[0m",
      "\u001b[1;31mAttributeError\u001b[0m                            Traceback (most recent call last)",
      "\u001b[1;32m~\\AppData\\Local\\Temp\\ipykernel_11188\\790202768.py\u001b[0m in \u001b[0;36m<module>\u001b[1;34m\u001b[0m\n\u001b[0;32m     13\u001b[0m \u001b[0mp\u001b[0m \u001b[1;33m=\u001b[0m \u001b[0mPerson\u001b[0m\u001b[1;33m(\u001b[0m\u001b[1;34m'abc'\u001b[0m\u001b[1;33m,\u001b[0m \u001b[1;34m'male'\u001b[0m\u001b[1;33m)\u001b[0m\u001b[1;33m\u001b[0m\u001b[1;33m\u001b[0m\u001b[0m\n\u001b[0;32m     14\u001b[0m \u001b[0mx\u001b[0m \u001b[1;33m=\u001b[0m \u001b[0mgreet\u001b[0m\u001b[1;33m(\u001b[0m\u001b[0mp\u001b[0m\u001b[1;33m)\u001b[0m\u001b[1;33m\u001b[0m\u001b[1;33m\u001b[0m\u001b[0m\n\u001b[1;32m---> 15\u001b[1;33m \u001b[0mprint\u001b[0m\u001b[1;33m(\u001b[0m\u001b[0mx\u001b[0m\u001b[1;33m.\u001b[0m\u001b[0mname\u001b[0m\u001b[1;33m)\u001b[0m\u001b[1;33m\u001b[0m\u001b[1;33m\u001b[0m\u001b[0m\n\u001b[0m",
      "\u001b[1;31mAttributeError\u001b[0m: 'NoneType' object has no attribute 'name'"
     ]
    }
   ],
   "source": [
    "# Passing the object of the class as a input to the function\n",
    "class Person:\n",
    "    \n",
    "    def __init__(self, name, gender):\n",
    "        self.name = name\n",
    "        self.gender = gender\n",
    "\n",
    "# Outside the class -> function\n",
    "def greet(Person):\n",
    "    print(\"Hi, My name is {} and I'm a {}\".format(Person.name, Person.gender))\n",
    "    \n",
    "    \n",
    "p = Person('abc', 'male')\n",
    "x = greet(p)\n",
    "print(x.name)"
   ]
  },
  {
   "cell_type": "code",
   "execution_count": 11,
   "id": "8b39be39",
   "metadata": {},
   "outputs": [
    {
     "name": "stdout",
     "output_type": "stream",
     "text": [
      "Hi, My name is abc and I'm a male\n",
      "xyz\n",
      "female\n"
     ]
    }
   ],
   "source": [
    "# function can return an object of class if desired/required.\n",
    "class Person:\n",
    "    \n",
    "    def __init__(self, name, gender):\n",
    "        self.name = name\n",
    "        self.gender = gender\n",
    "\n",
    "# Outside the class -> function\n",
    "def greet(person):\n",
    "    print(\"Hi, My name is {} and I'm a {}\".format(person.name, person.gender))\n",
    "    p1 = Person('xyz', 'female')\n",
    "    return p1\n",
    "    \n",
    "    \n",
    "p = Person('abc', 'male')\n",
    "x = greet(p)\n",
    "print(x.name)\n",
    "print(x.gender)"
   ]
  },
  {
   "cell_type": "markdown",
   "id": "04a2d12d",
   "metadata": {},
   "source": [
    "## Mutability of Objects\n",
    "\n",
    "- Objects of the user defined class is mutable"
   ]
  },
  {
   "cell_type": "code",
   "execution_count": 12,
   "id": "054050aa",
   "metadata": {},
   "outputs": [
    {
     "name": "stdout",
     "output_type": "stream",
     "text": [
      "abc\n",
      "2372274284960\n",
      "--------------------------------------------------\n",
      "xyz\n",
      "2372274284960\n"
     ]
    }
   ],
   "source": [
    "class Person:\n",
    "    \n",
    "    def __init__(self, name, gender):\n",
    "        self.name = name\n",
    "        self.gender = gender\n",
    "        \n",
    "\n",
    "def greet(person):\n",
    "    person.name = 'xyz'\n",
    "    return person\n",
    "\n",
    "p = Person('abc', 'male')\n",
    "print(p.name)\n",
    "print(id(p))\n",
    "\n",
    "print('-'*50)\n",
    "\n",
    "x = greet(p)\n",
    "print(x.name)\n",
    "print(id(x))\n"
   ]
  },
  {
   "cell_type": "markdown",
   "id": "eed9eb80",
   "metadata": {},
   "source": [
    "## Encapsulation\n",
    "\n",
    "Encapsulation is a key concept in object-oriented programming (OOP) that involves bundling data (attributes) and methods (functions) that operate on the data within a single unit or class. It helps in hiding the internal state of an object and controlling access to it from outside the class. By encapsulating data, we ensure that it's accessed and modified through defined methods, promoting data integrity and code organization.\n",
    "\n",
    "In Python, encapsulation is achieved using access modifiers to control the visibility of class members. There are three main types of access modifiers:\n",
    "\n",
    "- **Public**: Members are accessible from outside the class without any restrictions. By default, all members in a Python class are public.\n",
    "\n",
    "- **Protected**: Members are indicated by a single underscore (_) prefix. They are accessible within the class itself and its subclasses, but not from outside.\n",
    "\n",
    "- **Private**: Members are indicated by a double underscore (__) prefix. They are accessible only within the class itself and cannot be accessed directly from outside.\n",
    "\n",
    "\n",
    "Encapsulation helps in building modular and maintainable code, as it enforces data hiding and abstraction."
   ]
  },
  {
   "cell_type": "code",
   "execution_count": 13,
   "id": "e4e52446",
   "metadata": {},
   "outputs": [],
   "source": [
    "class BankAccount:\n",
    "    def __init__(self, account_number, balance):\n",
    "        self._account_number = account_number  # Protected attribute\n",
    "        self.__balance = balance  # Private attribute\n",
    "\n",
    "    def deposit(self, amount):\n",
    "        if amount > 0:\n",
    "            self.__balance += amount\n",
    "            print(\"Deposit successful.\")\n",
    "        else:\n",
    "            print(\"Invalid amount for deposit.\")\n",
    "\n",
    "    def withdraw(self, amount):\n",
    "        if amount > 0 and amount <= self.__balance:\n",
    "            self.__balance -= amount\n",
    "            print(\"Withdrawal successful.\")\n",
    "        else:\n",
    "            print(\"Insufficient funds or invalid amount for withdrawal.\")\n",
    "\n",
    "\n",
    "# Creating an instance of the BankAccount class\n",
    "account1 = BankAccount(\"123456789\", 1000)"
   ]
  },
  {
   "cell_type": "code",
   "execution_count": 14,
   "id": "67f6f90e",
   "metadata": {},
   "outputs": [
    {
     "name": "stdout",
     "output_type": "stream",
     "text": [
      "123456789\n"
     ]
    },
    {
     "ename": "AttributeError",
     "evalue": "'BankAccount' object has no attribute '__balance'",
     "output_type": "error",
     "traceback": [
      "\u001b[1;31m---------------------------------------------------------------------------\u001b[0m",
      "\u001b[1;31mAttributeError\u001b[0m                            Traceback (most recent call last)",
      "\u001b[1;32m~\\AppData\\Local\\Temp\\ipykernel_11188\\3481251391.py\u001b[0m in \u001b[0;36m<module>\u001b[1;34m\u001b[0m\n\u001b[0;32m      1\u001b[0m \u001b[1;31m# Attempting to access private attributes directly (will result in an error)\u001b[0m\u001b[1;33m\u001b[0m\u001b[1;33m\u001b[0m\u001b[0m\n\u001b[0;32m      2\u001b[0m \u001b[0mprint\u001b[0m\u001b[1;33m(\u001b[0m\u001b[0maccount1\u001b[0m\u001b[1;33m.\u001b[0m\u001b[0m_account_number\u001b[0m\u001b[1;33m)\u001b[0m\u001b[1;33m\u001b[0m\u001b[1;33m\u001b[0m\u001b[0m\n\u001b[1;32m----> 3\u001b[1;33m \u001b[0mprint\u001b[0m\u001b[1;33m(\u001b[0m\u001b[0maccount1\u001b[0m\u001b[1;33m.\u001b[0m\u001b[0m__balance\u001b[0m\u001b[1;33m)\u001b[0m\u001b[1;33m\u001b[0m\u001b[1;33m\u001b[0m\u001b[0m\n\u001b[0m",
      "\u001b[1;31mAttributeError\u001b[0m: 'BankAccount' object has no attribute '__balance'"
     ]
    }
   ],
   "source": [
    "# Attempting to access private attributes directly (will result in an error)\n",
    "print(account1._account_number)\n",
    "print(account1.__balance)"
   ]
  },
  {
   "cell_type": "code",
   "execution_count": 15,
   "id": "72024e26",
   "metadata": {},
   "outputs": [
    {
     "name": "stdout",
     "output_type": "stream",
     "text": [
      "Deposit successful.\n",
      "Balance after deposit: 1500\n"
     ]
    }
   ],
   "source": [
    "# Making a deposit\n",
    "account1.deposit(500)\n",
    "print(\"Balance after deposit:\", account1._BankAccount__balance)  # Accessing private attribute indirectly"
   ]
  },
  {
   "cell_type": "code",
   "execution_count": 16,
   "id": "dbed2b4f",
   "metadata": {},
   "outputs": [
    {
     "name": "stdout",
     "output_type": "stream",
     "text": [
      "Withdrawal successful.\n",
      "Balance after withdrawal: 1300\n"
     ]
    }
   ],
   "source": [
    "# Making a withdrawal\n",
    "account1.withdraw(200)\n",
    "print(\"Balance after withdrawal:\", account1._BankAccount__balance)  # Accessing private attribute indirectly"
   ]
  },
  {
   "cell_type": "markdown",
   "id": "85a7d63c",
   "metadata": {},
   "source": [
    "### Getter and Setter\n",
    "\n",
    "In object-oriented programming, getters and setters are methods used to retrieve (get) and modify (set) the values of private attributes of a class, respectively. They provide controlled access to private attributes, allowing validation, encapsulation, and flexibility in managing the state of an object.\n",
    "\n",
    "Getter methods are used to retrieve the value of a private attribute. They typically have a naming convention like get_attribute_name().\n",
    "\n",
    "Setter methods are used to modify the value of a private attribute. They typically have a naming convention like set_attribute_name().\n",
    "\n",
    "By using getters and setters, you can enforce validation rules, perform additional operations before setting or getting the attribute value, and maintain data integrity."
   ]
  },
  {
   "cell_type": "code",
   "execution_count": 17,
   "id": "10e7a311",
   "metadata": {},
   "outputs": [],
   "source": [
    "class BankAccount:\n",
    "    def __init__(self, account_number, initial_balance):\n",
    "        self._account_number = account_number\n",
    "        self.__balance = initial_balance\n",
    "\n",
    "    def get_account_number(self):\n",
    "        \"\"\"Getter method to retrieve the account number.\"\"\"\n",
    "        return self._account_number\n",
    "\n",
    "    def get_balance(self):\n",
    "        \"\"\"Getter method to retrieve the balance.\"\"\"\n",
    "        return self.__balance\n",
    "\n",
    "    def set_balance(self, new_balance):\n",
    "        \"\"\"Setter method to update the balance.\"\"\"\n",
    "        if new_balance >= 0:\n",
    "            self.__balance = new_balance\n",
    "            print(\"Balance updated successfully.\")\n",
    "        else:\n",
    "            print(\"Invalid balance value. Balance remains unchanged.\")\n",
    "\n",
    "    def deposit(self, amount):\n",
    "        \"\"\"Method to deposit money into the account.\"\"\"\n",
    "        if amount > 0:\n",
    "            self.__balance += amount\n",
    "            print(\"Deposit successful.\")\n",
    "        else:\n",
    "            print(\"Invalid amount for deposit.\")\n",
    "\n",
    "    def withdraw(self, amount):\n",
    "        \"\"\"Method to withdraw money from the account.\"\"\"\n",
    "        if amount > 0 and amount <= self.__balance:\n",
    "            self.__balance -= amount\n",
    "            print(\"Withdrawal successful.\")\n",
    "        else:\n",
    "            print(\"Insufficient funds or invalid amount for withdrawal.\")\n",
    "\n",
    "\n",
    "account = BankAccount(\"123456789\", 1000)"
   ]
  },
  {
   "cell_type": "code",
   "execution_count": 18,
   "id": "4c044f6b",
   "metadata": {},
   "outputs": [
    {
     "name": "stdout",
     "output_type": "stream",
     "text": [
      "Account Number: 123456789\n",
      "Initial balance: 1000\n"
     ]
    }
   ],
   "source": [
    "# Using getter methods to retrieve account number and balance\n",
    "print(\"Account Number:\", account.get_account_number())\n",
    "print(\"Initial balance:\", account.get_balance())"
   ]
  },
  {
   "cell_type": "code",
   "execution_count": 19,
   "id": "acac51af",
   "metadata": {},
   "outputs": [
    {
     "name": "stdout",
     "output_type": "stream",
     "text": [
      "Balance updated successfully.\n"
     ]
    }
   ],
   "source": [
    "# Using setter method to update the balance\n",
    "account.set_balance(1500)"
   ]
  },
  {
   "cell_type": "code",
   "execution_count": 20,
   "id": "6b849b1b",
   "metadata": {},
   "outputs": [
    {
     "name": "stdout",
     "output_type": "stream",
     "text": [
      "Deposit successful.\n",
      "Balance after deposit: 2000\n"
     ]
    }
   ],
   "source": [
    "# Making a deposit\n",
    "account.deposit(500)\n",
    "print(\"Balance after deposit:\", account.get_balance())"
   ]
  },
  {
   "cell_type": "code",
   "execution_count": 21,
   "id": "a0e6b860",
   "metadata": {},
   "outputs": [
    {
     "name": "stdout",
     "output_type": "stream",
     "text": [
      "Withdrawal successful.\n",
      "Balance after withdrawal: 1800\n"
     ]
    }
   ],
   "source": [
    "# Making a withdrawal\n",
    "account.withdraw(200)\n",
    "print(\"Balance after withdrawal:\", account.get_balance())"
   ]
  },
  {
   "cell_type": "markdown",
   "id": "a882e3c5",
   "metadata": {},
   "source": [
    "## Collection of Objects"
   ]
  },
  {
   "cell_type": "code",
   "execution_count": 22,
   "id": "c9ae0379",
   "metadata": {},
   "outputs": [
    {
     "name": "stdout",
     "output_type": "stream",
     "text": [
      "[<__main__.Person object at 0x0000022856904BB0>, <__main__.Person object at 0x00000228569048E0>, <__main__.Person object at 0x0000022856904CA0>]\n"
     ]
    }
   ],
   "source": [
    "# List of Objects\n",
    "class Person:\n",
    "    \n",
    "    def __init__(self, name, gender):\n",
    "        self.name = name\n",
    "        self.gender = gender\n",
    "        \n",
    "p1 = Person('abc', 'male')\n",
    "p2 = Person('xyz', 'male')\n",
    "p3 = Person('pqr', 'female')\n",
    "\n",
    "L = [p1, p2, p3]\n",
    "print(L) # prints the address of objects present inside the list"
   ]
  },
  {
   "cell_type": "code",
   "execution_count": 23,
   "id": "69d27394",
   "metadata": {},
   "outputs": [
    {
     "name": "stdout",
     "output_type": "stream",
     "text": [
      "abc male\n",
      "xyz male\n",
      "pqr female\n"
     ]
    }
   ],
   "source": [
    "for i in L:\n",
    "    print(i.name, i.gender)"
   ]
  },
  {
   "cell_type": "code",
   "execution_count": 24,
   "id": "933e7229",
   "metadata": {},
   "outputs": [
    {
     "name": "stdout",
     "output_type": "stream",
     "text": [
      "abc male\n",
      "xyz male\n",
      "pqr female\n"
     ]
    }
   ],
   "source": [
    "# dict of objects\n",
    "d = {'p1':p1, 'p2':p2, 'p3':p3}\n",
    "\n",
    "for i in d:\n",
    "    print(d[i].name, d[i].gender)"
   ]
  },
  {
   "cell_type": "markdown",
   "id": "87299912",
   "metadata": {},
   "source": [
    "## Static Variables (Vs Instance Variables)"
   ]
  },
  {
   "cell_type": "markdown",
   "id": "30c3571d",
   "metadata": {},
   "source": [
    "| | Instance Variable                                                | Static Variable                                   | \n",
    "|---:|:--------------------------------------------------------------|:--------------------------------------------------|\n",
    "| 1. | Instance variable is a variable of object                     | Static variable is a variable of class            | \n",
    "| 2. | Defined inside the constructor                                | Defined outside the method.                       | \n",
    "| 3. | Fetched using object_name.variable_name.                      | Fetched using Class_name.variable_name.           | \n",
    "| 4. | Value of instance variable is different for diferent objects. | Value of static variable is same for all objects. | "
   ]
  },
  {
   "cell_type": "code",
   "execution_count": 25,
   "id": "376c39cf",
   "metadata": {},
   "outputs": [
    {
     "name": "stdout",
     "output_type": "stream",
     "text": [
      "Deposit successful.\n",
      "Withdrawal successful.\n",
      "Deposit successful.\n",
      "Withdrawal successful.\n",
      "Account Number: 123456789, Balance: 1300\n",
      "Account Number: 987654321, Balance: 2500\n",
      "Total number of accounts: 2\n"
     ]
    }
   ],
   "source": [
    "class BankAccount:\n",
    "    # Static variable to keep track of the total number of accounts\n",
    "    num_accounts = 0\n",
    "\n",
    "    def __init__(self, account_number, initial_balance):\n",
    "        self.account_number = account_number\n",
    "        self.balance = initial_balance\n",
    "        # Increment the total number of accounts each time a new account is created\n",
    "        BankAccount.num_accounts += 1\n",
    "\n",
    "    def deposit(self, amount):\n",
    "        self.balance += amount\n",
    "        print(\"Deposit successful.\")\n",
    "\n",
    "    def withdraw(self, amount):\n",
    "        if amount <= self.balance:\n",
    "            self.balance -= amount\n",
    "            print(\"Withdrawal successful.\")\n",
    "        else:\n",
    "            print(\"Insufficient funds.\")\n",
    "\n",
    "    def display_balance(self):\n",
    "        print(f\"Account Number: {self.account_number}, Balance: {self.balance}\")\n",
    "\n",
    "\n",
    "# Creating instances of BankAccount\n",
    "account1 = BankAccount(\"123456789\", 1000)\n",
    "account2 = BankAccount(\"987654321\", 2000)\n",
    "\n",
    "# Depositing and withdrawing from accounts\n",
    "account1.deposit(500)\n",
    "account1.withdraw(200)\n",
    "account2.deposit(1000)\n",
    "account2.withdraw(500)\n",
    "\n",
    "# Displaying balances\n",
    "account1.display_balance()\n",
    "account2.display_balance()\n",
    "\n",
    "# Accessing static variable to get the total number of accounts\n",
    "print(\"Total number of accounts:\", BankAccount.num_accounts)"
   ]
  },
  {
   "cell_type": "markdown",
   "id": "495d0d0d",
   "metadata": {},
   "source": [
    "### Count number of instances of a class created in Python?"
   ]
  },
  {
   "cell_type": "code",
   "execution_count": 26,
   "id": "fc95d53d",
   "metadata": {},
   "outputs": [
    {
     "name": "stdout",
     "output_type": "stream",
     "text": [
      "5\n"
     ]
    }
   ],
   "source": [
    "class Car:\n",
    "    \n",
    "    __counter = 0\n",
    "    \n",
    "    def __init__(self):\n",
    "        Car.__counter += 1\n",
    "        \n",
    "    def get_count():\n",
    "        return Car.__counter\n",
    "    \n",
    "c1 = Car()\n",
    "c2 = Car()\n",
    "c3 = Car()\n",
    "c4 = Car()\n",
    "c5 = Car()\n",
    "\n",
    "print(Car.get_count())"
   ]
  }
 ],
 "metadata": {
  "kernelspec": {
   "display_name": "Python 3 (ipykernel)",
   "language": "python",
   "name": "python3"
  },
  "language_info": {
   "codemirror_mode": {
    "name": "ipython",
    "version": 3
   },
   "file_extension": ".py",
   "mimetype": "text/x-python",
   "name": "python",
   "nbconvert_exporter": "python",
   "pygments_lexer": "ipython3",
   "version": "3.9.13"
  }
 },
 "nbformat": 4,
 "nbformat_minor": 5
}
