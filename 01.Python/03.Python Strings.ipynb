{
 "cells": [
  {
   "cell_type": "markdown",
   "id": "feb7ea47",
   "metadata": {},
   "source": [
    "# Strings\n",
    "\n",
    "A string is a sequence of characters.\n",
    "\n",
    "Computers do not deal with characters, they deal with numbers (binary). Even though you may see characters on your screen, internally it is stored and manipulated as a combination of 0's and 1's.\n",
    "\n",
    "This conversion of character to a number is called encoding, and the reverse process is decoding. ASCII and Unicode are some of the popular encoding used.\n",
    "\n",
    "In Python, string is a sequence of Unicode character."
   ]
  },
  {
   "cell_type": "markdown",
   "id": "e1509e7c",
   "metadata": {},
   "source": [
    "For more details about unicode \n",
    "\n",
    "https://docs.python.org/3.3/howto/unicode.html"
   ]
  },
  {
   "cell_type": "markdown",
   "id": "a086d919",
   "metadata": {},
   "source": [
    "# 1. How to create a string?\n",
    "\n",
    "\n",
    "Strings can be created by enclosing characters inside a single quote or double quotes. \n",
    "\n",
    "Even triple quotes can be used in Python but generally used to represent multiline strings and docstrings.\n"
   ]
  },
  {
   "cell_type": "code",
   "execution_count": 1,
   "id": "64b33015",
   "metadata": {},
   "outputs": [
    {
     "name": "stdout",
     "output_type": "stream",
     "text": [
      "Hello\n",
      "Hello\n",
      "Hello\n",
      "Hello\n",
      "Hello\n"
     ]
    }
   ],
   "source": [
    "s = 'Hello'\n",
    "print(s)\n",
    "\n",
    "s = \"Hello\"\n",
    "print(s)\n",
    "\n",
    "# Multi-line string\n",
    "s = '''Hello'''\n",
    "print(s)\n",
    "\n",
    "# Multi-line string\n",
    "s = \"\"\"Hello\"\"\"\n",
    "print(s)\n",
    "\n",
    "s = str('Hello')\n",
    "print(s)"
   ]
  },
  {
   "cell_type": "code",
   "execution_count": 2,
   "id": "5b174806",
   "metadata": {},
   "outputs": [
    {
     "name": "stdout",
     "output_type": "stream",
     "text": [
      "It's a beautiful day\n"
     ]
    }
   ],
   "source": [
    "# Using single quotes inside double quotes\n",
    "s = \"It's a beautiful day\"\n",
    "print(s)"
   ]
  },
  {
   "cell_type": "markdown",
   "id": "5952d29c",
   "metadata": {},
   "source": [
    "# 2.How to access characters in a string?\n",
    "\n",
    "We can access individual characters using indexing and a range of characters using slicing.\n",
    "\n",
    "Index starts from 0. \n",
    "\n",
    "Trying to access a character out of index range will raise an IndexError. \n",
    "\n",
    "The index must be an integer. We can't use float or other types, this will result into TypeError.\n",
    "\n",
    "Python allows negative indexing for its sequences."
   ]
  },
  {
   "cell_type": "code",
   "execution_count": 3,
   "id": "526d6155",
   "metadata": {},
   "outputs": [
    {
     "name": "stdout",
     "output_type": "stream",
     "text": [
      "H\n",
      "o\n"
     ]
    }
   ],
   "source": [
    "# Positive Indexing\n",
    "s = 'Hello World'\n",
    "print(s[0])\n",
    "print(s[7])"
   ]
  },
  {
   "cell_type": "code",
   "execution_count": 4,
   "id": "f2162949",
   "metadata": {},
   "outputs": [
    {
     "name": "stdout",
     "output_type": "stream",
     "text": [
      "d\n",
      "W\n"
     ]
    }
   ],
   "source": [
    "# Negative Indexing\n",
    "print(s[-1])\n",
    "print(s[-5])"
   ]
  },
  {
   "cell_type": "code",
   "execution_count": 5,
   "id": "73b39e1e",
   "metadata": {},
   "outputs": [
    {
     "name": "stdout",
     "output_type": "stream",
     "text": [
      "Hello\n",
      "llo World\n",
      "Hello W\n",
      "loWr\n",
      "drWo\n"
     ]
    }
   ],
   "source": [
    "# Slicing\n",
    "print(s[0:5])\n",
    "print(s[2:])\n",
    "print(s[:7])\n",
    "print(s[2:9:2])\n",
    "print(s[-1:-9:-2])"
   ]
  },
  {
   "cell_type": "markdown",
   "id": "7c674bb9",
   "metadata": {},
   "source": [
    "# 3.How to change or delete a string ?\n",
    "\n",
    "Strings are immutable. This means that elements of a string cannot be changed once it has been assigned. \n",
    "\n",
    "We can simply reassign different strings to the same name."
   ]
  },
  {
   "cell_type": "code",
   "execution_count": 6,
   "id": "fe2231db",
   "metadata": {},
   "outputs": [
    {
     "ename": "TypeError",
     "evalue": "'str' object does not support item assignment",
     "output_type": "error",
     "traceback": [
      "\u001b[1;31m---------------------------------------------------------------------------\u001b[0m",
      "\u001b[1;31mTypeError\u001b[0m                                 Traceback (most recent call last)",
      "\u001b[1;32m~\\AppData\\Local\\Temp\\ipykernel_29164\\2718748047.py\u001b[0m in \u001b[0;36m<module>\u001b[1;34m\u001b[0m\n\u001b[0;32m      1\u001b[0m \u001b[0ms\u001b[0m \u001b[1;33m=\u001b[0m \u001b[1;34m'hello world'\u001b[0m\u001b[1;33m\u001b[0m\u001b[1;33m\u001b[0m\u001b[0m\n\u001b[1;32m----> 2\u001b[1;33m \u001b[0ms\u001b[0m\u001b[1;33m[\u001b[0m\u001b[1;36m0\u001b[0m\u001b[1;33m]\u001b[0m \u001b[1;33m=\u001b[0m \u001b[1;34m'H'\u001b[0m \u001b[1;31m# Strings are immutable\u001b[0m\u001b[1;33m\u001b[0m\u001b[1;33m\u001b[0m\u001b[0m\n\u001b[0m",
      "\u001b[1;31mTypeError\u001b[0m: 'str' object does not support item assignment"
     ]
    }
   ],
   "source": [
    "s = 'hello world'\n",
    "s[0] = 'H' # Strings are immutable"
   ]
  },
  {
   "cell_type": "markdown",
   "id": "8ebfba1f",
   "metadata": {},
   "source": [
    "We cannot delete or remove characters from a string. But deleting the string entirely is possible using the keyword del()."
   ]
  },
  {
   "cell_type": "code",
   "execution_count": 7,
   "id": "0539e280",
   "metadata": {},
   "outputs": [],
   "source": [
    "del s # delete complete string"
   ]
  },
  {
   "cell_type": "code",
   "execution_count": 8,
   "id": "cc4cd736",
   "metadata": {},
   "outputs": [
    {
     "ename": "NameError",
     "evalue": "name 's' is not defined",
     "output_type": "error",
     "traceback": [
      "\u001b[1;31m---------------------------------------------------------------------------\u001b[0m",
      "\u001b[1;31mNameError\u001b[0m                                 Traceback (most recent call last)",
      "\u001b[1;32m~\\AppData\\Local\\Temp\\ipykernel_29164\\926740265.py\u001b[0m in \u001b[0;36m<module>\u001b[1;34m\u001b[0m\n\u001b[1;32m----> 1\u001b[1;33m \u001b[0mprint\u001b[0m\u001b[1;33m(\u001b[0m\u001b[0ms\u001b[0m\u001b[1;33m)\u001b[0m\u001b[1;33m\u001b[0m\u001b[1;33m\u001b[0m\u001b[0m\n\u001b[0m",
      "\u001b[1;31mNameError\u001b[0m: name 's' is not defined"
     ]
    }
   ],
   "source": [
    "print(s)"
   ]
  },
  {
   "cell_type": "markdown",
   "id": "ee8e3eac",
   "metadata": {},
   "source": [
    "# 4.Operations on String"
   ]
  },
  {
   "cell_type": "markdown",
   "id": "c7473dd5",
   "metadata": {},
   "source": [
    "## 4.1.Arithmatic Operations\n",
    "\n",
    "Joining of two or more strings into a single one is called concatenation.\n",
    "\n",
    "The + operator does this in Python. Simply writing two string literals together also concatenates them.\n",
    "\n",
    "The * operator can be used to repeat the string for a given number of times."
   ]
  },
  {
   "cell_type": "code",
   "execution_count": 9,
   "id": "ededa90e",
   "metadata": {},
   "outputs": [
    {
     "name": "stdout",
     "output_type": "stream",
     "text": [
      "Hello World\n",
      "Hello Hello Hello \n"
     ]
    }
   ],
   "source": [
    "s1 = \"Hello \"\n",
    "s2 = \"World\"\n",
    "\n",
    "#concatenation of 2 strings\n",
    "print(s1 + s2)\n",
    "\n",
    "#repeat string n times\n",
    "print(s1 * 3)"
   ]
  },
  {
   "cell_type": "markdown",
   "id": "9a84a8b3",
   "metadata": {},
   "source": [
    "## 4.2.Relational Operations"
   ]
  },
  {
   "cell_type": "code",
   "execution_count": 10,
   "id": "95a164ab",
   "metadata": {},
   "outputs": [
    {
     "data": {
      "text/plain": [
       "False"
      ]
     },
     "execution_count": 10,
     "metadata": {},
     "output_type": "execute_result"
    }
   ],
   "source": [
    "'Hello' == 'World'"
   ]
  },
  {
   "cell_type": "code",
   "execution_count": 11,
   "id": "45e0b051",
   "metadata": {},
   "outputs": [
    {
     "data": {
      "text/plain": [
       "True"
      ]
     },
     "execution_count": 11,
     "metadata": {},
     "output_type": "execute_result"
    }
   ],
   "source": [
    "'Hello' != 'World'"
   ]
  },
  {
   "cell_type": "code",
   "execution_count": 12,
   "id": "54073021",
   "metadata": {},
   "outputs": [
    {
     "data": {
      "text/plain": [
       "True"
      ]
     },
     "execution_count": 12,
     "metadata": {},
     "output_type": "execute_result"
    }
   ],
   "source": [
    "'Kolhapur' > 'Goa'  # Lexiographic comparison on the basis of ascii value"
   ]
  },
  {
   "cell_type": "markdown",
   "id": "9c2516af",
   "metadata": {},
   "source": [
    "## 4.3.Logical Operations\n",
    "\n",
    "Empty string is considered as False <br>\n",
    "Non-Empty string is considered as True"
   ]
  },
  {
   "cell_type": "code",
   "execution_count": 13,
   "id": "2236b27d",
   "metadata": {},
   "outputs": [
    {
     "data": {
      "text/plain": [
       "'World'"
      ]
     },
     "execution_count": 13,
     "metadata": {},
     "output_type": "execute_result"
    }
   ],
   "source": [
    "'Hello' and 'World'"
   ]
  },
  {
   "cell_type": "code",
   "execution_count": 14,
   "id": "b06de00f",
   "metadata": {},
   "outputs": [
    {
     "data": {
      "text/plain": [
       "'world'"
      ]
     },
     "execution_count": 14,
     "metadata": {},
     "output_type": "execute_result"
    }
   ],
   "source": [
    "'' or 'world'"
   ]
  },
  {
   "cell_type": "code",
   "execution_count": 15,
   "id": "037f8e54",
   "metadata": {},
   "outputs": [
    {
     "data": {
      "text/plain": [
       "True"
      ]
     },
     "execution_count": 15,
     "metadata": {},
     "output_type": "execute_result"
    }
   ],
   "source": [
    "not ''"
   ]
  },
  {
   "cell_type": "markdown",
   "id": "71ffaef0",
   "metadata": {},
   "source": [
    "## 4.4.Loops in String"
   ]
  },
  {
   "cell_type": "code",
   "execution_count": 16,
   "id": "937d7271",
   "metadata": {},
   "outputs": [
    {
     "name": "stdout",
     "output_type": "stream",
     "text": [
      "H\n",
      "e\n",
      "l\n",
      "l\n",
      "o\n"
     ]
    }
   ],
   "source": [
    "for i in 'Hello':\n",
    "    print(i)"
   ]
  },
  {
   "cell_type": "code",
   "execution_count": 17,
   "id": "e06c1d93",
   "metadata": {},
   "outputs": [
    {
     "name": "stdout",
     "output_type": "stream",
     "text": [
      "Kolhapur\n",
      "Kolhapur\n",
      "Kolhapur\n",
      "Kolhapur\n"
     ]
    }
   ],
   "source": [
    "for i in 'pune':\n",
    "    print('Kolhapur')"
   ]
  },
  {
   "cell_type": "markdown",
   "id": "17523eb3",
   "metadata": {},
   "source": [
    "## 4.5.Membership Oerations"
   ]
  },
  {
   "cell_type": "code",
   "execution_count": 18,
   "id": "11a2dfd9",
   "metadata": {},
   "outputs": [
    {
     "data": {
      "text/plain": [
       "True"
      ]
     },
     "execution_count": 18,
     "metadata": {},
     "output_type": "execute_result"
    }
   ],
   "source": [
    "'H' in 'Hello'"
   ]
  },
  {
   "cell_type": "code",
   "execution_count": 19,
   "id": "a239d761",
   "metadata": {},
   "outputs": [
    {
     "data": {
      "text/plain": [
       "False"
      ]
     },
     "execution_count": 19,
     "metadata": {},
     "output_type": "execute_result"
    }
   ],
   "source": [
    "'k' in 'Kolhapur'  # Python is case sensitive"
   ]
  },
  {
   "cell_type": "code",
   "execution_count": 20,
   "id": "538b3901",
   "metadata": {},
   "outputs": [
    {
     "data": {
      "text/plain": [
       "True"
      ]
     },
     "execution_count": 20,
     "metadata": {},
     "output_type": "execute_result"
    }
   ],
   "source": [
    "'O' not in 'World'"
   ]
  },
  {
   "cell_type": "markdown",
   "id": "3c0860c4",
   "metadata": {},
   "source": [
    "# 5.String Functions"
   ]
  },
  {
   "cell_type": "markdown",
   "id": "a64f0471",
   "metadata": {},
   "source": [
    "## 5.1.Common Functions\n",
    "\n",
    "- len\n",
    "- min\n",
    "- max\n",
    "- sorted"
   ]
  },
  {
   "cell_type": "code",
   "execution_count": 21,
   "id": "626a79f6",
   "metadata": {},
   "outputs": [
    {
     "data": {
      "text/plain": [
       "11"
      ]
     },
     "execution_count": 21,
     "metadata": {},
     "output_type": "execute_result"
    }
   ],
   "source": [
    "len('Hello World')"
   ]
  },
  {
   "cell_type": "code",
   "execution_count": 22,
   "id": "8f4f6a02",
   "metadata": {},
   "outputs": [
    {
     "data": {
      "text/plain": [
       "' '"
      ]
     },
     "execution_count": 22,
     "metadata": {},
     "output_type": "execute_result"
    }
   ],
   "source": [
    "min('Hello World')  # Based on ascii value"
   ]
  },
  {
   "cell_type": "code",
   "execution_count": 23,
   "id": "de14d831",
   "metadata": {},
   "outputs": [
    {
     "data": {
      "text/plain": [
       "'r'"
      ]
     },
     "execution_count": 23,
     "metadata": {},
     "output_type": "execute_result"
    }
   ],
   "source": [
    "max('Hello World')  # Based on ascii value"
   ]
  },
  {
   "cell_type": "code",
   "execution_count": 24,
   "id": "e0c5afe8",
   "metadata": {},
   "outputs": [
    {
     "name": "stdout",
     "output_type": "stream",
     "text": [
      "[' ', 'H', 'W', 'd', 'e', 'l', 'l', 'l', 'o', 'o', 'r']\n",
      "['r', 'o', 'o', 'l', 'l', 'l', 'e', 'd', 'W', 'H', ' ']\n"
     ]
    }
   ],
   "source": [
    "# Ascending Order\n",
    "print(sorted('Hello World'))\n",
    "\n",
    "# Descending Order\n",
    "print(sorted('Hello World', reverse=True))"
   ]
  },
  {
   "cell_type": "markdown",
   "id": "86fda45a",
   "metadata": {},
   "source": [
    "## 5.2.Special Functions\n",
    "\n",
    "### 5.2.1.Capitalize/Title/Upper/Lower/Swapcase"
   ]
  },
  {
   "cell_type": "code",
   "execution_count": 25,
   "id": "8a40cd61",
   "metadata": {},
   "outputs": [
    {
     "data": {
      "text/plain": [
       "'I am currently working on a new project.'"
      ]
     },
     "execution_count": 25,
     "metadata": {},
     "output_type": "execute_result"
    }
   ],
   "source": [
    "s = 'I am currently working on a new project.'\n",
    "s.capitalize()"
   ]
  },
  {
   "cell_type": "code",
   "execution_count": 26,
   "id": "1b29fbab",
   "metadata": {},
   "outputs": [
    {
     "data": {
      "text/plain": [
       "'I Am Currently Working On A New Project.'"
      ]
     },
     "execution_count": 26,
     "metadata": {},
     "output_type": "execute_result"
    }
   ],
   "source": [
    "s.title()"
   ]
  },
  {
   "cell_type": "code",
   "execution_count": 27,
   "id": "a828f22e",
   "metadata": {},
   "outputs": [
    {
     "data": {
      "text/plain": [
       "'I AM CURRENTLY WORKING ON A NEW PROJECT.'"
      ]
     },
     "execution_count": 27,
     "metadata": {},
     "output_type": "execute_result"
    }
   ],
   "source": [
    "s.upper()"
   ]
  },
  {
   "cell_type": "code",
   "execution_count": 28,
   "id": "5af080d8",
   "metadata": {},
   "outputs": [
    {
     "data": {
      "text/plain": [
       "'i am currently working on a new project.'"
      ]
     },
     "execution_count": 28,
     "metadata": {},
     "output_type": "execute_result"
    }
   ],
   "source": [
    "s.lower()"
   ]
  },
  {
   "cell_type": "code",
   "execution_count": 29,
   "id": "fc234ae4",
   "metadata": {},
   "outputs": [
    {
     "data": {
      "text/plain": [
       "'gOoD mOrNiNg'"
      ]
     },
     "execution_count": 29,
     "metadata": {},
     "output_type": "execute_result"
    }
   ],
   "source": [
    "s = 'GoOd MoRnInG'\n",
    "s.swapcase()"
   ]
  },
  {
   "cell_type": "markdown",
   "id": "385873c2",
   "metadata": {},
   "source": [
    "### 5.2.2 Count/Find/Index"
   ]
  },
  {
   "cell_type": "code",
   "execution_count": 30,
   "id": "f91fb820",
   "metadata": {},
   "outputs": [
    {
     "data": {
      "text/plain": [
       "4"
      ]
     },
     "execution_count": 30,
     "metadata": {},
     "output_type": "execute_result"
    }
   ],
   "source": [
    "# count\n",
    "s = 'I am currently working on a new project.'\n",
    "s.count('r')"
   ]
  },
  {
   "cell_type": "code",
   "execution_count": 31,
   "id": "3aa0ebab",
   "metadata": {},
   "outputs": [
    {
     "data": {
      "text/plain": [
       "1"
      ]
     },
     "execution_count": 31,
     "metadata": {},
     "output_type": "execute_result"
    }
   ],
   "source": [
    "s.count('on')"
   ]
  },
  {
   "cell_type": "markdown",
   "id": "477252aa",
   "metadata": {},
   "source": [
    "Always use find instead of index"
   ]
  },
  {
   "cell_type": "code",
   "execution_count": 32,
   "id": "407ed941",
   "metadata": {},
   "outputs": [
    {
     "data": {
      "text/plain": [
       "15"
      ]
     },
     "execution_count": 32,
     "metadata": {},
     "output_type": "execute_result"
    }
   ],
   "source": [
    "# find\n",
    "s.find('working')"
   ]
  },
  {
   "cell_type": "code",
   "execution_count": 33,
   "id": "8a2303b9",
   "metadata": {},
   "outputs": [
    {
     "data": {
      "text/plain": [
       "-1"
      ]
     },
     "execution_count": 33,
     "metadata": {},
     "output_type": "execute_result"
    }
   ],
   "source": [
    "s.find('z')  # if character is not present then returns -1"
   ]
  },
  {
   "cell_type": "code",
   "execution_count": 34,
   "id": "fe5772f1",
   "metadata": {},
   "outputs": [
    {
     "data": {
      "text/plain": [
       "15"
      ]
     },
     "execution_count": 34,
     "metadata": {},
     "output_type": "execute_result"
    }
   ],
   "source": [
    "# index\n",
    "s.index('working')"
   ]
  },
  {
   "cell_type": "code",
   "execution_count": 35,
   "id": "eee754cc",
   "metadata": {},
   "outputs": [
    {
     "ename": "ValueError",
     "evalue": "substring not found",
     "output_type": "error",
     "traceback": [
      "\u001b[1;31m---------------------------------------------------------------------------\u001b[0m",
      "\u001b[1;31mValueError\u001b[0m                                Traceback (most recent call last)",
      "\u001b[1;32m~\\AppData\\Local\\Temp\\ipykernel_29164\\2804032357.py\u001b[0m in \u001b[0;36m<module>\u001b[1;34m\u001b[0m\n\u001b[1;32m----> 1\u001b[1;33m \u001b[0ms\u001b[0m\u001b[1;33m.\u001b[0m\u001b[0mindex\u001b[0m\u001b[1;33m(\u001b[0m\u001b[1;34m'x'\u001b[0m\u001b[1;33m)\u001b[0m \u001b[1;31m# throws an error if character is not present\u001b[0m\u001b[1;33m\u001b[0m\u001b[1;33m\u001b[0m\u001b[0m\n\u001b[0m",
      "\u001b[1;31mValueError\u001b[0m: substring not found"
     ]
    }
   ],
   "source": [
    "s.index('x') # throws an error if character is not present"
   ]
  },
  {
   "cell_type": "markdown",
   "id": "392de295",
   "metadata": {},
   "source": [
    "### 5.2.3 endswith/startswith"
   ]
  },
  {
   "cell_type": "code",
   "execution_count": 36,
   "id": "57d65006",
   "metadata": {},
   "outputs": [
    {
     "data": {
      "text/plain": [
       "True"
      ]
     },
     "execution_count": 36,
     "metadata": {},
     "output_type": "execute_result"
    }
   ],
   "source": [
    "s.endswith('.')"
   ]
  },
  {
   "cell_type": "code",
   "execution_count": 37,
   "id": "e9e226bc",
   "metadata": {},
   "outputs": [
    {
     "data": {
      "text/plain": [
       "False"
      ]
     },
     "execution_count": 37,
     "metadata": {},
     "output_type": "execute_result"
    }
   ],
   "source": [
    "s.startswith('i')"
   ]
  },
  {
   "cell_type": "markdown",
   "id": "ecbf3c96",
   "metadata": {},
   "source": [
    "### 5.2.4.Format"
   ]
  },
  {
   "cell_type": "code",
   "execution_count": 38,
   "id": "8642eb75",
   "metadata": {},
   "outputs": [
    {
     "data": {
      "text/plain": [
       "'Hello my name is SF and i am a male'"
      ]
     },
     "execution_count": 38,
     "metadata": {},
     "output_type": "execute_result"
    }
   ],
   "source": [
    "'Hello my name is {} and i am a {}'.format('SF', 'male')"
   ]
  },
  {
   "cell_type": "code",
   "execution_count": 39,
   "id": "94b0ac5f",
   "metadata": {},
   "outputs": [
    {
     "data": {
      "text/plain": [
       "'Hello my name is SF and i am a male'"
      ]
     },
     "execution_count": 39,
     "metadata": {},
     "output_type": "execute_result"
    }
   ],
   "source": [
    "'Hello my name is {1} and i am a {0}'.format('male', 'SF')"
   ]
  },
  {
   "cell_type": "markdown",
   "id": "73477732",
   "metadata": {},
   "source": [
    "### 5.2.5.isalnum/isalpha/isdecimal/isdigit/isidentifier"
   ]
  },
  {
   "cell_type": "code",
   "execution_count": 40,
   "id": "d4fdfa1e",
   "metadata": {},
   "outputs": [
    {
     "data": {
      "text/plain": [
       "True"
      ]
     },
     "execution_count": 40,
     "metadata": {},
     "output_type": "execute_result"
    }
   ],
   "source": [
    "c = 'Maruti800'\n",
    "c.isalnum()"
   ]
  },
  {
   "cell_type": "code",
   "execution_count": 41,
   "id": "74ccb236",
   "metadata": {},
   "outputs": [
    {
     "data": {
      "text/plain": [
       "True"
      ]
     },
     "execution_count": 41,
     "metadata": {},
     "output_type": "execute_result"
    }
   ],
   "source": [
    "c = 'Flat'\n",
    "c.isalpha()"
   ]
  },
  {
   "cell_type": "code",
   "execution_count": 42,
   "id": "54ec617d",
   "metadata": {},
   "outputs": [
    {
     "data": {
      "text/plain": [
       "True"
      ]
     },
     "execution_count": 42,
     "metadata": {},
     "output_type": "execute_result"
    }
   ],
   "source": [
    "c = '07'\n",
    "c.isdigit()"
   ]
  },
  {
   "cell_type": "code",
   "execution_count": 43,
   "id": "9d3982cd",
   "metadata": {},
   "outputs": [
    {
     "data": {
      "text/plain": [
       "True"
      ]
     },
     "execution_count": 43,
     "metadata": {},
     "output_type": "execute_result"
    }
   ],
   "source": [
    "c = 'Hello_World'\n",
    "c.isidentifier()"
   ]
  },
  {
   "cell_type": "markdown",
   "id": "f7ccdad0",
   "metadata": {},
   "source": [
    "### 5.2.6.Split/Join"
   ]
  },
  {
   "cell_type": "code",
   "execution_count": 44,
   "id": "e65524b3",
   "metadata": {},
   "outputs": [
    {
     "data": {
      "text/plain": [
       "['This', 'will', 'split', 'all', 'words', 'in', 'a', 'list']"
      ]
     },
     "execution_count": 44,
     "metadata": {},
     "output_type": "execute_result"
    }
   ],
   "source": [
    "# Split\n",
    "s = \"This will split all words in a list\"\n",
    "s.split()"
   ]
  },
  {
   "cell_type": "code",
   "execution_count": 45,
   "id": "a27f8ab7",
   "metadata": {},
   "outputs": [
    {
     "data": {
      "text/plain": [
       "['This will split all words ', ' a list']"
      ]
     },
     "execution_count": 45,
     "metadata": {},
     "output_type": "execute_result"
    }
   ],
   "source": [
    "s.split('in')"
   ]
  },
  {
   "cell_type": "code",
   "execution_count": 46,
   "id": "378a67c1",
   "metadata": {},
   "outputs": [
    {
     "data": {
      "text/plain": [
       "'This will split all words in a list'"
      ]
     },
     "execution_count": 46,
     "metadata": {},
     "output_type": "execute_result"
    }
   ],
   "source": [
    "# join\n",
    "\" \".join(['This', 'will', 'split', 'all', 'words', 'in', 'a', 'list'])"
   ]
  },
  {
   "cell_type": "code",
   "execution_count": 47,
   "id": "bbd85c9c",
   "metadata": {},
   "outputs": [
    {
     "data": {
      "text/plain": [
       "'This-will-split-all-words-in-a-list'"
      ]
     },
     "execution_count": 47,
     "metadata": {},
     "output_type": "execute_result"
    }
   ],
   "source": [
    "\"-\".join(['This', 'will', 'split', 'all', 'words', 'in', 'a', 'list'])"
   ]
  },
  {
   "cell_type": "markdown",
   "id": "0efbbce7",
   "metadata": {},
   "source": [
    "### 5.2.7 Replace"
   ]
  },
  {
   "cell_type": "code",
   "execution_count": 48,
   "id": "934742a2",
   "metadata": {},
   "outputs": [
    {
     "data": {
      "text/plain": [
       "'Good Morning'"
      ]
     },
     "execution_count": 48,
     "metadata": {},
     "output_type": "execute_result"
    }
   ],
   "source": [
    "s = 'Bad Morning'\n",
    "s.replace('Bad', 'Good')"
   ]
  },
  {
   "cell_type": "markdown",
   "id": "3038d4c0",
   "metadata": {},
   "source": [
    "### 5.2.8.Strip\n",
    "\n",
    "Strip removes leading and trailing spaces."
   ]
  },
  {
   "cell_type": "code",
   "execution_count": 49,
   "id": "5acfdc13",
   "metadata": {},
   "outputs": [
    {
     "data": {
      "text/plain": [
       "'xyz'"
      ]
     },
     "execution_count": 49,
     "metadata": {},
     "output_type": "execute_result"
    }
   ],
   "source": [
    "name = '            xyz         '\n",
    "name.strip()"
   ]
  },
  {
   "cell_type": "code",
   "execution_count": 50,
   "id": "ae8e798a",
   "metadata": {},
   "outputs": [
    {
     "name": "stdout",
     "output_type": "stream",
     "text": [
      "Alphabetic\n",
      "Order\n",
      "Program\n",
      "Sort\n",
      "in\n",
      "python\n",
      "to\n",
      "words\n"
     ]
    }
   ],
   "source": [
    "# Python Program to Sort Words in Alphabetic Order?\n",
    "\n",
    "myStr = \"python Program to Sort words in Alphabetic Order\"\n",
    "\n",
    "#breakdown the string into list of words\n",
    "words = myStr.split()\n",
    "\n",
    "#sort the list\n",
    "words.sort()\n",
    "\n",
    "#print Sorted words are\n",
    "for word in words:\n",
    "    print(word)"
   ]
  },
  {
   "cell_type": "code",
   "execution_count": 51,
   "id": "c5f797ae",
   "metadata": {},
   "outputs": [
    {
     "name": "stdout",
     "output_type": "stream",
     "text": [
      "Enter the string: hello, how are you?\n",
      "Hello, How Are You?\n"
     ]
    }
   ],
   "source": [
    "# Write a python program to convert a string to title case without using title()\n",
    "\n",
    "s = input('Enter the string: ')\n",
    "L = []\n",
    "\n",
    "for i in s.split():\n",
    "    L.append(i[0].upper()+i[1:].lower())\n",
    "print(\" \".join(L))"
   ]
  }
 ],
 "metadata": {
  "kernelspec": {
   "display_name": "Python 3 (ipykernel)",
   "language": "python",
   "name": "python3"
  },
  "language_info": {
   "codemirror_mode": {
    "name": "ipython",
    "version": 3
   },
   "file_extension": ".py",
   "mimetype": "text/x-python",
   "name": "python",
   "nbconvert_exporter": "python",
   "pygments_lexer": "ipython3",
   "version": "3.9.13"
  }
 },
 "nbformat": 4,
 "nbformat_minor": 5
}
