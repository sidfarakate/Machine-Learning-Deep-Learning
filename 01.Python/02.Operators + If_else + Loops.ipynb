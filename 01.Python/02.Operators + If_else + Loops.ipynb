{
 "cells": [
  {
   "cell_type": "markdown",
   "id": "41ba05b7",
   "metadata": {},
   "source": [
    "# 1.Operators"
   ]
  },
  {
   "cell_type": "markdown",
   "id": "49f6ae0c",
   "metadata": {},
   "source": [
    "Operators are used to perform operations on variables and values.Python has the following operators:\n",
    "\n",
    "1. Arithmetic Operators\n",
    "    \n",
    "2. Comparison (Relational) Operators\n",
    "\n",
    "3. Logical (Boolean) Operators\n",
    "\n",
    "4. Bitwise Operators\n",
    "\n",
    "5. Assignment Operators\n",
    "\n",
    "6. Identity Operators\n",
    "\n",
    "7. Membership Operators"
   ]
  },
  {
   "cell_type": "markdown",
   "id": "2660ce37",
   "metadata": {},
   "source": [
    "## 1.1. Arithmetic Operators\n",
    "\n",
    "Arithmetic operators are used to perform mathematical operations like addition, subtraction, multiplication etc.\n",
    "\n",
    "    + , -, *, /, %, //, **  are arithmetic operators"
   ]
  },
  {
   "cell_type": "code",
   "execution_count": 1,
   "id": "5293186e",
   "metadata": {},
   "outputs": [
    {
     "name": "stdout",
     "output_type": "stream",
     "text": [
      "16\n",
      "2\n",
      "63\n",
      "1.2857142857142858\n",
      "2\n",
      "1\n",
      "-8\n",
      "4782969\n"
     ]
    }
   ],
   "source": [
    "x, y = 9,7\n",
    "\n",
    "# Addition\n",
    "print(x + y)\n",
    "\n",
    "# Subtraction(-)\n",
    "print(x - y)\n",
    "\n",
    "# Multiplication(*)\n",
    "print(x * y)\n",
    "\n",
    "# Division(/)\n",
    "print(x / y)\n",
    "\n",
    "# Modulo Division (%)\n",
    "print(x % y)\n",
    "\n",
    "# Floor Division (//)\n",
    "print(x // y)\n",
    "print(-15 // 2)\n",
    "\n",
    "# Power Of (**)\n",
    "print(x ** y)"
   ]
  },
  {
   "cell_type": "markdown",
   "id": "f067e8c9",
   "metadata": {},
   "source": [
    "## 1.2. Comparison (Relational) Operators\n",
    "\n",
    "Comparison operators are used to compare values. It either returns True or False according to the condition.\n",
    "\n",
    "    >, <, ==, !=, >=, <= are comparision operators"
   ]
  },
  {
   "cell_type": "code",
   "execution_count": 2,
   "id": "506fe792",
   "metadata": {},
   "outputs": [
    {
     "name": "stdout",
     "output_type": "stream",
     "text": [
      "True\n",
      "False\n",
      "False\n",
      "True\n",
      "False\n",
      "True\n"
     ]
    }
   ],
   "source": [
    "a, b = 10, 20         \n",
    "\n",
    "print(a < b)  #check a is less than b\n",
    "\n",
    "print(a > b)  #check a is greater than b\n",
    "\n",
    "print(a == b)  #check a is equal to b\n",
    "\n",
    "print(a != b)  #check a is not equal to b (!=)\n",
    "\n",
    "print(a >= b)  #check a greater than or equal to b\n",
    "\n",
    "print(a <= b)  #check a less than or equal to b\n"
   ]
  },
  {
   "cell_type": "markdown",
   "id": "beb1e014",
   "metadata": {},
   "source": [
    "## 1.3. Logical (Boolean) Operators\n",
    "\n",
    "Logical operators are  **and, or, not** operators."
   ]
  },
  {
   "cell_type": "code",
   "execution_count": 3,
   "id": "f62c815a",
   "metadata": {},
   "outputs": [
    {
     "name": "stdout",
     "output_type": "stream",
     "text": [
      "False\n",
      "True\n",
      "True\n"
     ]
    }
   ],
   "source": [
    "x = True\n",
    "y = False\n",
    "\n",
    "print(x and y)\n",
    "print(x or y)\n",
    "print(not y)"
   ]
  },
  {
   "cell_type": "markdown",
   "id": "7ece98f6",
   "metadata": {},
   "source": [
    "## 1.4. Bitwise Operators\n",
    "\n",
    "Bitwise operators act on operands as if they were string of binary digits. It operates bit by bit\n",
    "\n",
    "    &,  |,  ~,  ^,  >>,  << are Bitwise operators"
   ]
  },
  {
   "cell_type": "code",
   "execution_count": 4,
   "id": "93903f10",
   "metadata": {},
   "outputs": [],
   "source": [
    "# 2 --> 010\n",
    "# 3 --> 011\n",
    "# ------------\n",
    "#       010 -----> 2"
   ]
  },
  {
   "cell_type": "code",
   "execution_count": 5,
   "id": "15779be0",
   "metadata": {},
   "outputs": [
    {
     "name": "stdout",
     "output_type": "stream",
     "text": [
      "2\n",
      "3\n",
      "-3\n",
      "1\n",
      "0\n",
      "16\n"
     ]
    }
   ],
   "source": [
    "a, b = 2, 3\n",
    "\n",
    "#Bitwise AND\n",
    "print(a & b)\n",
    "\n",
    "#Bitwise OR\n",
    "print(a | b)\n",
    "\n",
    "#Bitwise NOT\n",
    "print(~a)\n",
    "\n",
    "#Bitwise XOR\n",
    "print(a ^ b)\n",
    "\n",
    "#Bitwise rightshift\n",
    "print(a >> b)\n",
    "\n",
    "#Bitwise Leftshift\n",
    "print(a << b)"
   ]
  },
  {
   "cell_type": "markdown",
   "id": "edbe16f0",
   "metadata": {},
   "source": [
    "## 1.5. Assignment Operators\n",
    "\n",
    "Assignment operators are used in Python to assign values to variables.\n",
    "\n",
    "a = 5 is a simple assignment operator that assigns the value 5 on the right to the variable a on the left.\n",
    "\n",
    "    =,  +=,  -=,  *=,  /=,  %=,  //=,  **=, &=,  |=,  ^=,  >>=,  <<= are Assignment operators"
   ]
  },
  {
   "cell_type": "code",
   "execution_count": 6,
   "id": "2004c782",
   "metadata": {},
   "outputs": [],
   "source": [
    "a = 10\n",
    "\n",
    "# add AND (+=)\n",
    "a += 10         \n",
    "\n",
    "#subtract AND (-=)\n",
    "a -= 10\n",
    "\n",
    "#Multiply AND (*=)\n",
    "a *= 10\n",
    "\n",
    "#Divide AND (/=)\n",
    "a /= 10\n",
    "\n",
    "#Modulus AND (%=)\n",
    "a %= 10\n",
    "\n",
    "#Floor Division (//=)\n",
    "a //= 10\n",
    "\n",
    "#Exponent AND (**=)\n",
    "a **= 10"
   ]
  },
  {
   "cell_type": "markdown",
   "id": "830bf2a6",
   "metadata": {},
   "source": [
    "## 1.6. Identity Operators\n",
    "\n",
    "**is and is not** are the identity operators in Python. \n",
    "\n",
    "They are used to check if two values (or variables) are located on the same part of the memory."
   ]
  },
  {
   "cell_type": "code",
   "execution_count": 7,
   "id": "09ae92f5",
   "metadata": {},
   "outputs": [
    {
     "name": "stdout",
     "output_type": "stream",
     "text": [
      "True\n"
     ]
    }
   ],
   "source": [
    "a = 5\n",
    "b = 5\n",
    "print(a is b)    # a and b pointing to the same memory location"
   ]
  },
  {
   "cell_type": "code",
   "execution_count": 8,
   "id": "1f3998bb",
   "metadata": {},
   "outputs": [
    {
     "name": "stdout",
     "output_type": "stream",
     "text": [
      "False\n"
     ]
    }
   ],
   "source": [
    "l1 = [1, 2, 3]\n",
    "l2 = [1, 2, 3]\n",
    "print(l1 is l2)"
   ]
  },
  {
   "cell_type": "markdown",
   "id": "1e9386c2",
   "metadata": {},
   "source": [
    "## 1.7. Membership Operators\n",
    "\n",
    "**in and not in** are the membership operators in Python. \n",
    "    \n",
    "They are used to test whether a value or variable is found in a sequence (string, list, tuple, set and   dictionary)."
   ]
  },
  {
   "cell_type": "code",
   "execution_count": 9,
   "id": "ceb40698",
   "metadata": {},
   "outputs": [
    {
     "name": "stdout",
     "output_type": "stream",
     "text": [
      "True\n"
     ]
    }
   ],
   "source": [
    "lst = [1, 2, 3, 4]\n",
    "print(1 in lst)       #check 1 is present in a given list or not"
   ]
  },
  {
   "cell_type": "code",
   "execution_count": 10,
   "id": "cf16a516",
   "metadata": {},
   "outputs": [
    {
     "name": "stdout",
     "output_type": "stream",
     "text": [
      "True\n"
     ]
    }
   ],
   "source": [
    "# Only used for key values \n",
    "d = {1: \"a\", 2: \"b\"}\n",
    "print(1 in d)"
   ]
  },
  {
   "cell_type": "code",
   "execution_count": 11,
   "id": "9cbd2b5d",
   "metadata": {},
   "outputs": [
    {
     "name": "stdout",
     "output_type": "stream",
     "text": [
      "Enter a 3 digit number: 345\n",
      "12\n"
     ]
    }
   ],
   "source": [
    "# Find the sum of a 3 digit number entered by user\n",
    "\n",
    "num = int(input(\"Enter a 3 digit number: \"))\n",
    "\n",
    "a = num % 10 # ----> 345 % 10 = 5\n",
    "num = num // 10 # -----> 345 // 10 = 34 \n",
    "b  = num % 10 # ------> 34 % 10 = 4\n",
    "c = num // 10 # ------> 34 // 10 = 3\n",
    "\n",
    "print(a+b+c)"
   ]
  },
  {
   "cell_type": "markdown",
   "id": "4bf7aab2",
   "metadata": {},
   "source": [
    "# 2. If-Else Statement"
   ]
  },
  {
   "cell_type": "markdown",
   "id": "2dd20170",
   "metadata": {},
   "source": [
    "## 2.1.if statement syntax    \n",
    "    \n",
    "    if test expression:\n",
    "\n",
    "        statement(s)"
   ]
  },
  {
   "cell_type": "markdown",
   "id": "be04e38c",
   "metadata": {},
   "source": [
    "The program evaluates the test expression and will execute statement(s) only if the text expression is True.\n",
    "\n",
    "If the text expression is False, the statement(s) is not executed.\n",
    "\n",
    "Python interprets non-zero values as True. None and 0 are interpreted as False."
   ]
  },
  {
   "cell_type": "code",
   "execution_count": 12,
   "id": "e82ef07a",
   "metadata": {},
   "outputs": [
    {
     "name": "stdout",
     "output_type": "stream",
     "text": [
      "Number is positive\n",
      "This will print always\n"
     ]
    }
   ],
   "source": [
    "num = 10\n",
    "\n",
    "if num > 0:\n",
    "    print(\"Number is positive\")\n",
    "print(\"This will print always\")      #This print statement always print\n"
   ]
  },
  {
   "cell_type": "code",
   "execution_count": 13,
   "id": "5c4836d3",
   "metadata": {},
   "outputs": [
    {
     "name": "stdout",
     "output_type": "stream",
     "text": [
      "This will print always\n"
     ]
    }
   ],
   "source": [
    "# In python: 0, None and False considered as False and everything other than these are considered as True.\n",
    "num = 10\n",
    "\n",
    "if num-10:\n",
    "    print(\"Number is positive\")\n",
    "print(\"This will print always\") "
   ]
  },
  {
   "cell_type": "markdown",
   "id": "43bdbd42",
   "metadata": {},
   "source": [
    "## 2.2.if-else statement syntax\n",
    "\n",
    "    if test expression:\n",
    "    \n",
    "        Body of if\n",
    "\n",
    "    else: \n",
    "    \n",
    "        Body of else"
   ]
  },
  {
   "cell_type": "code",
   "execution_count": 14,
   "id": "ba0a81b6",
   "metadata": {},
   "outputs": [
    {
     "name": "stdout",
     "output_type": "stream",
     "text": [
      "Positive number\n"
     ]
    }
   ],
   "source": [
    "num = 10\n",
    "if num > 0:\n",
    "    print(\"Positive number\")\n",
    "else:\n",
    "    print(\"Negative Number\")"
   ]
  },
  {
   "cell_type": "code",
   "execution_count": 15,
   "id": "17ab5954",
   "metadata": {},
   "outputs": [
    {
     "name": "stdout",
     "output_type": "stream",
     "text": [
      "Enter the e-mail: abc@gmail.com\n",
      "Enter the Password: 1234\n",
      "Welcome\n"
     ]
    }
   ],
   "source": [
    "# Correct email = abc@gmail.com\n",
    "# correct password = 1234\n",
    "\n",
    "email =  input('Enter the e-mail: ')\n",
    "password = input('Enter the Password: ')\n",
    "\n",
    "if email == 'abc@gmail.com' and password == '1234':\n",
    "    print('Welcome')\n",
    "else:\n",
    "    print('Incorrect credentials')"
   ]
  },
  {
   "cell_type": "markdown",
   "id": "85fff590",
   "metadata": {},
   "source": [
    "## 2.3. if...elif...else statement syntax\n",
    "\n",
    "    if test expression:\n",
    "\n",
    "        Body of if\n",
    "    elif test expression:\n",
    "    \n",
    "        Body of elif\n",
    "    else: \n",
    "    \n",
    "        Body of else"
   ]
  },
  {
   "cell_type": "code",
   "execution_count": 16,
   "id": "e42af691",
   "metadata": {},
   "outputs": [
    {
     "name": "stdout",
     "output_type": "stream",
     "text": [
      "ZERO\n"
     ]
    }
   ],
   "source": [
    "num = 0\n",
    "\n",
    "if num > 0:\n",
    "    print(\"Positive number\")\n",
    "elif num == 0:\n",
    "    print(\"ZERO\")\n",
    "else:\n",
    "    print(\"Negative Number\")"
   ]
  },
  {
   "cell_type": "markdown",
   "id": "69dbc7c6",
   "metadata": {},
   "source": [
    "## 2.4.Nested if Statements\n",
    "\n",
    "We can have a if...elif...else statement inside another if...elif...else statement. This is called nesting in computer programming."
   ]
  },
  {
   "cell_type": "code",
   "execution_count": 17,
   "id": "9e0fab1d",
   "metadata": {},
   "outputs": [
    {
     "name": "stdout",
     "output_type": "stream",
     "text": [
      "Positive number\n"
     ]
    }
   ],
   "source": [
    "num = 10.5\n",
    "\n",
    "if num >= 0:\n",
    "    if num == 0:\n",
    "        print(\"Zero\")\n",
    "    else:\n",
    "        print(\"Positive number\")\n",
    "else:\n",
    "    print(\"Negative Number\")"
   ]
  },
  {
   "cell_type": "code",
   "execution_count": 18,
   "id": "1448da2c",
   "metadata": {},
   "outputs": [
    {
     "name": "stdout",
     "output_type": "stream",
     "text": [
      "Enter the e-mail: abc@gmail.com\n",
      "Enter the Password: 4567\n",
      "Incorrect Password\n",
      "Enter the Password: 1234\n",
      "Finally Correct\n"
     ]
    }
   ],
   "source": [
    "email =  input('Enter the e-mail: ')\n",
    "password = input('Enter the Password: ')\n",
    "\n",
    "if email == 'abc@gmail.com' and password == '1234':\n",
    "    print('Welcome')\n",
    "    \n",
    "elif email == 'abc@gmail.com' and password != '1234':\n",
    "    print('Incorrect Password')\n",
    "    password = input('Enter the Password: ')\n",
    "    if password == '1234':\n",
    "        print('Finally Correct')\n",
    "    else:\n",
    "        print('Incorrect Password')\n",
    "\n",
    "else:\n",
    "    print('Incorrect credentials')"
   ]
  },
  {
   "cell_type": "code",
   "execution_count": 19,
   "id": "5c9a6212",
   "metadata": {},
   "outputs": [
    {
     "name": "stdout",
     "output_type": "stream",
     "text": [
      "Largest element among three numbers is: 50\n"
     ]
    }
   ],
   "source": [
    "# Find the max of 3 given numbers\n",
    "\n",
    "num1 = 10\n",
    "num2 = 50\n",
    "num3 = 15\n",
    "\n",
    "if (num1 >= num2) and (num1 >= num3):           #logical operator   and\n",
    "    largest = num1\n",
    "elif (num2 >= num1) and (num2 >= num3):\n",
    "    largest = num2\n",
    "else:\n",
    "    largest = num3\n",
    "print(\"Largest element among three numbers is: {}\".format(largest))"
   ]
  },
  {
   "cell_type": "code",
   "execution_count": 20,
   "id": "8a9fc91c",
   "metadata": {},
   "outputs": [
    {
     "name": "stdout",
     "output_type": "stream",
     "text": [
      "Enter the first number7\n",
      "Enter the second number9\n",
      "Enter the operation: +\n",
      "16\n"
     ]
    }
   ],
   "source": [
    "# Menu driven calculator\n",
    "\n",
    "a = int(input('Enter the first number'))\n",
    "b = int(input('Enter the second number'))\n",
    "\n",
    "res = input('Enter the operation: ')\n",
    "\n",
    "if res == '+':\n",
    "    print(a + b)\n",
    "    \n",
    "elif res == '-':\n",
    "    print(a - b)\n",
    "\n",
    "elif res == '*':\n",
    "    print(a * b)\n",
    "    \n",
    "else:\n",
    "    print(a / b)"
   ]
  },
  {
   "cell_type": "markdown",
   "id": "2a167ae2",
   "metadata": {},
   "source": [
    "# 3.While loop\n",
    "\n",
    "The while loop in Python is used to iterate over a block of code as long as the test expression (condition) is true."
   ]
  },
  {
   "cell_type": "markdown",
   "id": "5f5d165e",
   "metadata": {},
   "source": [
    "## Syntax\n",
    "    \n",
    "    while test_expression:\n",
    "        \n",
    "        Body of while"
   ]
  },
  {
   "cell_type": "markdown",
   "id": "5481471d",
   "metadata": {},
   "source": [
    "The body of the loop is entered only if the test_expression evaluates to True. \n",
    "\n",
    "After one iteration, the test expression is checked again. \n",
    "\n",
    "This process continues until the test_expression evaluates to False."
   ]
  },
  {
   "cell_type": "code",
   "execution_count": 21,
   "id": "e99fbf08",
   "metadata": {},
   "outputs": [
    {
     "name": "stdout",
     "output_type": "stream",
     "text": [
      "Enter the number: 9\n",
      "9 x 1 = 9\n",
      "9 x 2 = 18\n",
      "9 x 3 = 27\n",
      "9 x 4 = 36\n",
      "9 x 5 = 45\n",
      "9 x 6 = 54\n",
      "9 x 7 = 63\n",
      "9 x 8 = 72\n",
      "9 x 9 = 81\n",
      "9 x 10 = 90\n"
     ]
    }
   ],
   "source": [
    "# Multiplication table \n",
    "\n",
    "num = int(input('Enter the number: '))\n",
    "\n",
    "i = 1\n",
    "while i < 11:\n",
    "    print(num, 'x', i, '=', num*i)\n",
    "    i += 1"
   ]
  },
  {
   "cell_type": "code",
   "execution_count": 22,
   "id": "4c14ed09",
   "metadata": {},
   "outputs": [
    {
     "name": "stdout",
     "output_type": "stream",
     "text": [
      "Product is 120\n"
     ]
    }
   ],
   "source": [
    "# Find product of all numbers present in a list\n",
    "\n",
    "lst = [1,2,3,4,5]\n",
    "\n",
    "idx = 0\n",
    "product = 1\n",
    "\n",
    "while idx < len(lst):\n",
    "    product *= lst[idx]\n",
    "    idx += 1\n",
    "    \n",
    "print('Product is {}'.format(product))"
   ]
  },
  {
   "cell_type": "markdown",
   "id": "e1590c07",
   "metadata": {},
   "source": [
    "## 3.1.while Loop with else\n",
    "\n",
    "Same as that of for loop, we can have an optional else block with while loop as well.\n",
    "\n",
    "The else part is executed if the condition in the while loop evaluates to False. The while loop can be terminated with a break statement.\n",
    "\n",
    "In such case, the else part is ignored. Hence, a while loop's else part runs if no break occurs and the condition is false."
   ]
  },
  {
   "cell_type": "code",
   "execution_count": 23,
   "id": "f7348b2c",
   "metadata": {},
   "outputs": [
    {
     "name": "stdout",
     "output_type": "stream",
     "text": [
      "1\n",
      "2\n",
      "3\n",
      "Limit Crossed\n"
     ]
    }
   ],
   "source": [
    "x = 1\n",
    "\n",
    "while x <= 3:\n",
    "    print(x)\n",
    "    x += 1\n",
    "\n",
    "else:\n",
    "    print('Limit Crossed')"
   ]
  },
  {
   "cell_type": "code",
   "execution_count": 24,
   "id": "c4b1a4e8",
   "metadata": {},
   "outputs": [
    {
     "name": "stdout",
     "output_type": "stream",
     "text": [
      "1\n",
      "2\n",
      "3\n",
      "4\n",
      "5\n",
      "no item left in the list\n"
     ]
    }
   ],
   "source": [
    "numbers = [1, 2, 3,4,5]\n",
    "\n",
    "#iterating over the list\n",
    "index = 0\n",
    "while index < len(numbers):\n",
    "    print(numbers[index])\n",
    "    index += 1\n",
    "    \n",
    "else:\n",
    "    print(\"no item left in the list\")"
   ]
  },
  {
   "cell_type": "markdown",
   "id": "54bb6348",
   "metadata": {},
   "source": [
    "## 3.2.Guessing game in Python"
   ]
  },
  {
   "cell_type": "code",
   "execution_count": 25,
   "id": "17f1f40f",
   "metadata": {},
   "outputs": [
    {
     "data": {
      "text/plain": [
       "42"
      ]
     },
     "execution_count": 25,
     "metadata": {},
     "output_type": "execute_result"
    }
   ],
   "source": [
    "import random \n",
    "random.randint(1,100)"
   ]
  },
  {
   "cell_type": "code",
   "execution_count": 26,
   "id": "2675f3be",
   "metadata": {},
   "outputs": [
    {
     "name": "stdout",
     "output_type": "stream",
     "text": [
      "Guess the Number: 50\n",
      "Guess Higher\n",
      "Guess the Number: 70\n",
      "Guess Lower\n",
      "Guess the Number: 60\n",
      "Guess Lower\n",
      "Guess the Number: 55\n",
      "Guess Higher\n",
      "Guess the Number: 58\n",
      "Correct\n",
      "You took 5 attempts.\n"
     ]
    }
   ],
   "source": [
    "jackpot = random.randint(1,100)\n",
    "\n",
    "guess = int(input('Guess the Number: '))\n",
    "count = 1\n",
    "\n",
    "while guess != jackpot:\n",
    "    if guess < jackpot:\n",
    "        print('Guess Higher')\n",
    "    else:\n",
    "        print('Guess Lower')\n",
    "        \n",
    "    guess = int(input('Guess the Number: '))\n",
    "    count += 1\n",
    "    \n",
    "print('Correct')\n",
    "print('You took', count, 'attempts.')"
   ]
  },
  {
   "cell_type": "markdown",
   "id": "40cac693",
   "metadata": {},
   "source": [
    "# 4. For loop\n",
    "\n",
    "The for loop in Python is used to iterate over a sequence (list, tuple, string) or other iterable objects. \n",
    "    \n",
    "Iterating over a sequence is called traversal."
   ]
  },
  {
   "cell_type": "markdown",
   "id": "5db4f8b1",
   "metadata": {},
   "source": [
    "## Syntax\n",
    "\n",
    "    for element in sequence :\n",
    "\n",
    "        Body of for"
   ]
  },
  {
   "cell_type": "markdown",
   "id": "cd4cf0a3",
   "metadata": {},
   "source": [
    "Here, element is the variable that takes the value of the item inside the sequence on each iteration.\n",
    "\n",
    "Loop continues until we reach the last item in the sequence. "
   ]
  },
  {
   "cell_type": "code",
   "execution_count": 27,
   "id": "2cc19e89",
   "metadata": {},
   "outputs": [
    {
     "name": "stdout",
     "output_type": "stream",
     "text": [
      "Product is: 6000\n"
     ]
    }
   ],
   "source": [
    "#Find product of all numbers present in a list\n",
    "\n",
    "lst = [10, 20, 30]\n",
    "\n",
    "product = 1\n",
    "#iterating over the list\n",
    "for ele in lst:\n",
    "    product *= ele\n",
    "\n",
    "print(\"Product is: {}\".format(product))"
   ]
  },
  {
   "cell_type": "markdown",
   "id": "6c058340",
   "metadata": {},
   "source": [
    "## range() function\n",
    "\n",
    "We can generate a sequence of numbers using range() function. range(10) will generate numbers from 0 to 9 (10 numbers).\n",
    "\n",
    "We can also define the start, stop and step size as range(start,stop,step size). step size defaults to 1 if not provided.\n",
    "\n",
    "This function does not store all the values in memory, it would be inefficient. So it remembers the start, stop, step size and generates the next number on the go."
   ]
  },
  {
   "cell_type": "code",
   "execution_count": 28,
   "id": "711e446c",
   "metadata": {},
   "outputs": [
    {
     "name": "stdout",
     "output_type": "stream",
     "text": [
      "0\n",
      "1\n",
      "2\n",
      "3\n",
      "4\n",
      "5\n",
      "6\n",
      "7\n",
      "8\n",
      "9\n"
     ]
    }
   ],
   "source": [
    "# print range of 10\n",
    "for i in range(10):\n",
    "    print(i)"
   ]
  },
  {
   "cell_type": "code",
   "execution_count": 29,
   "id": "a11ca895",
   "metadata": {},
   "outputs": [
    {
     "name": "stdout",
     "output_type": "stream",
     "text": [
      "0\n",
      "2\n",
      "4\n",
      "6\n",
      "8\n",
      "10\n",
      "12\n",
      "14\n",
      "16\n",
      "18\n"
     ]
    }
   ],
   "source": [
    "# print range of numbers from 1 to 20 with step size of 2\n",
    "for i in range(0, 20, 2):\n",
    "    print(i)"
   ]
  },
  {
   "cell_type": "code",
   "execution_count": 30,
   "id": "d9964e21",
   "metadata": {},
   "outputs": [
    {
     "name": "stdout",
     "output_type": "stream",
     "text": [
      "Kolhapur\n",
      "Pune\n",
      "Mumbai\n",
      "Hyderabad\n"
     ]
    }
   ],
   "source": [
    "# Sequence\n",
    "\n",
    "a = ['Kolhapur', 'Pune', 'Mumbai', 'Hyderabad']\n",
    "\n",
    "for i in a:\n",
    "    print(i)"
   ]
  },
  {
   "cell_type": "code",
   "execution_count": 31,
   "id": "ad3e7f0e",
   "metadata": {},
   "outputs": [
    {
     "name": "stdout",
     "output_type": "stream",
     "text": [
      "Kolhapur\n",
      "Pune\n",
      "Mumbai\n",
      "Hyderabad\n"
     ]
    }
   ],
   "source": [
    "# iterate over the list using index\n",
    "\n",
    "for i in range(len(a)):\n",
    "    print(a[i])"
   ]
  },
  {
   "cell_type": "markdown",
   "id": "160c065c",
   "metadata": {},
   "source": [
    "## for loop with else\n",
    "\n",
    "A for loop can have an optional else block as well. The else part is executed if the items in the sequence used in for loop exhausts.\n",
    "\n",
    "break statement can be used to stop a for loop. In such case, the else part is ignored.\n",
    "\n",
    "Hence, a for loop's else part runs if no break occurs."
   ]
  },
  {
   "cell_type": "code",
   "execution_count": 32,
   "id": "f6219183",
   "metadata": {},
   "outputs": [
    {
     "name": "stdout",
     "output_type": "stream",
     "text": [
      "1\n",
      "2\n",
      "3\n",
      "no item left in the list\n"
     ]
    }
   ],
   "source": [
    "numbers = [1, 2, 3]\n",
    "\n",
    "#iterating over the list\n",
    "for item in numbers:\n",
    "    print(item)\n",
    "else:\n",
    "    print(\"no item left in the list\")"
   ]
  },
  {
   "cell_type": "code",
   "execution_count": 33,
   "id": "ad2e563b",
   "metadata": {},
   "outputs": [
    {
     "name": "stdout",
     "output_type": "stream",
     "text": [
      "1\n",
      "2\n"
     ]
    }
   ],
   "source": [
    "for item in numbers:\n",
    "    print(item)\n",
    "    if item % 2 == 0:\n",
    "        break\n",
    "else:\n",
    "    print(\"no item left in the list\")"
   ]
  },
  {
   "cell_type": "code",
   "execution_count": 34,
   "id": "ee3f5593",
   "metadata": {},
   "outputs": [
    {
     "name": "stdout",
     "output_type": "stream",
     "text": [
      "10 10000\n",
      "9 9091\n",
      "8 8265\n",
      "7 7514\n",
      "6 6831\n",
      "5 6210\n",
      "4 5646\n",
      "3 5133\n",
      "2 4667\n",
      "1 4243\n"
     ]
    }
   ],
   "source": [
    "# The current population of a town is 10000. The population of the town is increasing at the rate of 10% per year. You have \n",
    "# to write a program to find out the population at the end of each of the last 10 years.\n",
    "import math\n",
    "\n",
    "current_pop = 10000\n",
    "for i in range(10,0,-1):\n",
    "    print(i, current_pop)\n",
    "    current_pop = math.ceil(current_pop/1.1)"
   ]
  },
  {
   "cell_type": "code",
   "execution_count": 35,
   "id": "2904d47f",
   "metadata": {},
   "outputs": [
    {
     "name": "stdout",
     "output_type": "stream",
     "text": [
      "Enter the number: 3\n"
     ]
    },
    {
     "data": {
      "text/plain": [
       "2.5"
      ]
     },
     "execution_count": 35,
     "metadata": {},
     "output_type": "execute_result"
    }
   ],
   "source": [
    "# Sequence Sum: 1/1! + 2/2! + 3/3! + ... \n",
    "\n",
    "n = int(input('Enter the number: '))\n",
    "seq = 0\n",
    "fact = 1\n",
    "\n",
    "for i in range(1, n+1):\n",
    "    fact *= i\n",
    "    seq += i/fact\n",
    "    \n",
    "seq"
   ]
  },
  {
   "cell_type": "markdown",
   "id": "65bb0359",
   "metadata": {},
   "source": [
    "## Nested loop"
   ]
  },
  {
   "cell_type": "code",
   "execution_count": 36,
   "id": "d7f2793c",
   "metadata": {},
   "outputs": [
    {
     "name": "stdout",
     "output_type": "stream",
     "text": [
      "Enter thr number of rows: 5\n",
      "*\n",
      "**\n",
      "***\n",
      "****\n",
      "*****\n"
     ]
    }
   ],
   "source": [
    "rows = int(input('Enter thr number of rows: '))\n",
    "\n",
    "for i in range(1, rows+1):\n",
    "    for j in range(1, i+1):\n",
    "        print('*', end='')\n",
    "    print()"
   ]
  },
  {
   "cell_type": "code",
   "execution_count": 37,
   "id": "91a376eb",
   "metadata": {},
   "outputs": [
    {
     "name": "stdout",
     "output_type": "stream",
     "text": [
      "Enter thr number of rows: 7\n",
      "1 \n",
      "1 2 1 \n",
      "1 2 3 2 1 \n",
      "1 2 3 4 3 2 1 \n",
      "1 2 3 4 5 4 3 2 1 \n",
      "1 2 3 4 5 6 5 4 3 2 1 \n",
      "1 2 3 4 5 6 7 6 5 4 3 2 1 \n"
     ]
    }
   ],
   "source": [
    "rows = int(input('Enter thr number of rows: '))\n",
    "\n",
    "for i in range(1, rows+1):\n",
    "    for j in range(1, i+1):\n",
    "        print(j, end=' ')\n",
    "        \n",
    "    for k in range(i-1, 0, -1):\n",
    "        print(k, end=' ')\n",
    "    print()"
   ]
  },
  {
   "cell_type": "markdown",
   "id": "421911f0",
   "metadata": {},
   "source": [
    "# 5.Break, Continue and Pass statements\n",
    "\n",
    "In Python, break and continue statements can alter the flow of a normal loop.\n",
    "\n",
    "Loops iterate over a block of code until test expression is false, but sometimes we wish to terminate the current iteration or even the whole loop without cheking test expression.\n",
    "\n",
    "The break and continue statements are used in these cases."
   ]
  },
  {
   "cell_type": "code",
   "execution_count": 38,
   "id": "62f2c052",
   "metadata": {},
   "outputs": [
    {
     "name": "stdout",
     "output_type": "stream",
     "text": [
      "1\n",
      "2\n",
      "3\n",
      "4\n",
      "5\n",
      "6\n"
     ]
    }
   ],
   "source": [
    "# Break\n",
    "for i in range(1,11):\n",
    "    if i == 7:\n",
    "        break\n",
    "    print(i)"
   ]
  },
  {
   "cell_type": "code",
   "execution_count": 39,
   "id": "c643b1fb",
   "metadata": {},
   "outputs": [
    {
     "name": "stdout",
     "output_type": "stream",
     "text": [
      "Enter Lower Number: 10\n",
      "Enter Upper Number: 30\n",
      "11\n",
      "13\n",
      "17\n",
      "19\n",
      "23\n",
      "29\n"
     ]
    }
   ],
   "source": [
    "# Prime number\n",
    "lower = int(input('Enter Lower Number: '))\n",
    "upper = int(input('Enter Upper Number: '))\n",
    "\n",
    "for i in range(lower, upper+1):\n",
    "    for j in range(2, i):\n",
    "        if i % j == 0:\n",
    "            break\n",
    "    else:\n",
    "        print(i)"
   ]
  },
  {
   "cell_type": "code",
   "execution_count": 40,
   "id": "46e1d217",
   "metadata": {},
   "outputs": [
    {
     "name": "stdout",
     "output_type": "stream",
     "text": [
      "1\n",
      "2\n",
      "3\n",
      "4\n",
      "6\n",
      "7\n",
      "8\n",
      "9\n",
      "10\n"
     ]
    }
   ],
   "source": [
    "# Continue\n",
    "for i in range(1,11):\n",
    "    if i == 5:\n",
    "        continue\n",
    "    print(i)"
   ]
  },
  {
   "cell_type": "code",
   "execution_count": 41,
   "id": "5045f1a6",
   "metadata": {},
   "outputs": [],
   "source": [
    "# Pass works as a filler.\n",
    "for i in range(1,5):\n",
    "    pass"
   ]
  },
  {
   "cell_type": "markdown",
   "id": "77cc9ba4",
   "metadata": {},
   "source": [
    "# 6.Built-in Modules\n",
    "\n",
    "### What is modules?\n",
    "\n",
    "Consider a module to be the same as a code library.\n",
    "\n",
    "A file containing a set of functions you want to include in your application.\n",
    "\n",
    "Example of python modules\n",
    "- Math\n",
    "- Random\n",
    "- os\n",
    "- time"
   ]
  },
  {
   "cell_type": "code",
   "execution_count": 42,
   "id": "2572ceae",
   "metadata": {},
   "outputs": [],
   "source": [
    "# List of all the available modules\n",
    "# help('modules')"
   ]
  },
  {
   "cell_type": "code",
   "execution_count": 43,
   "id": "95733fd5",
   "metadata": {},
   "outputs": [
    {
     "data": {
      "text/plain": [
       "2.0"
      ]
     },
     "execution_count": 43,
     "metadata": {},
     "output_type": "execute_result"
    }
   ],
   "source": [
    "import math\n",
    "\n",
    "math.sqrt(4)"
   ]
  },
  {
   "cell_type": "code",
   "execution_count": 44,
   "id": "c9dc125e",
   "metadata": {},
   "outputs": [
    {
     "data": {
      "text/plain": [
       "7"
      ]
     },
     "execution_count": 44,
     "metadata": {},
     "output_type": "execute_result"
    }
   ],
   "source": [
    "import random\n",
    "\n",
    "random.randint(1,10)"
   ]
  },
  {
   "cell_type": "code",
   "execution_count": 45,
   "id": "e91562d5",
   "metadata": {},
   "outputs": [
    {
     "data": {
      "text/plain": [
       "1713331788.5904229"
      ]
     },
     "execution_count": 45,
     "metadata": {},
     "output_type": "execute_result"
    }
   ],
   "source": [
    "import time\n",
    "\n",
    "time.time()"
   ]
  },
  {
   "cell_type": "code",
   "execution_count": 46,
   "id": "581c4172",
   "metadata": {},
   "outputs": [
    {
     "data": {
      "text/plain": [
       "'Wed Apr 17 10:59:48 2024'"
      ]
     },
     "execution_count": 46,
     "metadata": {},
     "output_type": "execute_result"
    }
   ],
   "source": [
    "time.ctime()"
   ]
  },
  {
   "cell_type": "code",
   "execution_count": 47,
   "id": "ed4f50e5",
   "metadata": {},
   "outputs": [],
   "source": [
    "#import os\n",
    "\n",
    "#os.getcwd()"
   ]
  },
  {
   "cell_type": "code",
   "execution_count": 48,
   "id": "7c6195dc",
   "metadata": {},
   "outputs": [],
   "source": [
    "# os.listdir()"
   ]
  }
 ],
 "metadata": {
  "kernelspec": {
   "display_name": "Python 3 (ipykernel)",
   "language": "python",
   "name": "python3"
  },
  "language_info": {
   "codemirror_mode": {
    "name": "ipython",
    "version": 3
   },
   "file_extension": ".py",
   "mimetype": "text/x-python",
   "name": "python",
   "nbconvert_exporter": "python",
   "pygments_lexer": "ipython3",
   "version": "3.9.13"
  }
 },
 "nbformat": 4,
 "nbformat_minor": 5
}
