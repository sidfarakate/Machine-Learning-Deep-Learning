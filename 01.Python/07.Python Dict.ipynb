{
 "cells": [
  {
   "cell_type": "markdown",
   "id": "10f0010e",
   "metadata": {},
   "source": [
    "# Dictionary\n",
    "\n",
    "Dictionary in Python is a collection of keys values, used to store data values like a map, which, unlike other data types which hold only a single value as an element.\n",
    "\n",
    "In some languages it is known as map or assosiative arrays.\n",
    "\n",
    "dict = { 'name' : 'sid' , 'age' : 25 , 'gender' : 'male' }\n",
    "\n",
    "Characterstics:\n",
    "\n",
    "- Mutable\n",
    "- Indexing has no meaning\n",
    "- keys can't be duplicated\n",
    "- keys can't be mutable items\n"
   ]
  },
  {
   "cell_type": "markdown",
   "id": "596a9e98",
   "metadata": {},
   "source": [
    "## 1.Creating a DIct"
   ]
  },
  {
   "cell_type": "code",
   "execution_count": 1,
   "id": "4c75167c",
   "metadata": {},
   "outputs": [
    {
     "name": "stdout",
     "output_type": "stream",
     "text": [
      "{}\n",
      "--------------------------------------------------\n",
      "{'name': 'SF', 'gender': 'male'}\n",
      "--------------------------------------------------\n",
      "{(1, 2, 3): 1, 'hello': 'world'}\n",
      "--------------------------------------------------\n",
      "{'name': 'sid', 'college': 'kit', 'sem': 8, 'subjects': {'maths': 65, 'python': 75, 'sql': 86}}\n",
      "--------------------------------------------------\n",
      "{1: 1, 2: 2, 3: 3}\n",
      "--------------------------------------------------\n",
      "{'name': 'Sid'}\n",
      "--------------------------------------------------\n"
     ]
    },
    {
     "ename": "TypeError",
     "evalue": "unhashable type: 'list'",
     "output_type": "error",
     "traceback": [
      "\u001b[1;31m---------------------------------------------------------------------------\u001b[0m",
      "\u001b[1;31mTypeError\u001b[0m                                 Traceback (most recent call last)",
      "\u001b[1;32m~\\AppData\\Local\\Temp\\ipykernel_20612\\3872300271.py\u001b[0m in \u001b[0;36m<module>\u001b[1;34m\u001b[0m\n\u001b[0;32m     30\u001b[0m \u001b[1;33m\u001b[0m\u001b[0m\n\u001b[0;32m     31\u001b[0m \u001b[1;31m# mutable items as keys(not allowed)\u001b[0m\u001b[1;33m\u001b[0m\u001b[1;33m\u001b[0m\u001b[0m\n\u001b[1;32m---> 32\u001b[1;33m \u001b[0md6\u001b[0m \u001b[1;33m=\u001b[0m \u001b[1;33m{\u001b[0m\u001b[1;34m'name'\u001b[0m\u001b[1;33m:\u001b[0m\u001b[1;34m'svf'\u001b[0m\u001b[1;33m,\u001b[0m \u001b[1;33m[\u001b[0m\u001b[1;36m1\u001b[0m\u001b[1;33m,\u001b[0m\u001b[1;36m2\u001b[0m\u001b[1;33m,\u001b[0m\u001b[1;36m3\u001b[0m\u001b[1;33m]\u001b[0m\u001b[1;33m:\u001b[0m\u001b[1;36m1\u001b[0m\u001b[1;33m}\u001b[0m\u001b[1;33m\u001b[0m\u001b[1;33m\u001b[0m\u001b[0m\n\u001b[0m\u001b[0;32m     33\u001b[0m \u001b[0mprint\u001b[0m\u001b[1;33m(\u001b[0m\u001b[0md6\u001b[0m\u001b[1;33m)\u001b[0m\u001b[1;33m\u001b[0m\u001b[1;33m\u001b[0m\u001b[0m\n",
      "\u001b[1;31mTypeError\u001b[0m: unhashable type: 'list'"
     ]
    }
   ],
   "source": [
    "# empty dict\n",
    "d = {}\n",
    "print(d)\n",
    "print('-'*50)\n",
    "\n",
    "# 1d dict\n",
    "d1 = {'name':'SF', 'gender':'male'}\n",
    "print(d1)\n",
    "print('-'*50)\n",
    "\n",
    "# with mixed keys\n",
    "d2 = {(1,2,3):1, 'hello':'world'}\n",
    "print(d2)\n",
    "print('-'*50)\n",
    "\n",
    "# 2d dict\n",
    "d3 = {'name': 'sid', 'college': 'kit', 'sem': 8, 'subjects': {'maths':65, 'python':75, 'sql': 86}}\n",
    "print(d3)\n",
    "print('-'*50)\n",
    "\n",
    "# using dict\n",
    "d4 = dict([(1,1),(2,2),(3,3)])\n",
    "print(d4)\n",
    "print('-'*50)\n",
    "\n",
    "# duplicate keys(not allowed)\n",
    "d5 = {'name':'SVF', 'name':'Sid'}\n",
    "print(d5)\n",
    "print('-'*50)\n",
    "\n",
    "# mutable items as keys(not allowed)\n",
    "d6 = {'name':'svf', [1,2,3]:1}\n",
    "print(d6)"
   ]
  },
  {
   "cell_type": "markdown",
   "id": "38b181d7",
   "metadata": {},
   "source": [
    "## 2.Accessing items"
   ]
  },
  {
   "cell_type": "code",
   "execution_count": 2,
   "id": "84b7efba",
   "metadata": {},
   "outputs": [
    {
     "name": "stdout",
     "output_type": "stream",
     "text": [
      "a\n",
      "18\n"
     ]
    }
   ],
   "source": [
    "my_dict = {'name':'a', 'age':18}\n",
    "\n",
    "print(my_dict['name'])\n",
    "\n",
    "# get\n",
    "print(my_dict.get('age'))"
   ]
  },
  {
   "cell_type": "markdown",
   "id": "6c329ef7",
   "metadata": {},
   "source": [
    "## 3.Adding key-value pair "
   ]
  },
  {
   "cell_type": "code",
   "execution_count": 3,
   "id": "a764758a",
   "metadata": {},
   "outputs": [
    {
     "name": "stdout",
     "output_type": "stream",
     "text": [
      "{'name': 'a', 'age': 18, 'gender': 'male', ('weight', 'height'): (65, 175)}\n"
     ]
    }
   ],
   "source": [
    "my_dict['gender'] = 'male'\n",
    "\n",
    "my_dict['weight', 'height'] = 65, 175\n",
    "print(my_dict)"
   ]
  },
  {
   "cell_type": "markdown",
   "id": "cd78e9d3",
   "metadata": {},
   "source": [
    "## 4.Remove key:value pair"
   ]
  },
  {
   "cell_type": "code",
   "execution_count": 4,
   "id": "8f980601",
   "metadata": {},
   "outputs": [
    {
     "name": "stdout",
     "output_type": "stream",
     "text": [
      "{'name': 'sid', 'college': 'kit', 'subjects': {'maths': 65, 'python': 75, 'sql': 86}}\n",
      "{'name': 'sid', 'college': 'kit'}\n"
     ]
    }
   ],
   "source": [
    "d = {'name': 'sid', 'college': 'kit', 'sem': 8, 'subjects': {'maths':65, 'python':75, 'sql': 86}}\n",
    "\n",
    "# pop\n",
    "d.pop('sem')\n",
    "print(d)\n",
    "\n",
    "# popitem\n",
    "d.popitem()\n",
    "print(d)\n",
    "\n",
    "# del\n",
    "del d['college']\n",
    "\n",
    "# clear\n",
    "d.clear()"
   ]
  },
  {
   "cell_type": "markdown",
   "id": "6ae70549",
   "metadata": {},
   "source": [
    "## 5.Editing key:value pairs"
   ]
  },
  {
   "cell_type": "code",
   "execution_count": 5,
   "id": "5b553f6f",
   "metadata": {},
   "outputs": [
    {
     "name": "stdout",
     "output_type": "stream",
     "text": [
      "{'name': 'SVF', 'college': 'kit', 'sem': 8, 'subjects': {'maths': 65, 'python': 75, 'sql': 86}}\n"
     ]
    }
   ],
   "source": [
    "d = {'name': 'sid', 'college': 'kit', 'sem': 8, 'subjects': {'maths':65, 'python':75, 'sql': 86}}\n",
    "d['name'] = 'SVF'\n",
    "print(d)"
   ]
  },
  {
   "cell_type": "code",
   "execution_count": 6,
   "id": "668f201c",
   "metadata": {},
   "outputs": [
    {
     "name": "stdout",
     "output_type": "stream",
     "text": [
      "{'name': 'SVF', 'college': 'kit', 'sem': 8, 'subjects': {'maths': 65, 'python': 75, 'sql': 87}}\n"
     ]
    }
   ],
   "source": [
    "d['subjects']['sql'] = 87\n",
    "print(d)"
   ]
  },
  {
   "cell_type": "markdown",
   "id": "744974d6",
   "metadata": {},
   "source": [
    "## 6.Dictionary Operations\n",
    "- membership\n",
    "- Iteration"
   ]
  },
  {
   "cell_type": "code",
   "execution_count": 7,
   "id": "d1035ece",
   "metadata": {},
   "outputs": [
    {
     "data": {
      "text/plain": [
       "True"
      ]
     },
     "execution_count": 7,
     "metadata": {},
     "output_type": "execute_result"
    }
   ],
   "source": [
    "'name' in d # Membership operator works on keys"
   ]
  },
  {
   "cell_type": "code",
   "execution_count": 8,
   "id": "be9da244",
   "metadata": {},
   "outputs": [
    {
     "name": "stdout",
     "output_type": "stream",
     "text": [
      "name SVF\n",
      "college kit\n",
      "sem 8\n",
      "subjects {'maths': 65, 'python': 75, 'sql': 87}\n"
     ]
    }
   ],
   "source": [
    "for i in d:\n",
    "    print(i, d[i])"
   ]
  },
  {
   "cell_type": "markdown",
   "id": "28498b12",
   "metadata": {},
   "source": [
    "## 7.Dictionary Functions "
   ]
  },
  {
   "cell_type": "code",
   "execution_count": 9,
   "id": "3dae2000",
   "metadata": {},
   "outputs": [
    {
     "name": "stdout",
     "output_type": "stream",
     "text": [
      "4\n",
      "['college', 'name', 'sem', 'subjects']\n",
      "college\n",
      "subjects\n"
     ]
    }
   ],
   "source": [
    "# len/sorted/min/max\n",
    "print(len(d))\n",
    "\n",
    "print(sorted(d))\n",
    "\n",
    "print(min(d))\n",
    "\n",
    "print(max(d))"
   ]
  },
  {
   "cell_type": "code",
   "execution_count": 10,
   "id": "b7a76e17",
   "metadata": {},
   "outputs": [
    {
     "name": "stdout",
     "output_type": "stream",
     "text": [
      "dict_items([('name', 'SVF'), ('college', 'kit'), ('sem', 8), ('subjects', {'maths': 65, 'python': 75, 'sql': 87})])\n",
      "dict_keys(['name', 'college', 'sem', 'subjects'])\n",
      "dict_values(['SVF', 'kit', 8, {'maths': 65, 'python': 75, 'sql': 87}])\n"
     ]
    }
   ],
   "source": [
    "# items/keys/values\n",
    "print(d.items())\n",
    "print(d.keys())\n",
    "print(d.values())"
   ]
  },
  {
   "cell_type": "code",
   "execution_count": 11,
   "id": "2366f63b",
   "metadata": {},
   "outputs": [],
   "source": [
    "# update\n",
    "d1 = {1:2, 2:3, 3:4}\n",
    "d2 = {3:5, 6:7}\n",
    "\n",
    "d1.update(d2)"
   ]
  },
  {
   "cell_type": "code",
   "execution_count": 12,
   "id": "7aefd334",
   "metadata": {},
   "outputs": [
    {
     "name": "stdout",
     "output_type": "stream",
     "text": [
      "{1: 2, 2: 3, 3: 5, 6: 7}\n"
     ]
    }
   ],
   "source": [
    "print(d1)"
   ]
  },
  {
   "cell_type": "markdown",
   "id": "3554d77b",
   "metadata": {},
   "source": [
    "## 8.Dictionary Comprehension"
   ]
  },
  {
   "cell_type": "code",
   "execution_count": 13,
   "id": "737743bb",
   "metadata": {},
   "outputs": [
    {
     "data": {
      "text/plain": [
       "{1: 1, 2: 4, 3: 9, 4: 16, 5: 25, 6: 36, 7: 49, 8: 64, 9: 81, 10: 100}"
      ]
     },
     "execution_count": 13,
     "metadata": {},
     "output_type": "execute_result"
    }
   ],
   "source": [
    "# print first 10 numbers and their squares\n",
    "{i:i**2 for i in range(1,11)}"
   ]
  },
  {
   "cell_type": "code",
   "execution_count": 14,
   "id": "6e53a93f",
   "metadata": {},
   "outputs": [
    {
     "data": {
      "text/plain": [
       "{'pune': 230.0, 'mumbai': 440.0, 'hyderabad': 750.0}"
      ]
     },
     "execution_count": 14,
     "metadata": {},
     "output_type": "execute_result"
    }
   ],
   "source": [
    "# using existing dict\n",
    "distances = {'pune':230000, 'mumbai':440000, 'hyderabad':750000}\n",
    "\n",
    "{key:value/1000 for (key,value) in distances.items()}"
   ]
  },
  {
   "cell_type": "code",
   "execution_count": 15,
   "id": "7e344a26",
   "metadata": {},
   "outputs": [
    {
     "data": {
      "text/plain": [
       "{'Sunday': 30.5,\n",
       " 'Monday': 32.6,\n",
       " 'Tuesday': 31.8,\n",
       " 'Wednesday': 33.4,\n",
       " 'Thursday': 29.8,\n",
       " 'Friday': 30.2,\n",
       " 'Saturday': 29.9}"
      ]
     },
     "execution_count": 15,
     "metadata": {},
     "output_type": "execute_result"
    }
   ],
   "source": [
    "# using zip\n",
    "days = ['Sunday', 'Monday', 'Tuesday', 'Wednesday', 'Thursday', 'Friday', 'Saturday']\n",
    "temp_C = [30.5, 32.6, 31.8, 33.4, 29.8, 30.2, 29.9]\n",
    "\n",
    "{i:j for i, j in zip(days, temp_C)}"
   ]
  },
  {
   "cell_type": "code",
   "execution_count": 16,
   "id": "95b8948d",
   "metadata": {},
   "outputs": [
    {
     "data": {
      "text/plain": [
       "{'phone': 10, 'Charger': 32}"
      ]
     },
     "execution_count": 16,
     "metadata": {},
     "output_type": "execute_result"
    }
   ],
   "source": [
    "# Using if condition\n",
    "products = {'phone':10, 'Laptop':0, 'Charger':32, 'Tablet':0}\n",
    "\n",
    "{i:j for (i,j) in products.items() if j != 0}"
   ]
  },
  {
   "cell_type": "code",
   "execution_count": 17,
   "id": "78f73f75",
   "metadata": {},
   "outputs": [
    {
     "data": {
      "text/plain": [
       "{2: {1: 2, 2: 4, 3: 6, 4: 8, 5: 10, 6: 12, 7: 14, 8: 16, 9: 18, 10: 20},\n",
       " 3: {1: 3, 2: 6, 3: 9, 4: 12, 5: 15, 6: 18, 7: 21, 8: 24, 9: 27, 10: 30},\n",
       " 4: {1: 4, 2: 8, 3: 12, 4: 16, 5: 20, 6: 24, 7: 28, 8: 32, 9: 36, 10: 40}}"
      ]
     },
     "execution_count": 17,
     "metadata": {},
     "output_type": "execute_result"
    }
   ],
   "source": [
    "# Nested Comprehension\n",
    "# print tables of numbers from 2 to 4\n",
    "\n",
    "{i:{j:i*j for j in range(1,11)} for i in range(2,5)}"
   ]
  }
 ],
 "metadata": {
  "kernelspec": {
   "display_name": "Python 3 (ipykernel)",
   "language": "python",
   "name": "python3"
  },
  "language_info": {
   "codemirror_mode": {
    "name": "ipython",
    "version": 3
   },
   "file_extension": ".py",
   "mimetype": "text/x-python",
   "name": "python",
   "nbconvert_exporter": "python",
   "pygments_lexer": "ipython3",
   "version": "3.9.13"
  }
 },
 "nbformat": 4,
 "nbformat_minor": 5
}
