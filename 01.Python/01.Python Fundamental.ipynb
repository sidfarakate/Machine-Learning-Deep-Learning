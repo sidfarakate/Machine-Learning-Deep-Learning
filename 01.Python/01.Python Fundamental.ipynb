{
 "cells": [
  {
   "cell_type": "markdown",
   "id": "5c2458d8",
   "metadata": {},
   "source": [
    "# Why Python for Data Science?\n",
    "\n",
    "1. Easy to learn.\n",
    "2. Best packages for AI: Matplotlib, Pandas, Numpy, Scikit-learn, Tensorflow, Keras etc.\n",
    "3. IPython notebooks for interactive data analysis and modelling.\n",
    "4. Extensively used in industry."
   ]
  },
  {
   "cell_type": "markdown",
   "id": "b117e06f",
   "metadata": {},
   "source": [
    "# 1. Python Output"
   ]
  },
  {
   "cell_type": "code",
   "execution_count": 1,
   "id": "09bacf5e",
   "metadata": {},
   "outputs": [
    {
     "name": "stdout",
     "output_type": "stream",
     "text": [
      "Hello World\n"
     ]
    }
   ],
   "source": [
    "# Python is a case sensitive language\n",
    "print('Hello World')"
   ]
  },
  {
   "cell_type": "markdown",
   "id": "d79fccf8",
   "metadata": {},
   "source": [
    "Function Reference: <br>\n",
    "print(value, ..., sep=' ', end='\\n', file=sys.stdout, flush=False)"
   ]
  },
  {
   "cell_type": "code",
   "execution_count": 2,
   "id": "715db487",
   "metadata": {},
   "outputs": [
    {
     "name": "stdout",
     "output_type": "stream",
     "text": [
      "7.9\n"
     ]
    }
   ],
   "source": [
    "print(7.9)"
   ]
  },
  {
   "cell_type": "code",
   "execution_count": 3,
   "id": "bbe8abde",
   "metadata": {},
   "outputs": [
    {
     "name": "stdout",
     "output_type": "stream",
     "text": [
      "True\n"
     ]
    }
   ],
   "source": [
    "print(True)"
   ]
  },
  {
   "cell_type": "code",
   "execution_count": 4,
   "id": "baf7bc96",
   "metadata": {},
   "outputs": [
    {
     "name": "stdout",
     "output_type": "stream",
     "text": [
      "India Italy Argentina\n"
     ]
    }
   ],
   "source": [
    "print('India', 'Italy', 'Argentina')"
   ]
  },
  {
   "cell_type": "code",
   "execution_count": 5,
   "id": "cff156f5",
   "metadata": {},
   "outputs": [
    {
     "name": "stdout",
     "output_type": "stream",
     "text": [
      "India-Italy-Argentina\n"
     ]
    }
   ],
   "source": [
    "print('India', 'Italy', 'Argentina', sep='-')"
   ]
  },
  {
   "cell_type": "code",
   "execution_count": 6,
   "id": "5818f757",
   "metadata": {},
   "outputs": [
    {
     "name": "stdout",
     "output_type": "stream",
     "text": [
      "Hello\n",
      "World\n"
     ]
    }
   ],
   "source": [
    "# world print at the 2nd line because by default the value of end= '\\n'\n",
    "print('Hello')\n",
    "print('World') "
   ]
  },
  {
   "cell_type": "code",
   "execution_count": 7,
   "id": "ce223164",
   "metadata": {},
   "outputs": [
    {
     "name": "stdout",
     "output_type": "stream",
     "text": [
      "Hello World\n"
     ]
    }
   ],
   "source": [
    "# If we want the output in same line\n",
    "print('Hello', end=' ')\n",
    "print('World')"
   ]
  },
  {
   "cell_type": "markdown",
   "id": "3fdf1010",
   "metadata": {},
   "source": [
    "# 2.Python Comments\n",
    "\n",
    "Comments are lines that exist in computer programs that are ignored by compilers and interpreters. \n",
    "\n",
    "Including comments in programs makes code more readable for humans as it provides some information or explanation about what each part of a program is doing.\n",
    "\n",
    "In general, it is a good idea to write comments while you are writing or updating a program as it is easy to forget your thought process later on, and comments written later may be less useful in the long term. "
   ]
  },
  {
   "cell_type": "markdown",
   "id": "0e9ec6aa",
   "metadata": {},
   "source": [
    "In Python, we use the hash (#) symbol to start writing a comment."
   ]
  },
  {
   "cell_type": "code",
   "execution_count": 8,
   "id": "d1a04910",
   "metadata": {},
   "outputs": [
    {
     "name": "stdout",
     "output_type": "stream",
     "text": [
      "Hello, world\n"
     ]
    }
   ],
   "source": [
    "#Print Hello, world to console\n",
    "print(\"Hello, world\")"
   ]
  },
  {
   "cell_type": "markdown",
   "id": "728595f6",
   "metadata": {},
   "source": [
    "### Multi Line Comments\n",
    "\n",
    "If we have comments that extend multiple lines, one way of doing it is to use hash (#) in the beginning of each line."
   ]
  },
  {
   "cell_type": "code",
   "execution_count": 9,
   "id": "53e7f3e0",
   "metadata": {},
   "outputs": [],
   "source": [
    "#This is a long comment\n",
    "#and it extends \n",
    "#Multiple lines"
   ]
  },
  {
   "cell_type": "markdown",
   "id": "e450d829",
   "metadata": {},
   "source": [
    "Another way of doing this is to use triple quotes, either ''' or \"\"\"."
   ]
  },
  {
   "cell_type": "code",
   "execution_count": 10,
   "id": "8065748a",
   "metadata": {},
   "outputs": [
    {
     "data": {
      "text/plain": [
       "'This is also a\\nperfect example of\\nmulti-line comments'"
      ]
     },
     "execution_count": 10,
     "metadata": {},
     "output_type": "execute_result"
    }
   ],
   "source": [
    "\"\"\"This is also a\n",
    "perfect example of\n",
    "multi-line comments\"\"\""
   ]
  },
  {
   "cell_type": "markdown",
   "id": "fab25c76",
   "metadata": {},
   "source": [
    "# 3.Variables\n",
    "\n",
    "A variable is a location in memory used to store some data (value).\n",
    "\n",
    "They are given unique names to differentiate between different memory locations. The rules for writing a variable name is same as the rules for writing identifiers in Python.\n",
    "\n",
    "We don't need to declare a variable before using it. In Python, we simply assign a value to a variable and it will exist. We don't even have to declare the type of the variable. This is handled internally according to the type of value we assign to the variable."
   ]
  },
  {
   "cell_type": "markdown",
   "id": "dec79cb7",
   "metadata": {},
   "source": [
    "### Variable Assignments"
   ]
  },
  {
   "cell_type": "code",
   "execution_count": 11,
   "id": "53ca763a",
   "metadata": {},
   "outputs": [],
   "source": [
    "# We use the assignment operator (=) to assign values to a variable\n",
    "a = 10\n",
    "b = 5.5\n",
    "c = \"ML\""
   ]
  },
  {
   "cell_type": "markdown",
   "id": "38619cfe",
   "metadata": {},
   "source": [
    "### Multiple Assignments"
   ]
  },
  {
   "cell_type": "code",
   "execution_count": 12,
   "id": "34a9a8f7",
   "metadata": {},
   "outputs": [],
   "source": [
    "a, b, c = 10, 5.5, \"ML\""
   ]
  },
  {
   "cell_type": "code",
   "execution_count": 13,
   "id": "297da649",
   "metadata": {},
   "outputs": [],
   "source": [
    "# assign the same value to multiple variables at once\n",
    "a = b = c = \"AI\" "
   ]
  },
  {
   "cell_type": "markdown",
   "id": "d291b276",
   "metadata": {},
   "source": [
    "- **Dynamic Typing**: In python, when we define the variable, it is not required to specify its datatype explicitely.\n",
    "- **Static Typing**: In other programming languages like C, Java, when we define the variable, it's necessary to specify its datatype explicitely."
   ]
  },
  {
   "cell_type": "code",
   "execution_count": 14,
   "id": "a22bf021",
   "metadata": {},
   "outputs": [
    {
     "name": "stdout",
     "output_type": "stream",
     "text": [
      "abc\n"
     ]
    }
   ],
   "source": [
    "name = 'abc'\n",
    "print(name)"
   ]
  },
  {
   "cell_type": "markdown",
   "id": "ef1e32e1",
   "metadata": {},
   "source": [
    "- **Dynamic Binding**: If a variable stores multiple data types then it is called Dynamic Binding"
   ]
  },
  {
   "cell_type": "code",
   "execution_count": 15,
   "id": "a04fa8a2",
   "metadata": {},
   "outputs": [
    {
     "name": "stdout",
     "output_type": "stream",
     "text": [
      "7\n"
     ]
    }
   ],
   "source": [
    "name = 7\n",
    "print(name)"
   ]
  },
  {
   "cell_type": "markdown",
   "id": "7ae284d5",
   "metadata": {},
   "source": [
    "# 4.Data Types\n",
    "\n",
    "Every value in Python has a **datatype**. Since everything is an object in Python programming, data types are actually classes and variables are instance (object) of these classes."
   ]
  },
  {
   "cell_type": "markdown",
   "id": "66acf4ec",
   "metadata": {},
   "source": [
    "## Numbers\n",
    "\n",
    "Integers, floating point numbers and complex numbers falls under Python number category. They are defines as int, float and complex class in Python.\n",
    "We use the type() function to know which class a variable or a value belongs to and isinstance() function to check if an object belongs to a particular class. "
   ]
  },
  {
   "cell_type": "code",
   "execution_count": 16,
   "id": "3d233063",
   "metadata": {},
   "outputs": [
    {
     "name": "stdout",
     "output_type": "stream",
     "text": [
      "7 is of type <class 'int'>\n"
     ]
    }
   ],
   "source": [
    "# Integer\n",
    "a = 7\n",
    "print(a, 'is of type', type(a))"
   ]
  },
  {
   "cell_type": "code",
   "execution_count": 17,
   "id": "b67cf56f",
   "metadata": {},
   "outputs": [
    {
     "name": "stdout",
     "output_type": "stream",
     "text": [
      "Largest value of int in python:  1e+308\n"
     ]
    }
   ],
   "source": [
    "b = 1e308 \n",
    "print('Largest value of int in python: ', b)"
   ]
  },
  {
   "cell_type": "code",
   "execution_count": 18,
   "id": "95087d5d",
   "metadata": {},
   "outputs": [
    {
     "name": "stdout",
     "output_type": "stream",
     "text": [
      "7.9 is of type <class 'float'>\n"
     ]
    }
   ],
   "source": [
    "# Float\n",
    "a = 7.9\n",
    "print(a, 'is of type', type(a))"
   ]
  },
  {
   "cell_type": "code",
   "execution_count": 19,
   "id": "3ad2ccaf",
   "metadata": {},
   "outputs": [
    {
     "name": "stdout",
     "output_type": "stream",
     "text": [
      "Largest value of float in python:  1.7e+308\n"
     ]
    }
   ],
   "source": [
    "b = 1.7e308 \n",
    "print('Largest value of float in python: ', b)"
   ]
  },
  {
   "cell_type": "code",
   "execution_count": 20,
   "id": "d1fe0cfe",
   "metadata": {},
   "outputs": [
    {
     "name": "stdout",
     "output_type": "stream",
     "text": [
      "(7+9j) is a complex number?\n",
      "True\n"
     ]
    }
   ],
   "source": [
    "# Complex number\n",
    "a = 7+9j\n",
    "print(a, 'is a complex number?')\n",
    "print(isinstance(a, complex))"
   ]
  },
  {
   "cell_type": "code",
   "execution_count": 21,
   "id": "79e6983c",
   "metadata": {},
   "outputs": [
    {
     "name": "stdout",
     "output_type": "stream",
     "text": [
      "(7-9j)\n",
      "7.0\n",
      "9.0\n"
     ]
    }
   ],
   "source": [
    "print(a.conjugate())\n",
    "print(a.real)\n",
    "print(a.imag)"
   ]
  },
  {
   "cell_type": "markdown",
   "id": "e1c712f4",
   "metadata": {},
   "source": [
    "## Boolean\n",
    "\n",
    "Boolean represents the truth values False and True"
   ]
  },
  {
   "cell_type": "code",
   "execution_count": 22,
   "id": "a054cc76",
   "metadata": {},
   "outputs": [
    {
     "name": "stdout",
     "output_type": "stream",
     "text": [
      "<class 'bool'>\n"
     ]
    }
   ],
   "source": [
    "a = True\n",
    "print(type(a))"
   ]
  },
  {
   "cell_type": "code",
   "execution_count": 23,
   "id": "c4a9b3b7",
   "metadata": {},
   "outputs": [
    {
     "name": "stdout",
     "output_type": "stream",
     "text": [
      "<class 'bool'>\n"
     ]
    }
   ],
   "source": [
    "b = False\n",
    "print(type(b))"
   ]
  },
  {
   "cell_type": "markdown",
   "id": "ae55b073",
   "metadata": {},
   "source": [
    "## Python Strings\n",
    "\n",
    "String is a sequence of Unicode characters <br>\n",
    "We can use single quotes or double quotes to represent strings. <br>\n",
    "Multi-line strings can be denoted using triple quotes, ''' or \"\"\"."
   ]
  },
  {
   "cell_type": "code",
   "execution_count": 24,
   "id": "7016bb15",
   "metadata": {},
   "outputs": [
    {
     "name": "stdout",
     "output_type": "stream",
     "text": [
      "Kolhapur\n"
     ]
    }
   ],
   "source": [
    "s = 'Kolhapur'\n",
    "print(s)"
   ]
  },
  {
   "cell_type": "code",
   "execution_count": 25,
   "id": "eac0a619",
   "metadata": {},
   "outputs": [
    {
     "name": "stdout",
     "output_type": "stream",
     "text": [
      "abc\n"
     ]
    }
   ],
   "source": [
    "s = \"abc\"\n",
    "print(s)"
   ]
  },
  {
   "cell_type": "markdown",
   "id": "5d724d11",
   "metadata": {},
   "source": [
    "## Python List\n",
    "\n",
    "List is an ordered sequence of items. It is one of the most used datatype in Python and is very flexible. All the items in a list do not need to be of same type.\n",
    "Declaring a list is, items seperated by commas are enclosed within brackets []."
   ]
  },
  {
   "cell_type": "code",
   "execution_count": 26,
   "id": "37e31c72",
   "metadata": {},
   "outputs": [
    {
     "name": "stdout",
     "output_type": "stream",
     "text": [
      "[1, 2, 3, 4, 5]\n"
     ]
    }
   ],
   "source": [
    "a = [1,2,3,4,5]\n",
    "print(a)"
   ]
  },
  {
   "cell_type": "code",
   "execution_count": 27,
   "id": "e29c5826",
   "metadata": {},
   "outputs": [
    {
     "name": "stdout",
     "output_type": "stream",
     "text": [
      "[7, 7.9, 'Hello']\n"
     ]
    }
   ],
   "source": [
    "b = [7, 7.9, 'Hello']\n",
    "print(b)"
   ]
  },
  {
   "cell_type": "markdown",
   "id": "15c50100",
   "metadata": {},
   "source": [
    "## Python Tuples\n",
    "\n",
    "Tuple is an ordered sequence of items same as list. The only difference is that tuples are immutable. Tuples once created can not be modified."
   ]
  },
  {
   "cell_type": "code",
   "execution_count": 28,
   "id": "055f0feb",
   "metadata": {},
   "outputs": [
    {
     "name": "stdout",
     "output_type": "stream",
     "text": [
      "(1, 2, 3, 4, 5)\n"
     ]
    }
   ],
   "source": [
    "t = (1,2,3,4,5)\n",
    "print(t)"
   ]
  },
  {
   "cell_type": "code",
   "execution_count": 29,
   "id": "dceaacaa",
   "metadata": {},
   "outputs": [
    {
     "name": "stdout",
     "output_type": "stream",
     "text": [
      "(8, 9.7, 'ML')\n"
     ]
    }
   ],
   "source": [
    "t = (8, 9.7, 'ML')\n",
    "print(t)"
   ]
  },
  {
   "cell_type": "markdown",
   "id": "a384de01",
   "metadata": {},
   "source": [
    "## Python Set\n",
    "\n",
    "Set is an unordered collection of unique items. Set is defined by values seperated by comma inside braces {}. Items in a set are not ordered."
   ]
  },
  {
   "cell_type": "code",
   "execution_count": 30,
   "id": "218ff77b",
   "metadata": {},
   "outputs": [
    {
     "name": "stdout",
     "output_type": "stream",
     "text": [
      "{20, 5, 40, 10, 30}\n",
      "<class 'set'>\n"
     ]
    }
   ],
   "source": [
    "a = {10, 30, 20, 40, 5}\n",
    "print(a)\n",
    "print(type(a))"
   ]
  },
  {
   "cell_type": "markdown",
   "id": "9764eabd",
   "metadata": {},
   "source": [
    "## Python Dictionary\n",
    "\n",
    "Dictionary is an unordered collection of key-value pairs. <br>\n",
    "In Python, dictionaries are defined within braces {} with each item being a pair in the form key:value. "
   ]
  },
  {
   "cell_type": "code",
   "execution_count": 31,
   "id": "95bba165",
   "metadata": {},
   "outputs": [
    {
     "name": "stdout",
     "output_type": "stream",
     "text": [
      "{'a': 'apple', 'b': 'bat'}\n"
     ]
    }
   ],
   "source": [
    "d = {'a': 'apple', 'b':'bat'}\n",
    "print(d)"
   ]
  },
  {
   "cell_type": "markdown",
   "id": "a2918c18",
   "metadata": {},
   "source": [
    "# 5.Keywords and Identifiers"
   ]
  },
  {
   "cell_type": "markdown",
   "id": "bf3955d8",
   "metadata": {},
   "source": [
    "## Python Keywords\n",
    "\n",
    "Keywords are the reserved words in python. <br>\n",
    "We can't use a keyword as variable name, function name or any other identifier. <br>\n",
    "Keywords are case sentive."
   ]
  },
  {
   "cell_type": "code",
   "execution_count": 32,
   "id": "29b41a19",
   "metadata": {},
   "outputs": [
    {
     "name": "stdout",
     "output_type": "stream",
     "text": [
      "['False', 'None', 'True', '__peg_parser__', 'and', 'as', 'assert', 'async', 'await', 'break', 'class', 'continue', 'def', 'del', 'elif', 'else', 'except', 'finally', 'for', 'from', 'global', 'if', 'import', 'in', 'is', 'lambda', 'nonlocal', 'not', 'or', 'pass', 'raise', 'return', 'try', 'while', 'with', 'yield']\n",
      "\n",
      "Total number of keywords  36\n"
     ]
    }
   ],
   "source": [
    "#Get all keywords in python\n",
    "\n",
    "import keyword\n",
    "print(keyword.kwlist)\n",
    "print(\"\\nTotal number of keywords \",len(keyword.kwlist))"
   ]
  },
  {
   "cell_type": "markdown",
   "id": "43685584",
   "metadata": {},
   "source": [
    "## Identifiers"
   ]
  },
  {
   "cell_type": "markdown",
   "id": "7308cb38",
   "metadata": {},
   "source": [
    "Identifier is the name given to entities like class, functions, variables etc. in Python. It helps differentiating one entity from another.\n",
    "\n",
    "Rules for Writing Identifiers:\n",
    "\n",
    "1. Identifiers can be a combination of letters in lowercase (a to z) or uppercase (A to Z) or digits (0 to 9) or an underscore (_).\n",
    "\n",
    "2. An identifier cannot start with a digit. 1variable is invalid, but variable1 is perfectly fine.\n",
    "\n",
    "3. Keywords cannot be used as identifiers.\n",
    "\n",
    "4.  We cannot use special symbols like !, @, #, $, % etc. in our identifier."
   ]
  },
  {
   "cell_type": "code",
   "execution_count": 33,
   "id": "7130a7e6",
   "metadata": {},
   "outputs": [],
   "source": [
    "abc_12 = 12"
   ]
  },
  {
   "cell_type": "markdown",
   "id": "cf418c91",
   "metadata": {},
   "source": [
    "# 6. Taking User Input\n",
    "\n",
    "Want to take the input from the user. In Python, we have the input() function to allow this."
   ]
  },
  {
   "cell_type": "code",
   "execution_count": 34,
   "id": "1cffed4a",
   "metadata": {},
   "outputs": [
    {
     "name": "stdout",
     "output_type": "stream",
     "text": [
      "Enter the number: 9\n",
      "9\n"
     ]
    }
   ],
   "source": [
    "num = input('Enter the number: ')\n",
    "print(num)"
   ]
  },
  {
   "cell_type": "code",
   "execution_count": 35,
   "id": "8265b53d",
   "metadata": {},
   "outputs": [
    {
     "name": "stdout",
     "output_type": "stream",
     "text": [
      "Enter the first number: 52\n",
      "Enter the second number: 48\n",
      "100\n"
     ]
    }
   ],
   "source": [
    "first_number = input('Enter the first number: ')\n",
    "second_number = input('Enter the second number: ')\n",
    "\n",
    "result = int(first_number) + int(second_number)\n",
    "print(result)"
   ]
  },
  {
   "cell_type": "markdown",
   "id": "8d81891e",
   "metadata": {},
   "source": [
    "# 7.Type Conversion\n",
    "\n",
    "We can convert between different data types by using different type conversion functions like int(), float(), str() etc"
   ]
  },
  {
   "cell_type": "code",
   "execution_count": 36,
   "id": "25cae617",
   "metadata": {},
   "outputs": [
    {
     "data": {
      "text/plain": [
       "7.0"
      ]
     },
     "execution_count": 36,
     "metadata": {},
     "output_type": "execute_result"
    }
   ],
   "source": [
    "float(7)"
   ]
  },
  {
   "cell_type": "code",
   "execution_count": 37,
   "id": "f857e491",
   "metadata": {},
   "outputs": [
    {
     "data": {
      "text/plain": [
       "97"
      ]
     },
     "execution_count": 37,
     "metadata": {},
     "output_type": "execute_result"
    }
   ],
   "source": [
    "int(97.9)"
   ]
  },
  {
   "cell_type": "code",
   "execution_count": 38,
   "id": "68fbbb86",
   "metadata": {},
   "outputs": [
    {
     "data": {
      "text/plain": [
       "'50'"
      ]
     },
     "execution_count": 38,
     "metadata": {},
     "output_type": "execute_result"
    }
   ],
   "source": [
    "str(50)"
   ]
  },
  {
   "cell_type": "code",
   "execution_count": 39,
   "id": "2ede05c1",
   "metadata": {},
   "outputs": [
    {
     "data": {
      "text/plain": [
       "True"
      ]
     },
     "execution_count": 39,
     "metadata": {},
     "output_type": "execute_result"
    }
   ],
   "source": [
    "bool(1)"
   ]
  },
  {
   "cell_type": "code",
   "execution_count": 40,
   "id": "a7f75936",
   "metadata": {},
   "outputs": [
    {
     "data": {
      "text/plain": [
       "(7+0j)"
      ]
     },
     "execution_count": 40,
     "metadata": {},
     "output_type": "execute_result"
    }
   ],
   "source": [
    "complex(7)"
   ]
  },
  {
   "cell_type": "code",
   "execution_count": 41,
   "id": "8ad7b906",
   "metadata": {},
   "outputs": [
    {
     "data": {
      "text/plain": [
       "['H', 'e', 'l', 'l', 'o']"
      ]
     },
     "execution_count": 41,
     "metadata": {},
     "output_type": "execute_result"
    }
   ],
   "source": [
    "list('Hello')"
   ]
  },
  {
   "cell_type": "markdown",
   "id": "cc670e05",
   "metadata": {},
   "source": [
    "# 8.Literals\n",
    "\n",
    "Literal is a raw data given in a variable in Python.There are various types of literals they are as follows:\n",
    "\n",
    "- Numerical literals\n",
    "- String literals\n",
    "- Boolean literals\n",
    "- Special literals"
   ]
  },
  {
   "cell_type": "code",
   "execution_count": 42,
   "id": "c7c9246f",
   "metadata": {},
   "outputs": [
    {
     "name": "stdout",
     "output_type": "stream",
     "text": [
      "10, 100, 200, 300\n"
     ]
    }
   ],
   "source": [
    "# Numeric Literals\n",
    "\n",
    "a = 0b1010 # Binary literals\n",
    "b = 100 # Decimal literals\n",
    "c = 0o310 # Octal literals\n",
    "d = 0x12c # Hexadecimal literal\n",
    "\n",
    "print(a,b,c,d, sep=', ')"
   ]
  },
  {
   "cell_type": "code",
   "execution_count": 43,
   "id": "07067d85",
   "metadata": {},
   "outputs": [
    {
     "name": "stdout",
     "output_type": "stream",
     "text": [
      "10.5, 150.0, 0.0015\n"
     ]
    }
   ],
   "source": [
    "# Float literals\n",
    "\n",
    "f1 = 10.5\n",
    "f2 = 1.5e2\n",
    "f3 = 1.5e-3\n",
    "\n",
    "print(f1, f2, f3, sep=', ')"
   ]
  },
  {
   "cell_type": "code",
   "execution_count": 44,
   "id": "03020776",
   "metadata": {},
   "outputs": [
    {
     "name": "stdout",
     "output_type": "stream",
     "text": [
      "3.14j, 0.0, 3.14\n"
     ]
    }
   ],
   "source": [
    "# Complex literals\n",
    "\n",
    "x = 3.14j\n",
    "\n",
    "print(x, x.real, x.imag, sep=', ')"
   ]
  },
  {
   "cell_type": "code",
   "execution_count": 45,
   "id": "c3d62fe7",
   "metadata": {},
   "outputs": [
    {
     "name": "stdout",
     "output_type": "stream",
     "text": [
      "This is python\n",
      "This is python\n",
      "C\n",
      "This is a multiline string with more than one line code.\n",
      "😀😆🤣\n",
      "raw \\n string\n"
     ]
    }
   ],
   "source": [
    "# String Literals\n",
    "\n",
    "string = 'This is python'\n",
    "strings = \"This is python\"\n",
    "char = \"C\"\n",
    "multiline_str = \"\"\"This is a multiline string with more than one line code.\"\"\"\n",
    "unicode = u\"\\U0001f600\\U0001F606\\U0001F923\"\n",
    "raw_str = r\"raw \\n string\"\n",
    "\n",
    "print(string)\n",
    "print(strings)\n",
    "print(char)\n",
    "print(multiline_str)\n",
    "print(unicode)\n",
    "print(raw_str)"
   ]
  },
  {
   "cell_type": "code",
   "execution_count": 46,
   "id": "c8681a82",
   "metadata": {},
   "outputs": [
    {
     "name": "stdout",
     "output_type": "stream",
     "text": [
      "a: 8\n",
      "b: 9\n"
     ]
    }
   ],
   "source": [
    "# Boolean literals\n",
    "\n",
    "a = True + 7\n",
    "b = False + 9\n",
    "\n",
    "print('a:', a)\n",
    "print('b:', b)"
   ]
  },
  {
   "cell_type": "code",
   "execution_count": 47,
   "id": "b8c33760",
   "metadata": {},
   "outputs": [
    {
     "name": "stdout",
     "output_type": "stream",
     "text": [
      "None\n"
     ]
    }
   ],
   "source": [
    "# Special Literals\n",
    "\n",
    "a = None # None is used to declare the variable(empty)\n",
    "print(a)"
   ]
  },
  {
   "cell_type": "code",
   "execution_count": null,
   "id": "82669561",
   "metadata": {},
   "outputs": [],
   "source": []
  }
 ],
 "metadata": {
  "kernelspec": {
   "display_name": "Python 3 (ipykernel)",
   "language": "python",
   "name": "python3"
  },
  "language_info": {
   "codemirror_mode": {
    "name": "ipython",
    "version": 3
   },
   "file_extension": ".py",
   "mimetype": "text/x-python",
   "name": "python",
   "nbconvert_exporter": "python",
   "pygments_lexer": "ipython3",
   "version": "3.9.13"
  }
 },
 "nbformat": 4,
 "nbformat_minor": 5
}
