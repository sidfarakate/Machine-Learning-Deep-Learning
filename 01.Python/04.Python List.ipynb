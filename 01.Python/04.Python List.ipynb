{
 "cells": [
  {
   "cell_type": "markdown",
   "id": "932395e3",
   "metadata": {},
   "source": [
    "# List\n",
    "\n",
    "- What are Lists?\n",
    "- Lists vs Arrays\n",
    "- Characteristics of a List\n",
    "- How to create a list\n",
    "- Accessing items from a list\n",
    "- Adding items to a list\n",
    "- Editing items from a list\n",
    "- Deleting items from a list\n",
    "- Operators on Lists\n",
    "- Functions on Lists"
   ]
  },
  {
   "cell_type": "markdown",
   "id": "8b7cf613",
   "metadata": {},
   "source": [
    "## 1. What are Lists ?\n",
    "\n",
    "List is a datatype where you can store multiple items under 1 name.More technically lists act like dynamic arrays which means you can add more items on the fly."
   ]
  },
  {
   "attachments": {
    "positive-and-negative-indexing.jpg": {
     "image/jpeg": "[encoded data removed]"
    }
   },
   "cell_type": "markdown",
   "id": "6c255c85",
   "metadata": {},
   "source": [
    "![positive-and-negative-indexing.jpg](attachment:positive-and-negative-indexing.jpg)"
   ]
  },
  {
   "cell_type": "markdown",
   "id": "1863a72c",
   "metadata": {},
   "source": [
    "## 2. Lists vs Arrays\n",
    "\n",
    "1. Array is a homogeneous data structure which means we store the data of the same datatype.\n",
    "   List is a heterogeneous data structure which means we store the data of different datatypes.\n",
    "2. Arrays are faster than list\n",
    "3. Lists are more programmer friendly\n",
    "4. Fixed vs Dynamic Size\n",
    "5. List requires more memory than arrays"
   ]
  },
  {
   "cell_type": "markdown",
   "id": "98ff0587",
   "metadata": {},
   "source": [
    "## 3.Characteristics of List\n",
    "\n",
    "- Ordered \n",
    "- Changable/Mutable\n",
    "- Heterogeneous\n",
    "- Can have Duplicates\n",
    "- are dynamic\n",
    "- can be nested\n",
    "- items can be accessed\n",
    "- can contain any kind of objects in python"
   ]
  },
  {
   "cell_type": "markdown",
   "id": "90fa1cd9",
   "metadata": {},
   "source": [
    "## 4.Creating a List"
   ]
  },
  {
   "cell_type": "code",
   "execution_count": 1,
   "id": "54172086",
   "metadata": {},
   "outputs": [
    {
     "name": "stdout",
     "output_type": "stream",
     "text": [
      "[]\n",
      "----------------------------------------\n",
      "[1, 2, 3, 4, 5]\n",
      "----------------------------------------\n",
      "[1, 2, 3, [4, 5]]\n",
      "----------------------------------------\n",
      "[[[1, 2], [3, 4]], [[5, 6], [7, 8]]]\n",
      "----------------------------------------\n",
      "[1, True, 7.9, (7+9j), 'abc']\n",
      "----------------------------------------\n",
      "['H', 'e', 'l', 'l', 'o']\n"
     ]
    }
   ],
   "source": [
    "# Empty List\n",
    "a = []\n",
    "print(a)\n",
    "print('-'*40)\n",
    "\n",
    "# 1-D List(Homogeneous)\n",
    "b = [1,2,3,4,5]\n",
    "print(b)\n",
    "print('-'*40)\n",
    "\n",
    "# 2-D List/ Nested List\n",
    "c = [1,2,3,[4,5]]\n",
    "print(c)\n",
    "print('-'*40)\n",
    "\n",
    "# 3-D List\n",
    "d = [[[1,2],[3,4]],[[5,6],[7,8]]]\n",
    "print(d)\n",
    "print('-'*40)\n",
    "\n",
    "# Heterogeneous List\n",
    "e = [1, True, 7.9, 7+9j, 'abc']\n",
    "print(e)\n",
    "print('-'*40)\n",
    "\n",
    "# Using type conversion\n",
    "f = 'Hello'\n",
    "print(list(f))"
   ]
  },
  {
   "cell_type": "markdown",
   "id": "f30de3b2",
   "metadata": {},
   "source": [
    "## 5.Accessing Items from a List"
   ]
  },
  {
   "cell_type": "code",
   "execution_count": 2,
   "id": "a529363b",
   "metadata": {},
   "outputs": [
    {
     "name": "stdout",
     "output_type": "stream",
     "text": [
      "1\n",
      "7\n"
     ]
    }
   ],
   "source": [
    "# Indexing\n",
    "L = [1,2,3,4,5,6,7]\n",
    "print(L[0]) # Positive Indexing\n",
    "print(L[-1]) # Negative Indexing"
   ]
  },
  {
   "cell_type": "code",
   "execution_count": 3,
   "id": "8ae27997",
   "metadata": {},
   "outputs": [
    {
     "name": "stdout",
     "output_type": "stream",
     "text": [
      "4\n"
     ]
    }
   ],
   "source": [
    "l = [1,2,3,[4,5]]\n",
    "print(l[3][0])"
   ]
  },
  {
   "cell_type": "code",
   "execution_count": 4,
   "id": "3875bfb7",
   "metadata": {},
   "outputs": [
    {
     "name": "stdout",
     "output_type": "stream",
     "text": [
      "7\n"
     ]
    }
   ],
   "source": [
    "d = [[[1,2],[3,4]],[[5,6],[7,8]]]\n",
    "print(d[1][1][0])"
   ]
  },
  {
   "cell_type": "code",
   "execution_count": 5,
   "id": "def46790",
   "metadata": {},
   "outputs": [
    {
     "name": "stdout",
     "output_type": "stream",
     "text": [
      "[3, 4, 5, 6, 7]\n",
      "[4, 6]\n"
     ]
    }
   ],
   "source": [
    "# Slicing\n",
    "L = [1,2,3,4,5,6,7]\n",
    "print(L[2:])\n",
    "\n",
    "print(L[-4::2])"
   ]
  },
  {
   "cell_type": "markdown",
   "id": "175166bb",
   "metadata": {},
   "source": [
    "## 6.Adding items to a list"
   ]
  },
  {
   "cell_type": "code",
   "execution_count": 6,
   "id": "3258e52e",
   "metadata": {},
   "outputs": [
    {
     "name": "stdout",
     "output_type": "stream",
     "text": [
      "[1, 2, 3, 4, 5, 6, 7, 8]\n"
     ]
    }
   ],
   "source": [
    "# Append -> For adding a single item at the end\n",
    "L = [1,2,3,4,5,6,7]\n",
    "L.append(8)\n",
    "print(L)"
   ]
  },
  {
   "cell_type": "code",
   "execution_count": 7,
   "id": "c596e1e9",
   "metadata": {},
   "outputs": [
    {
     "name": "stdout",
     "output_type": "stream",
     "text": [
      "[1, 2, 3, 4, 5, 6, 7, 8, 9]\n"
     ]
    }
   ],
   "source": [
    "# Extend -> For adding the multiple items at the end\n",
    "L = [1,2,3,4,5]\n",
    "L.extend([6,7,8,9])\n",
    "print(L)"
   ]
  },
  {
   "cell_type": "code",
   "execution_count": 8,
   "id": "458fda4a",
   "metadata": {},
   "outputs": [
    {
     "data": {
      "text/plain": [
       "[1, 2, 3, 'h', 'e', 'l', 'l', 'o']"
      ]
     },
     "execution_count": 8,
     "metadata": {},
     "output_type": "execute_result"
    }
   ],
   "source": [
    "L = [1,2,3]\n",
    "L.extend('hello')\n",
    "L"
   ]
  },
  {
   "cell_type": "code",
   "execution_count": 9,
   "id": "adede6e8",
   "metadata": {},
   "outputs": [
    {
     "name": "stdout",
     "output_type": "stream",
     "text": [
      "[1, 2, 3, 4, 5]\n"
     ]
    }
   ],
   "source": [
    "# Insert -> For adding the items at desired location\n",
    "L = [1,3,4,5]\n",
    "L.insert(1,2)\n",
    "print(L)"
   ]
  },
  {
   "cell_type": "markdown",
   "id": "b744b951",
   "metadata": {},
   "source": [
    "## 7.Editing Items in a List"
   ]
  },
  {
   "cell_type": "code",
   "execution_count": 10,
   "id": "bd69064b",
   "metadata": {},
   "outputs": [
    {
     "name": "stdout",
     "output_type": "stream",
     "text": [
      "[100, 2, 3, 4, 5]\n"
     ]
    }
   ],
   "source": [
    "L = [1,2,3,4,5]\n",
    "\n",
    "# editing with indexing\n",
    "L[0] = 100\n",
    "print(L)"
   ]
  },
  {
   "cell_type": "code",
   "execution_count": 11,
   "id": "4de5f300",
   "metadata": {},
   "outputs": [
    {
     "name": "stdout",
     "output_type": "stream",
     "text": [
      "[100, 200, 300, 400, 500]\n"
     ]
    }
   ],
   "source": [
    "# editing with slicing\n",
    "L[1:] = [200,300,400,500]\n",
    "print(L)"
   ]
  },
  {
   "cell_type": "markdown",
   "id": "d3963bd2",
   "metadata": {},
   "source": [
    "## 8.Deleting items from a List"
   ]
  },
  {
   "cell_type": "code",
   "execution_count": 12,
   "id": "a9ada623",
   "metadata": {},
   "outputs": [
    {
     "name": "stdout",
     "output_type": "stream",
     "text": [
      "[1, 2, 3, 4, 5]\n"
     ]
    },
    {
     "ename": "NameError",
     "evalue": "name 'L' is not defined",
     "output_type": "error",
     "traceback": [
      "\u001b[1;31m---------------------------------------------------------------------------\u001b[0m",
      "\u001b[1;31mNameError\u001b[0m                                 Traceback (most recent call last)",
      "\u001b[1;32m~\\AppData\\Local\\Temp\\ipykernel_11964\\3836991243.py\u001b[0m in \u001b[0;36m<module>\u001b[1;34m\u001b[0m\n\u001b[0;32m      3\u001b[0m \u001b[0mprint\u001b[0m\u001b[1;33m(\u001b[0m\u001b[0mL\u001b[0m\u001b[1;33m)\u001b[0m\u001b[1;33m\u001b[0m\u001b[1;33m\u001b[0m\u001b[0m\n\u001b[0;32m      4\u001b[0m \u001b[1;32mdel\u001b[0m \u001b[0mL\u001b[0m\u001b[1;33m\u001b[0m\u001b[1;33m\u001b[0m\u001b[0m\n\u001b[1;32m----> 5\u001b[1;33m \u001b[0mprint\u001b[0m\u001b[1;33m(\u001b[0m\u001b[0mL\u001b[0m\u001b[1;33m)\u001b[0m\u001b[1;33m\u001b[0m\u001b[1;33m\u001b[0m\u001b[0m\n\u001b[0m",
      "\u001b[1;31mNameError\u001b[0m: name 'L' is not defined"
     ]
    }
   ],
   "source": [
    "# del -> For deleting the entire list\n",
    "L = [1,2,3,4,5]\n",
    "print(L)\n",
    "del L\n",
    "print(L)"
   ]
  },
  {
   "cell_type": "code",
   "execution_count": null,
   "id": "ee6839a6",
   "metadata": {},
   "outputs": [],
   "source": [
    "# del using indexing -> To remove the particular item in a list using index\n",
    "L = [1,2,3,4,5]\n",
    "del L[-1]\n",
    "print(L)"
   ]
  },
  {
   "cell_type": "code",
   "execution_count": null,
   "id": "3ff11fa1",
   "metadata": {},
   "outputs": [],
   "source": [
    "# del using slicing\n",
    "L = [1,2,3,4,5]\n",
    "del L[1:3]\n",
    "print(L)"
   ]
  },
  {
   "cell_type": "code",
   "execution_count": 13,
   "id": "8d569a3a",
   "metadata": {},
   "outputs": [
    {
     "name": "stdout",
     "output_type": "stream",
     "text": [
      "[1, 2, 3, 4, 5, 7]\n"
     ]
    }
   ],
   "source": [
    "# Remove \n",
    "l = [1,2,3,4,5,6,7]\n",
    "l.remove(6)\n",
    "print(l)"
   ]
  },
  {
   "cell_type": "code",
   "execution_count": 14,
   "id": "1da2a8e7",
   "metadata": {},
   "outputs": [
    {
     "name": "stdout",
     "output_type": "stream",
     "text": [
      "[2, 3, 4, 5, 7]\n",
      "[2, 3, 4, 5]\n"
     ]
    }
   ],
   "source": [
    "# pop\n",
    "l.pop(0)\n",
    "print(l)\n",
    "\n",
    "l.pop() # Removing last element\n",
    "print(l)"
   ]
  },
  {
   "cell_type": "code",
   "execution_count": 15,
   "id": "b1b3f799",
   "metadata": {},
   "outputs": [
    {
     "name": "stdout",
     "output_type": "stream",
     "text": [
      "[]\n"
     ]
    }
   ],
   "source": [
    "# Clear\n",
    "l.clear()\n",
    "print(l)"
   ]
  },
  {
   "cell_type": "markdown",
   "id": "e1e6061a",
   "metadata": {},
   "source": [
    "## 9.Operations on List\n",
    "\n",
    "- Arithmatic\n",
    "- Membership"
   ]
  },
  {
   "cell_type": "code",
   "execution_count": 16,
   "id": "e7b53890",
   "metadata": {},
   "outputs": [
    {
     "name": "stdout",
     "output_type": "stream",
     "text": [
      "[1, 2, 3, 4, 5, 6, 7, 8, 9]\n"
     ]
    }
   ],
   "source": [
    "L1 = [1,2,3,4,5]\n",
    "L2 = [6,7,8,9]\n",
    "\n",
    "# Concatenation/Merge\n",
    "print(L1 + L2)"
   ]
  },
  {
   "cell_type": "code",
   "execution_count": 17,
   "id": "35222533",
   "metadata": {},
   "outputs": [
    {
     "name": "stdout",
     "output_type": "stream",
     "text": [
      "[1, 2, 3, 4, 5, 1, 2, 3, 4, 5]\n"
     ]
    }
   ],
   "source": [
    "print(L1*2)"
   ]
  },
  {
   "cell_type": "code",
   "execution_count": 18,
   "id": "28838cd0",
   "metadata": {},
   "outputs": [
    {
     "name": "stdout",
     "output_type": "stream",
     "text": [
      "True\n",
      "False\n",
      "True\n"
     ]
    }
   ],
   "source": [
    "# Membership Operator\n",
    "L1 = [1,2,3,4,5]\n",
    "print(5 in L1)\n",
    "\n",
    "L2 = [1,2,3,4,5,[6,7,8,9]]\n",
    "print(7 in L2)\n",
    "\n",
    "print([6,7,8,9] in L2)"
   ]
  },
  {
   "cell_type": "markdown",
   "id": "ca08bca8",
   "metadata": {},
   "source": [
    "## 10.List Functions"
   ]
  },
  {
   "cell_type": "code",
   "execution_count": 19,
   "id": "ad3e61fa",
   "metadata": {},
   "outputs": [
    {
     "name": "stdout",
     "output_type": "stream",
     "text": [
      "7\n",
      "0\n",
      "9\n",
      "[0, 1, 2, 5, 6, 7, 9]\n",
      "[9, 7, 6, 5, 2, 1, 0]\n"
     ]
    }
   ],
   "source": [
    "# len/min/max/sorted\n",
    "L = [2,1,5,7,0,9,6]\n",
    "\n",
    "print(len(L))\n",
    "print(min(L))\n",
    "print(max(L))\n",
    "print(sorted(L))\n",
    "print(sorted(L, reverse=True))"
   ]
  },
  {
   "cell_type": "code",
   "execution_count": 20,
   "id": "a9a80ea0",
   "metadata": {},
   "outputs": [
    {
     "data": {
      "text/plain": [
       "1"
      ]
     },
     "execution_count": 20,
     "metadata": {},
     "output_type": "execute_result"
    }
   ],
   "source": [
    "# count\n",
    "L.count(9)"
   ]
  },
  {
   "cell_type": "code",
   "execution_count": 21,
   "id": "8d7302ea",
   "metadata": {},
   "outputs": [
    {
     "data": {
      "text/plain": [
       "3"
      ]
     },
     "execution_count": 21,
     "metadata": {},
     "output_type": "execute_result"
    }
   ],
   "source": [
    "# Index\n",
    "L.index(7)"
   ]
  },
  {
   "cell_type": "code",
   "execution_count": 22,
   "id": "76ac7ef4",
   "metadata": {},
   "outputs": [],
   "source": [
    "# Reverse\n",
    "L.reverse()  # permanent operation"
   ]
  },
  {
   "cell_type": "code",
   "execution_count": 23,
   "id": "ba660af1",
   "metadata": {},
   "outputs": [
    {
     "name": "stdout",
     "output_type": "stream",
     "text": [
      "[6, 9, 0, 7, 5, 1, 2]\n"
     ]
    }
   ],
   "source": [
    "print(L)"
   ]
  },
  {
   "cell_type": "code",
   "execution_count": 24,
   "id": "0ead1a58",
   "metadata": {},
   "outputs": [],
   "source": [
    "# sort\n",
    "L.sort()  # permanent operation"
   ]
  },
  {
   "cell_type": "code",
   "execution_count": 25,
   "id": "c2f4cfd4",
   "metadata": {},
   "outputs": [
    {
     "name": "stdout",
     "output_type": "stream",
     "text": [
      "[0, 1, 2, 5, 6, 7, 9]\n"
     ]
    }
   ],
   "source": [
    "print(L)"
   ]
  },
  {
   "cell_type": "code",
   "execution_count": 26,
   "id": "58a837f6",
   "metadata": {},
   "outputs": [
    {
     "name": "stdout",
     "output_type": "stream",
     "text": [
      "[2, 1, 5, 7, 0]\n",
      "1807702660928\n",
      "[2, 1, 5, 7, 0]\n",
      "1807703414336\n"
     ]
    }
   ],
   "source": [
    "# copy\n",
    "L = [2,1,5,7,0]\n",
    "\n",
    "print(L)\n",
    "print(id(L))\n",
    "\n",
    "L1 = L.copy()\n",
    "print(L1)\n",
    "print(id(L1))"
   ]
  },
  {
   "cell_type": "markdown",
   "id": "ef364785",
   "metadata": {},
   "source": [
    "## 11.List Comprehension\n",
    "\n",
    "List comprehension provides a concise way of creating a list\n",
    "\n",
    "Advantages:\n",
    "- More time-efficient and space efficient than loop\n",
    "- Requires fewer lines of code\n",
    "- Transforms iterative statement into a formula"
   ]
  },
  {
   "attachments": {
    "list%20comprehension.png": {
     "image/png": "[encoded data removed]"
    }
   },
   "cell_type": "markdown",
   "id": "f9f5cb56",
   "metadata": {},
   "source": [
    "![list%20comprehension.png](attachment:list%20comprehension.png)"
   ]
  },
  {
   "cell_type": "code",
   "execution_count": 27,
   "id": "0172b5bf",
   "metadata": {},
   "outputs": [
    {
     "name": "stdout",
     "output_type": "stream",
     "text": [
      "[1, 2, 3, 4, 5, 6, 7, 8, 9, 10]\n"
     ]
    }
   ],
   "source": [
    "# add 1 to 10 numbers to a list\n",
    "# Using Loop\n",
    "L = []\n",
    "for i in range(1,11):\n",
    "    L.append(i)\n",
    "print(L)"
   ]
  },
  {
   "cell_type": "code",
   "execution_count": 28,
   "id": "4afabc57",
   "metadata": {},
   "outputs": [
    {
     "name": "stdout",
     "output_type": "stream",
     "text": [
      "[1, 2, 3, 4, 5, 6, 7, 8, 9, 10]\n"
     ]
    }
   ],
   "source": [
    "# Using list comprehension\n",
    "L = [i for i in range(1,11)]\n",
    "print(L)"
   ]
  },
  {
   "cell_type": "code",
   "execution_count": 29,
   "id": "8749ec8e",
   "metadata": {},
   "outputs": [
    {
     "name": "stdout",
     "output_type": "stream",
     "text": [
      "[14, 21, 28, 35]\n"
     ]
    }
   ],
   "source": [
    "# scaler multiplication on a vector\n",
    "v = [2,3,4,5]\n",
    "s = 7\n",
    "\n",
    "res = [s*i for i in v]\n",
    "print(res)"
   ]
  },
  {
   "cell_type": "code",
   "execution_count": 30,
   "id": "4ccb1bb2",
   "metadata": {},
   "outputs": [
    {
     "name": "stdout",
     "output_type": "stream",
     "text": [
      "[1, 4, 9, 16, 25, 36, 49, 64, 81, 100]\n"
     ]
    }
   ],
   "source": [
    "# add sqares\n",
    "squares = [i**2 for i in range(1,11)]\n",
    "print(squares)"
   ]
  },
  {
   "cell_type": "code",
   "execution_count": 31,
   "id": "9fb14de9",
   "metadata": {},
   "outputs": [
    {
     "data": {
      "text/plain": [
       "[5, 10, 15, 20, 25, 30, 35, 40, 45, 50]"
      ]
     },
     "execution_count": 31,
     "metadata": {},
     "output_type": "execute_result"
    }
   ],
   "source": [
    "# print all the numbers divisible by 5 in the range of 1 to 50\n",
    "[i for i in range(1,51) if i%5 == 0]"
   ]
  },
  {
   "cell_type": "code",
   "execution_count": 32,
   "id": "50c3a90b",
   "metadata": {},
   "outputs": [
    {
     "data": {
      "text/plain": [
       "['python', 'php']"
      ]
     },
     "execution_count": 32,
     "metadata": {},
     "output_type": "execute_result"
    }
   ],
   "source": [
    "# find languages which start with letter p\n",
    "languages = ['java', 'python', 'php', 'c', 'javascript']\n",
    "\n",
    "[i for i in languages if i.startswith('p')]"
   ]
  },
  {
   "cell_type": "code",
   "execution_count": 33,
   "id": "c9b0eb1a",
   "metadata": {},
   "outputs": [
    {
     "data": {
      "text/plain": [
       "['apple']"
      ]
     },
     "execution_count": 33,
     "metadata": {},
     "output_type": "execute_result"
    }
   ],
   "source": [
    "# Nested if with List comrehension\n",
    "basket = ['apple', 'guava', 'cherry', 'banana', 'avacado']\n",
    "my_fruits = ['apple', 'kiwi', 'grapes', 'banana']\n",
    "\n",
    "# add a new list from my_fruits and item if the fruits exists in basket and also starts with 'a' \n",
    "\n",
    "[fruits for fruits in my_fruits if fruits in basket and fruits.startswith('a')]"
   ]
  },
  {
   "cell_type": "code",
   "execution_count": 34,
   "id": "30015487",
   "metadata": {},
   "outputs": [
    {
     "data": {
      "text/plain": [
       "[5, 6, 7, 8, 10, 12, 14, 16, 15, 18, 21, 24, 20, 24, 28, 32]"
      ]
     },
     "execution_count": 34,
     "metadata": {},
     "output_type": "execute_result"
    }
   ],
   "source": [
    "# cartesion products -> List comprehension on 2 list together\n",
    "L1 = [1,2,3,4]\n",
    "L2 = [5,6,7,8]\n",
    "\n",
    "[i*j for i in L1 for j in L2]"
   ]
  },
  {
   "cell_type": "markdown",
   "id": "0dd8f395",
   "metadata": {},
   "source": [
    "## 12. 2 ways to traverse a list\n",
    "\n",
    "- itemwise\n",
    "- indexwise"
   ]
  },
  {
   "cell_type": "code",
   "execution_count": 35,
   "id": "ee66fff3",
   "metadata": {},
   "outputs": [
    {
     "name": "stdout",
     "output_type": "stream",
     "text": [
      "1\n",
      "2\n",
      "3\n",
      "4\n",
      "5\n"
     ]
    }
   ],
   "source": [
    "# itemwise\n",
    "L = [1,2,3,4,5]\n",
    "\n",
    "for i in L:\n",
    "    print(i)"
   ]
  },
  {
   "cell_type": "code",
   "execution_count": 36,
   "id": "3675a318",
   "metadata": {},
   "outputs": [
    {
     "name": "stdout",
     "output_type": "stream",
     "text": [
      "1\n",
      "2\n",
      "3\n",
      "4\n",
      "5\n"
     ]
    }
   ],
   "source": [
    "for i in range(len(L)):\n",
    "    print(L[i])"
   ]
  },
  {
   "cell_type": "markdown",
   "id": "4870e2bf",
   "metadata": {},
   "source": [
    "## 13.Zip\n",
    "\n",
    "The zip() function returns a zip object, which is an iterator of tuples where the first item in each passed iterator is paired together, and then the second item in each passed iterator are paired together.\n",
    "\n",
    "If the passed iterators have different lenghts, the iterator with the least items decided the length of the new iterator"
   ]
  },
  {
   "cell_type": "code",
   "execution_count": 37,
   "id": "04c97f1a",
   "metadata": {},
   "outputs": [
    {
     "name": "stdout",
     "output_type": "stream",
     "text": [
      "[(1, -1), (2, -2), (3, -3), (4, -4)]\n",
      "[0, 0, 0, 0]\n"
     ]
    }
   ],
   "source": [
    "L1 = [1,2,3,4]\n",
    "L2 = [-1,-2,-3,-4]\n",
    "\n",
    "print(list(zip(L1, L2)))\n",
    "\n",
    "L3 = [i+j for i,j in zip(L1,L2)]\n",
    "print(L3)"
   ]
  },
  {
   "cell_type": "markdown",
   "id": "a7b06599",
   "metadata": {},
   "source": [
    "## 14.Disadvantages of Lists\n",
    "\n",
    "- slow\n",
    "- Risky usage(mutable)\n",
    "- eats up more memory"
   ]
  },
  {
   "cell_type": "code",
   "execution_count": 38,
   "id": "9c5da919",
   "metadata": {},
   "outputs": [
    {
     "name": "stdout",
     "output_type": "stream",
     "text": [
      "[1, 2, 3, 4]\n",
      "[1, 2, 3, 4]\n",
      "[1, 2, 3, 4, 7]\n",
      "[1, 2, 3, 4, 7]\n",
      "1807696831872\n",
      "1807696831872\n"
     ]
    }
   ],
   "source": [
    "# risky usage\n",
    "a = [1,2,3,4]\n",
    "b = a\n",
    "\n",
    "print(a)\n",
    "print(b)\n",
    "\n",
    "a.append(7)\n",
    "print(a)\n",
    "print(b)\n",
    "\n",
    "print(id(a))\n",
    "print(id(b)) # pointing to the same memory location"
   ]
  }
 ],
 "metadata": {
  "kernelspec": {
   "display_name": "Python 3 (ipykernel)",
   "language": "python",
   "name": "python3"
  },
  "language_info": {
   "codemirror_mode": {
    "name": "ipython",
    "version": 3
   },
   "file_extension": ".py",
   "mimetype": "text/x-python",
   "name": "python",
   "nbconvert_exporter": "python",
   "pygments_lexer": "ipython3",
   "version": "3.9.13"
  }
 },
 "nbformat": 4,
 "nbformat_minor": 5
}
