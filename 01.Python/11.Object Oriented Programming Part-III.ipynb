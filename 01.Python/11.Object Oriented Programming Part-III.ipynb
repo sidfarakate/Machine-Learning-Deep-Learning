{
 "cells": [
  {
   "cell_type": "markdown",
   "id": "6d85ac94",
   "metadata": {},
   "source": [
    "# Object Oriented Programming"
   ]
  },
  {
   "cell_type": "markdown",
   "id": "1ab6d198",
   "metadata": {},
   "source": [
    "# Class Relationships\n",
    "\n",
    "- Aggregation\n",
    "- Inheritance"
   ]
  },
  {
   "cell_type": "markdown",
   "id": "f418b8cb",
   "metadata": {},
   "source": [
    "## Aggregation (Has A Relationship)\n",
    "\n",
    "e.g. <br>\n",
    "    1. Restaurant has a menu. <br>\n",
    "    2. Customer has a address. -> basically customer class owns the address class."
   ]
  },
  {
   "cell_type": "code",
   "execution_count": 1,
   "id": "41e8d0e2",
   "metadata": {},
   "outputs": [
    {
     "name": "stdout",
     "output_type": "stream",
     "text": [
      "Kolhapur 416012 Maharashtra\n"
     ]
    }
   ],
   "source": [
    "class Customer:\n",
    "    \n",
    "    def __init__(self, name, gender, address):\n",
    "        self.name = name\n",
    "        self.gender = gender\n",
    "        # So many entities in address like area, city, state, pincode etc.\n",
    "        # hence, we make different class for address\n",
    "        self.address = address \n",
    "        \n",
    "    def print_address(self):\n",
    "        print(self.address.city, self.address.pin, self.address.state)\n",
    "        \n",
    "class Address:\n",
    "    \n",
    "    def __init__(self, city, pin, state):\n",
    "        self.city = city\n",
    "        self.pin = pin\n",
    "        self.state = state\n",
    "        \n",
    "\n",
    "add1 = Address('Kolhapur', 416012, 'Maharashtra')\n",
    "cust = Customer('abc', 'male', add1)\n",
    "\n",
    "cust.print_address()"
   ]
  },
  {
   "cell_type": "markdown",
   "id": "5bcc54f7",
   "metadata": {},
   "source": [
    "##### Note: We can not access private variables in Aggregation"
   ]
  },
  {
   "cell_type": "code",
   "execution_count": 2,
   "id": "098f75c1",
   "metadata": {},
   "outputs": [
    {
     "ename": "AttributeError",
     "evalue": "'Address' object has no attribute '_Customer__city'",
     "output_type": "error",
     "traceback": [
      "\u001b[1;31m---------------------------------------------------------------------------\u001b[0m",
      "\u001b[1;31mAttributeError\u001b[0m                            Traceback (most recent call last)",
      "\u001b[1;32m~\\AppData\\Local\\Temp\\ipykernel_21716\\497075974.py\u001b[0m in \u001b[0;36m<module>\u001b[1;34m\u001b[0m\n\u001b[0;32m     20\u001b[0m \u001b[0mcust\u001b[0m \u001b[1;33m=\u001b[0m \u001b[0mCustomer\u001b[0m\u001b[1;33m(\u001b[0m\u001b[1;34m'Sid'\u001b[0m\u001b[1;33m,\u001b[0m \u001b[1;34m'Male'\u001b[0m\u001b[1;33m,\u001b[0m \u001b[0madd1\u001b[0m\u001b[1;33m)\u001b[0m\u001b[1;33m\u001b[0m\u001b[1;33m\u001b[0m\u001b[0m\n\u001b[0;32m     21\u001b[0m \u001b[1;33m\u001b[0m\u001b[0m\n\u001b[1;32m---> 22\u001b[1;33m \u001b[0mcust\u001b[0m\u001b[1;33m.\u001b[0m\u001b[0mprint_address\u001b[0m\u001b[1;33m(\u001b[0m\u001b[1;33m)\u001b[0m\u001b[1;33m\u001b[0m\u001b[1;33m\u001b[0m\u001b[0m\n\u001b[0m",
      "\u001b[1;32m~\\AppData\\Local\\Temp\\ipykernel_21716\\497075974.py\u001b[0m in \u001b[0;36mprint_address\u001b[1;34m(self)\u001b[0m\n\u001b[0;32m      7\u001b[0m \u001b[1;33m\u001b[0m\u001b[0m\n\u001b[0;32m      8\u001b[0m     \u001b[1;32mdef\u001b[0m \u001b[0mprint_address\u001b[0m\u001b[1;33m(\u001b[0m\u001b[0mself\u001b[0m\u001b[1;33m)\u001b[0m\u001b[1;33m:\u001b[0m\u001b[1;33m\u001b[0m\u001b[1;33m\u001b[0m\u001b[0m\n\u001b[1;32m----> 9\u001b[1;33m         \u001b[0mprint\u001b[0m\u001b[1;33m(\u001b[0m\u001b[0mself\u001b[0m\u001b[1;33m.\u001b[0m\u001b[0maddress\u001b[0m\u001b[1;33m.\u001b[0m\u001b[0m__city\u001b[0m\u001b[1;33m,\u001b[0m \u001b[0mself\u001b[0m\u001b[1;33m.\u001b[0m\u001b[0maddress\u001b[0m\u001b[1;33m.\u001b[0m\u001b[0mpin\u001b[0m\u001b[1;33m,\u001b[0m \u001b[0mself\u001b[0m\u001b[1;33m.\u001b[0m\u001b[0maddress\u001b[0m\u001b[1;33m.\u001b[0m\u001b[0mstate\u001b[0m\u001b[1;33m)\u001b[0m\u001b[1;33m\u001b[0m\u001b[1;33m\u001b[0m\u001b[0m\n\u001b[0m\u001b[0;32m     10\u001b[0m \u001b[1;33m\u001b[0m\u001b[0m\n\u001b[0;32m     11\u001b[0m \u001b[1;33m\u001b[0m\u001b[0m\n",
      "\u001b[1;31mAttributeError\u001b[0m: 'Address' object has no attribute '_Customer__city'"
     ]
    }
   ],
   "source": [
    "class Customer:\n",
    "    \n",
    "    def __init__(self, name, gender, address):\n",
    "        self.name = name\n",
    "        self.gender = gender\n",
    "        self.address = address # so many entities in address like area, city, state, pincode etc. so we make different class for it.\n",
    "        \n",
    "    def print_address(self):\n",
    "        print(self.address.__city, self.address.pin, self.address.state)\n",
    "        \n",
    "          \n",
    "class Address:\n",
    "    \n",
    "    def __init__(self, city, pin, state):\n",
    "        self.__city = city\n",
    "        self.pin = pin\n",
    "        self.state = state\n",
    "        \n",
    "add1 = Address('Kolhapur', 416012, 'Maharashtra')        \n",
    "cust = Customer('Sid', 'Male', add1)\n",
    "\n",
    "cust.print_address()"
   ]
  },
  {
   "cell_type": "code",
   "execution_count": 3,
   "id": "5eaf5234",
   "metadata": {},
   "outputs": [
    {
     "name": "stdout",
     "output_type": "stream",
     "text": [
      "Kolhapur 416012 Maharashtra\n"
     ]
    }
   ],
   "source": [
    "class Customer:\n",
    "    \n",
    "    def __init__(self, name, gender, address):\n",
    "        self.name = name\n",
    "        self.gender = gender\n",
    "        self.address = address # so many entities in address like area, city, state, pincode etc. so we make different class for it.\n",
    "        \n",
    "    def print_address(self):\n",
    "        print(self.address.get_city(), self.address.pin, self.address.state)\n",
    "        \n",
    "          \n",
    "class Address:\n",
    "    \n",
    "    def __init__(self, city, pin, state):\n",
    "        self.__city = city\n",
    "        self.pin = pin\n",
    "        self.state = state\n",
    "        \n",
    "    def get_city(self):\n",
    "        return self.__city\n",
    "        \n",
    "add1 = Address('Kolhapur', 416012, 'Maharashtra')        \n",
    "cust = Customer('Sid', 'Male', add1)\n",
    "\n",
    "cust.print_address()"
   ]
  },
  {
   "cell_type": "code",
   "execution_count": 4,
   "id": "fb78ab7e",
   "metadata": {},
   "outputs": [
    {
     "name": "stdout",
     "output_type": "stream",
     "text": [
      "Kolhapur 416012 Maharashtra\n",
      "Mumbai 400001 Maharashtra\n"
     ]
    }
   ],
   "source": [
    "class Customer:\n",
    "    \n",
    "    def __init__(self, name, gender, address):\n",
    "        self.name = name\n",
    "        self.gender = gender\n",
    "        self.address = address # so many entities in address like area, city, state, pincode etc. so we make different class for it.\n",
    "        \n",
    "    def print_address(self):\n",
    "        print(self.address.get_city(), self.address.pin, self.address.state)\n",
    "        \n",
    "    def edit_profile(self, new_name, new_city, new_pin, new_state):\n",
    "        self.name = new_name\n",
    "        self.address.edit_address(new_city, new_pin, new_state)\n",
    "        \n",
    "                  \n",
    "class Address:\n",
    "    \n",
    "    def __init__(self, city, pin, state):\n",
    "        self.__city = city\n",
    "        self.pin = pin\n",
    "        self.state = state\n",
    "        \n",
    "    def get_city(self):\n",
    "        return self.__city\n",
    "    \n",
    "    def edit_address(self, new_city, new_pin, new_state):\n",
    "        self.__city = new_city\n",
    "        self.pin = new_pin\n",
    "        self.state = new_state\n",
    "        \n",
    "        \n",
    "add1 = Address('Kolhapur', 416012, 'Maharashtra')        \n",
    "cust = Customer('Sid', 'Male', add1)\n",
    "\n",
    "cust.print_address()\n",
    "\n",
    "cust.edit_profile('SVF', 'Mumbai', 400001, 'Maharashtra')\n",
    "cust.print_address()"
   ]
  },
  {
   "attachments": {
    "aggregation.jpg": {
     "image/jpeg": "[encoded data removed]"
    }
   },
   "cell_type": "markdown",
   "id": "cd782598",
   "metadata": {},
   "source": [
    "### Aggregation class diagram\n",
    "\n",
    "![aggregation.jpg](attachment:aggregation.jpg)"
   ]
  },
  {
   "cell_type": "markdown",
   "id": "6b987689",
   "metadata": {},
   "source": [
    "## Inheritance\n",
    "\n",
    "Inheritance is a key feature of object-oriented programming (OOP) that allows a class to inherit attributes and methods from another class. It enables code reuse and promotes a hierarchical relationship between classes, where a subclass (child class) can inherit and extend the functionality of a superclass (parent class). This relationship is often described as an \"is-a\" relationship, where a subclass is a specialized version of its superclass.\n",
    "\n",
    "**Benefits of Inheritance**:\n",
    "\n",
    "**Code Reusability**: Inheritance allows you to reuse existing code from a superclass in a subclass, reducing redundancy and promoting modularity.\n",
    "**Promotes Code Organization**: By organizing classes into a hierarchy based on their relationships, inheritance promotes better code organization and improves maintainability."
   ]
  },
  {
   "cell_type": "code",
   "execution_count": 5,
   "id": "3c493d18",
   "metadata": {},
   "outputs": [
    {
     "name": "stdout",
     "output_type": "stream",
     "text": [
      "abc\n",
      "login\n",
      "7\n",
      "enroll into the course\n"
     ]
    }
   ],
   "source": [
    "class User:  #Parent Class\n",
    "    \n",
    "    def __init__(self):\n",
    "        self.name = 'abc'\n",
    "        \n",
    "    def login(self):\n",
    "        print('login')\n",
    "        \n",
    "        \n",
    "class Student(User): #Child CLass\n",
    "    \n",
    "    def rollno(self):\n",
    "        print(7)\n",
    "        \n",
    "    def enroll(self):\n",
    "        print('enroll into the course')\n",
    "        \n",
    "\n",
    "u = User()\n",
    "s = Student()\n",
    "\n",
    "print(s.name) #attribute of parent class\n",
    "s.login() #method of parent class\n",
    "\n",
    "s.rollno()\n",
    "s.enroll()"
   ]
  },
  {
   "attachments": {
    "Class-diagram-and-inheritance.png": {
     "image/png": "[encoded data removed]"
    }
   },
   "cell_type": "markdown",
   "id": "3c2cc306",
   "metadata": {},
   "source": [
    "### Inheritance class diagram\n",
    "\n",
    "![Class-diagram-and-inheritance.png](attachment:Class-diagram-and-inheritance.png)"
   ]
  },
  {
   "cell_type": "markdown",
   "id": "71464850",
   "metadata": {},
   "source": [
    "#### What gets inherited?\n",
    "\n",
    "- Constructor\n",
    "- Non Private Attributes\n",
    "- Non Private Methods"
   ]
  },
  {
   "cell_type": "code",
   "execution_count": 6,
   "id": "0507b63c",
   "metadata": {},
   "outputs": [
    {
     "name": "stdout",
     "output_type": "stream",
     "text": [
      "Inside phone constructor\n",
      "Buying a phone\n"
     ]
    }
   ],
   "source": [
    "# Constructor example\n",
    "\n",
    "class Phone:\n",
    "    \n",
    "    def __init__(self, price, brand, camera):\n",
    "        print('Inside phone constructor')\n",
    "        self.price = price\n",
    "        self.brand = brand\n",
    "        self.camera = camera\n",
    "        \n",
    "    def buy(self):\n",
    "        print('Buying a phone')\n",
    "        \n",
    "class Smartphone(Phone):\n",
    "    pass\n",
    "\n",
    "s = Smartphone(35000, 'Apple', 13)\n",
    "s.buy() # non-private method"
   ]
  },
  {
   "cell_type": "code",
   "execution_count": 7,
   "id": "9ac87e20",
   "metadata": {},
   "outputs": [
    {
     "name": "stdout",
     "output_type": "stream",
     "text": [
      "Inside SmartPhone constructor\n"
     ]
    },
    {
     "ename": "AttributeError",
     "evalue": "'SmartPhone' object has no attribute 'brand'",
     "output_type": "error",
     "traceback": [
      "\u001b[1;31m---------------------------------------------------------------------------\u001b[0m",
      "\u001b[1;31mAttributeError\u001b[0m                            Traceback (most recent call last)",
      "\u001b[1;32m~\\AppData\\Local\\Temp\\ipykernel_21716\\4053525168.py\u001b[0m in \u001b[0;36m<module>\u001b[1;34m\u001b[0m\n\u001b[0;32m     15\u001b[0m \u001b[1;33m\u001b[0m\u001b[0m\n\u001b[0;32m     16\u001b[0m \u001b[0ms\u001b[0m\u001b[1;33m=\u001b[0m\u001b[0mSmartPhone\u001b[0m\u001b[1;33m(\u001b[0m\u001b[1;34m\"Android\"\u001b[0m\u001b[1;33m,\u001b[0m \u001b[1;36m2\u001b[0m\u001b[1;33m)\u001b[0m\u001b[1;33m\u001b[0m\u001b[1;33m\u001b[0m\u001b[0m\n\u001b[1;32m---> 17\u001b[1;33m \u001b[0ms\u001b[0m\u001b[1;33m.\u001b[0m\u001b[0mbrand\u001b[0m\u001b[1;33m\u001b[0m\u001b[1;33m\u001b[0m\u001b[0m\n\u001b[0m",
      "\u001b[1;31mAttributeError\u001b[0m: 'SmartPhone' object has no attribute 'brand'"
     ]
    }
   ],
   "source": [
    "# constructor example 2\n",
    "\n",
    "class Phone:\n",
    "    def __init__(self, price, brand, camera):\n",
    "        print (\"Inside phone constructor\")\n",
    "        self.__price = price\n",
    "        self.brand = brand\n",
    "        self.camera = camera\n",
    "\n",
    "class SmartPhone(Phone):\n",
    "    def __init__(self, os, ram):\n",
    "        self.os = os\n",
    "        self.ram = ram\n",
    "        print (\"Inside SmartPhone constructor\")\n",
    "\n",
    "s=SmartPhone(\"Android\", 2)\n",
    "s.brand"
   ]
  },
  {
   "cell_type": "code",
   "execution_count": 8,
   "id": "5832dea1",
   "metadata": {},
   "outputs": [
    {
     "name": "stdout",
     "output_type": "stream",
     "text": [
      "Inside phone constructor\n"
     ]
    },
    {
     "ename": "AttributeError",
     "evalue": "'SmartPhone' object has no attribute '_SmartPhone__price'",
     "output_type": "error",
     "traceback": [
      "\u001b[1;31m---------------------------------------------------------------------------\u001b[0m",
      "\u001b[1;31mAttributeError\u001b[0m                            Traceback (most recent call last)",
      "\u001b[1;32m~\\AppData\\Local\\Temp\\ipykernel_21716\\3282030067.py\u001b[0m in \u001b[0;36m<module>\u001b[1;34m\u001b[0m\n\u001b[0;32m     17\u001b[0m \u001b[1;33m\u001b[0m\u001b[0m\n\u001b[0;32m     18\u001b[0m \u001b[0ms\u001b[0m\u001b[1;33m=\u001b[0m\u001b[0mSmartPhone\u001b[0m\u001b[1;33m(\u001b[0m\u001b[1;36m20000\u001b[0m\u001b[1;33m,\u001b[0m \u001b[1;34m\"Apple\"\u001b[0m\u001b[1;33m,\u001b[0m \u001b[1;36m13\u001b[0m\u001b[1;33m)\u001b[0m\u001b[1;33m\u001b[0m\u001b[1;33m\u001b[0m\u001b[0m\n\u001b[1;32m---> 19\u001b[1;33m \u001b[0ms\u001b[0m\u001b[1;33m.\u001b[0m\u001b[0mcheck\u001b[0m\u001b[1;33m(\u001b[0m\u001b[1;33m)\u001b[0m\u001b[1;33m\u001b[0m\u001b[1;33m\u001b[0m\u001b[0m\n\u001b[0m",
      "\u001b[1;32m~\\AppData\\Local\\Temp\\ipykernel_21716\\3282030067.py\u001b[0m in \u001b[0;36mcheck\u001b[1;34m(self)\u001b[0m\n\u001b[0;32m     14\u001b[0m \u001b[1;32mclass\u001b[0m \u001b[0mSmartPhone\u001b[0m\u001b[1;33m(\u001b[0m\u001b[0mPhone\u001b[0m\u001b[1;33m)\u001b[0m\u001b[1;33m:\u001b[0m\u001b[1;33m\u001b[0m\u001b[1;33m\u001b[0m\u001b[0m\n\u001b[0;32m     15\u001b[0m     \u001b[1;32mdef\u001b[0m \u001b[0mcheck\u001b[0m\u001b[1;33m(\u001b[0m\u001b[0mself\u001b[0m\u001b[1;33m)\u001b[0m\u001b[1;33m:\u001b[0m\u001b[1;33m\u001b[0m\u001b[1;33m\u001b[0m\u001b[0m\n\u001b[1;32m---> 16\u001b[1;33m         \u001b[0mprint\u001b[0m\u001b[1;33m(\u001b[0m\u001b[0mself\u001b[0m\u001b[1;33m.\u001b[0m\u001b[0m__price\u001b[0m\u001b[1;33m)\u001b[0m\u001b[1;33m\u001b[0m\u001b[1;33m\u001b[0m\u001b[0m\n\u001b[0m\u001b[0;32m     17\u001b[0m \u001b[1;33m\u001b[0m\u001b[0m\n\u001b[0;32m     18\u001b[0m \u001b[0ms\u001b[0m\u001b[1;33m=\u001b[0m\u001b[0mSmartPhone\u001b[0m\u001b[1;33m(\u001b[0m\u001b[1;36m20000\u001b[0m\u001b[1;33m,\u001b[0m \u001b[1;34m\"Apple\"\u001b[0m\u001b[1;33m,\u001b[0m \u001b[1;36m13\u001b[0m\u001b[1;33m)\u001b[0m\u001b[1;33m\u001b[0m\u001b[1;33m\u001b[0m\u001b[0m\n",
      "\u001b[1;31mAttributeError\u001b[0m: 'SmartPhone' object has no attribute '_SmartPhone__price'"
     ]
    }
   ],
   "source": [
    "# child can't access private members of the class -> but access the private members of the class using getter\n",
    "\n",
    "class Phone:\n",
    "    def __init__(self, price, brand, camera):\n",
    "        print (\"Inside phone constructor\")\n",
    "        self.__price = price\n",
    "        self.brand = brand\n",
    "        self.camera = camera\n",
    "\n",
    "    #getter\n",
    "    def show(self):\n",
    "        print (self.__price)\n",
    "\n",
    "class SmartPhone(Phone):\n",
    "    def check(self):\n",
    "        print(self.__price)\n",
    "\n",
    "s=SmartPhone(20000, \"Apple\", 13)\n",
    "s.check()"
   ]
  },
  {
   "cell_type": "code",
   "execution_count": 9,
   "id": "79b0a9d7",
   "metadata": {},
   "outputs": [
    {
     "name": "stdout",
     "output_type": "stream",
     "text": [
      "100\n",
      "This is in child class\n"
     ]
    }
   ],
   "source": [
    "class Parent:\n",
    "\n",
    "    def __init__(self,num):\n",
    "        self.__num=num\n",
    "\n",
    "    def get_num(self):\n",
    "        return self.__num\n",
    "\n",
    "class Child(Parent):\n",
    "\n",
    "    def show(self):\n",
    "        print(\"This is in child class\")\n",
    "        \n",
    "son=Child(100)\n",
    "print(son.get_num())\n",
    "son.show()"
   ]
  },
  {
   "cell_type": "code",
   "execution_count": 10,
   "id": "286d1ccc",
   "metadata": {},
   "outputs": [
    {
     "ename": "AttributeError",
     "evalue": "'Child' object has no attribute '_Parent__num'",
     "output_type": "error",
     "traceback": [
      "\u001b[1;31m---------------------------------------------------------------------------\u001b[0m",
      "\u001b[1;31mAttributeError\u001b[0m                            Traceback (most recent call last)",
      "\u001b[1;32m~\\AppData\\Local\\Temp\\ipykernel_21716\\4240641543.py\u001b[0m in \u001b[0;36m<module>\u001b[1;34m\u001b[0m\n\u001b[0;32m     16\u001b[0m \u001b[1;33m\u001b[0m\u001b[0m\n\u001b[0;32m     17\u001b[0m \u001b[0mson\u001b[0m\u001b[1;33m=\u001b[0m\u001b[0mChild\u001b[0m\u001b[1;33m(\u001b[0m\u001b[1;36m100\u001b[0m\u001b[1;33m,\u001b[0m\u001b[1;36m10\u001b[0m\u001b[1;33m)\u001b[0m\u001b[1;33m\u001b[0m\u001b[1;33m\u001b[0m\u001b[0m\n\u001b[1;32m---> 18\u001b[1;33m \u001b[0mprint\u001b[0m\u001b[1;33m(\u001b[0m\u001b[1;34m\"Parent: Num:\"\u001b[0m\u001b[1;33m,\u001b[0m\u001b[0mson\u001b[0m\u001b[1;33m.\u001b[0m\u001b[0mget_num\u001b[0m\u001b[1;33m(\u001b[0m\u001b[1;33m)\u001b[0m\u001b[1;33m)\u001b[0m\u001b[1;33m\u001b[0m\u001b[1;33m\u001b[0m\u001b[0m\n\u001b[0m\u001b[0;32m     19\u001b[0m \u001b[0mprint\u001b[0m\u001b[1;33m(\u001b[0m\u001b[1;34m\"Child: Val:\"\u001b[0m\u001b[1;33m,\u001b[0m\u001b[0mson\u001b[0m\u001b[1;33m.\u001b[0m\u001b[0mget_val\u001b[0m\u001b[1;33m(\u001b[0m\u001b[1;33m)\u001b[0m\u001b[1;33m)\u001b[0m\u001b[1;33m\u001b[0m\u001b[1;33m\u001b[0m\u001b[0m\n",
      "\u001b[1;32m~\\AppData\\Local\\Temp\\ipykernel_21716\\4240641543.py\u001b[0m in \u001b[0;36mget_num\u001b[1;34m(self)\u001b[0m\n\u001b[0;32m      5\u001b[0m \u001b[1;33m\u001b[0m\u001b[0m\n\u001b[0;32m      6\u001b[0m     \u001b[1;32mdef\u001b[0m \u001b[0mget_num\u001b[0m\u001b[1;33m(\u001b[0m\u001b[0mself\u001b[0m\u001b[1;33m)\u001b[0m\u001b[1;33m:\u001b[0m\u001b[1;33m\u001b[0m\u001b[1;33m\u001b[0m\u001b[0m\n\u001b[1;32m----> 7\u001b[1;33m         \u001b[1;32mreturn\u001b[0m \u001b[0mself\u001b[0m\u001b[1;33m.\u001b[0m\u001b[0m__num\u001b[0m\u001b[1;33m\u001b[0m\u001b[1;33m\u001b[0m\u001b[0m\n\u001b[0m\u001b[0;32m      8\u001b[0m \u001b[1;33m\u001b[0m\u001b[0m\n\u001b[0;32m      9\u001b[0m \u001b[1;32mclass\u001b[0m \u001b[0mChild\u001b[0m\u001b[1;33m(\u001b[0m\u001b[0mParent\u001b[0m\u001b[1;33m)\u001b[0m\u001b[1;33m:\u001b[0m\u001b[1;33m\u001b[0m\u001b[1;33m\u001b[0m\u001b[0m\n",
      "\u001b[1;31mAttributeError\u001b[0m: 'Child' object has no attribute '_Parent__num'"
     ]
    }
   ],
   "source": [
    "class Parent:\n",
    "\n",
    "    def __init__(self,num):\n",
    "        self.__num=num\n",
    "\n",
    "    def get_num(self):\n",
    "        return self.__num\n",
    "\n",
    "class Child(Parent):\n",
    "\n",
    "    def __init__(self,val,num):\n",
    "        self.__val=val\n",
    "\n",
    "    def get_val(self):\n",
    "        return self.__val\n",
    "        \n",
    "son=Child(100,10)\n",
    "print(\"Parent: Num:\",son.get_num())\n",
    "print(\"Child: Val:\",son.get_val())"
   ]
  },
  {
   "cell_type": "code",
   "execution_count": 11,
   "id": "919a255c",
   "metadata": {},
   "outputs": [
    {
     "name": "stdout",
     "output_type": "stream",
     "text": [
      "class A : 100\n"
     ]
    }
   ],
   "source": [
    "class A:\n",
    "    def __init__(self):\n",
    "        self.var1=100\n",
    "\n",
    "    def display1(self,var1):\n",
    "        print(\"class A :\", self.var1) # var1 and self.var1 are different attributes\n",
    "class B(A):\n",
    "  \n",
    "    def display2(self,var1):\n",
    "        print(\"class B :\", self.var1)\n",
    "\n",
    "obj=B()\n",
    "obj.display1(200)"
   ]
  },
  {
   "cell_type": "markdown",
   "id": "6c461ed6",
   "metadata": {},
   "source": [
    "#### Method overriding\n",
    "\n",
    "Method overriding is a concept in object-oriented programming (OOP) where a subclass provides a specific implementation of a method that is already defined in its superclass. It allows a subclass to redefine the behavior of a method inherited from its superclass according to its own requirements."
   ]
  },
  {
   "cell_type": "code",
   "execution_count": 12,
   "id": "d1da1ff0",
   "metadata": {},
   "outputs": [
    {
     "name": "stdout",
     "output_type": "stream",
     "text": [
      "Inside phone constructor\n",
      "Buying a smartphone\n"
     ]
    }
   ],
   "source": [
    "# Method Overriding\n",
    "class Phone:\n",
    "    def __init__(self, price, brand, camera):\n",
    "        print (\"Inside phone constructor\")\n",
    "        self.__price = price\n",
    "        self.brand = brand\n",
    "        self.camera = camera\n",
    "\n",
    "    def buy(self):\n",
    "        print (\"Buying a phone\")\n",
    "\n",
    "class SmartPhone(Phone):\n",
    "    def buy(self):\n",
    "        print (\"Buying a smartphone\")\n",
    "\n",
    "s=SmartPhone(20000, \"Apple\", 13)\n",
    "\n",
    "s.buy()"
   ]
  },
  {
   "cell_type": "markdown",
   "id": "5252932e",
   "metadata": {},
   "source": [
    "### Super keyword\n",
    "\n",
    "The super() keyword in Python is used to call methods and access attributes from the superclass (parent class) within a subclass (child class). It allows you to invoke methods and access attributes of the superclass without explicitly naming the superclass."
   ]
  },
  {
   "cell_type": "code",
   "execution_count": 13,
   "id": "90fd7a94",
   "metadata": {},
   "outputs": [
    {
     "name": "stdout",
     "output_type": "stream",
     "text": [
      "Inside phone constructor\n",
      "Buying a smartphone\n",
      "Buying a phone\n"
     ]
    }
   ],
   "source": [
    "class Phone:\n",
    "    def __init__(self, price, brand, camera):\n",
    "        print (\"Inside phone constructor\")\n",
    "        self.__price = price\n",
    "        self.brand = brand\n",
    "        self.camera = camera\n",
    "\n",
    "    def buy(self):\n",
    "        print (\"Buying a phone\")\n",
    "\n",
    "class SmartPhone(Phone):\n",
    "    def buy(self):\n",
    "        print (\"Buying a smartphone\")\n",
    "        # syntax to call parent class method\n",
    "        super().buy()\n",
    "\n",
    "s=SmartPhone(20000, \"Apple\", 13)\n",
    "\n",
    "s.buy()"
   ]
  },
  {
   "cell_type": "code",
   "execution_count": 14,
   "id": "7943e1ec",
   "metadata": {},
   "outputs": [
    {
     "name": "stdout",
     "output_type": "stream",
     "text": [
      "Inside phone constructor\n"
     ]
    },
    {
     "ename": "AttributeError",
     "evalue": "'SmartPhone' object has no attribute 'super'",
     "output_type": "error",
     "traceback": [
      "\u001b[1;31m---------------------------------------------------------------------------\u001b[0m",
      "\u001b[1;31mAttributeError\u001b[0m                            Traceback (most recent call last)",
      "\u001b[1;32m~\\AppData\\Local\\Temp\\ipykernel_21716\\1630159578.py\u001b[0m in \u001b[0;36m<module>\u001b[1;34m\u001b[0m\n\u001b[0;32m     16\u001b[0m \u001b[0ms\u001b[0m\u001b[1;33m=\u001b[0m\u001b[0mSmartPhone\u001b[0m\u001b[1;33m(\u001b[0m\u001b[1;36m20000\u001b[0m\u001b[1;33m,\u001b[0m \u001b[1;34m\"Apple\"\u001b[0m\u001b[1;33m,\u001b[0m \u001b[1;36m13\u001b[0m\u001b[1;33m)\u001b[0m\u001b[1;33m\u001b[0m\u001b[1;33m\u001b[0m\u001b[0m\n\u001b[0;32m     17\u001b[0m \u001b[1;33m\u001b[0m\u001b[0m\n\u001b[1;32m---> 18\u001b[1;33m \u001b[0ms\u001b[0m\u001b[1;33m.\u001b[0m\u001b[0msuper\u001b[0m\u001b[1;33m(\u001b[0m\u001b[1;33m)\u001b[0m\u001b[1;33m.\u001b[0m\u001b[0mbuy\u001b[0m\u001b[1;33m(\u001b[0m\u001b[1;33m)\u001b[0m \u001b[1;31m#super() works inside the class only and especially used in child class\u001b[0m\u001b[1;33m\u001b[0m\u001b[1;33m\u001b[0m\u001b[0m\n\u001b[0m",
      "\u001b[1;31mAttributeError\u001b[0m: 'SmartPhone' object has no attribute 'super'"
     ]
    }
   ],
   "source": [
    "# using super outside the class\n",
    "class Phone:\n",
    "    def __init__(self, price, brand, camera):\n",
    "        print (\"Inside phone constructor\")\n",
    "        self.__price = price\n",
    "        self.brand = brand\n",
    "        self.camera = camera\n",
    "\n",
    "    def buy(self):\n",
    "        print (\"Buying a phone\")\n",
    "\n",
    "class SmartPhone(Phone):\n",
    "    def buy(self):\n",
    "        print (\"Buying a smartphone\")\n",
    "\n",
    "s=SmartPhone(20000, \"Apple\", 13)\n",
    "\n",
    "s.super().buy() #super() works inside the class only and especially used in child class"
   ]
  },
  {
   "cell_type": "code",
   "execution_count": 15,
   "id": "98c37b70",
   "metadata": {},
   "outputs": [
    {
     "name": "stdout",
     "output_type": "stream",
     "text": [
      "Inside phone constructor\n",
      "Buying a smartphone\n"
     ]
    },
    {
     "ename": "AttributeError",
     "evalue": "'super' object has no attribute 'brand'",
     "output_type": "error",
     "traceback": [
      "\u001b[1;31m---------------------------------------------------------------------------\u001b[0m",
      "\u001b[1;31mAttributeError\u001b[0m                            Traceback (most recent call last)",
      "\u001b[1;32m~\\AppData\\Local\\Temp\\ipykernel_21716\\1486056616.py\u001b[0m in \u001b[0;36m<module>\u001b[1;34m\u001b[0m\n\u001b[0;32m     18\u001b[0m \u001b[0ms\u001b[0m\u001b[1;33m=\u001b[0m\u001b[0mSmartPhone\u001b[0m\u001b[1;33m(\u001b[0m\u001b[1;36m20000\u001b[0m\u001b[1;33m,\u001b[0m \u001b[1;34m\"Apple\"\u001b[0m\u001b[1;33m,\u001b[0m \u001b[1;36m13\u001b[0m\u001b[1;33m)\u001b[0m\u001b[1;33m\u001b[0m\u001b[1;33m\u001b[0m\u001b[0m\n\u001b[0;32m     19\u001b[0m \u001b[1;33m\u001b[0m\u001b[0m\n\u001b[1;32m---> 20\u001b[1;33m \u001b[0ms\u001b[0m\u001b[1;33m.\u001b[0m\u001b[0mbuy\u001b[0m\u001b[1;33m(\u001b[0m\u001b[1;33m)\u001b[0m\u001b[1;33m\u001b[0m\u001b[1;33m\u001b[0m\u001b[0m\n\u001b[0m",
      "\u001b[1;32m~\\AppData\\Local\\Temp\\ipykernel_21716\\1486056616.py\u001b[0m in \u001b[0;36mbuy\u001b[1;34m(self)\u001b[0m\n\u001b[0;32m     14\u001b[0m     \u001b[1;32mdef\u001b[0m \u001b[0mbuy\u001b[0m\u001b[1;33m(\u001b[0m\u001b[0mself\u001b[0m\u001b[1;33m)\u001b[0m\u001b[1;33m:\u001b[0m\u001b[1;33m\u001b[0m\u001b[1;33m\u001b[0m\u001b[0m\n\u001b[0;32m     15\u001b[0m         \u001b[0mprint\u001b[0m \u001b[1;33m(\u001b[0m\u001b[1;34m\"Buying a smartphone\"\u001b[0m\u001b[1;33m)\u001b[0m\u001b[1;33m\u001b[0m\u001b[1;33m\u001b[0m\u001b[0m\n\u001b[1;32m---> 16\u001b[1;33m         \u001b[0mprint\u001b[0m\u001b[1;33m(\u001b[0m\u001b[0msuper\u001b[0m\u001b[1;33m(\u001b[0m\u001b[1;33m)\u001b[0m\u001b[1;33m.\u001b[0m\u001b[0mbrand\u001b[0m\u001b[1;33m)\u001b[0m\u001b[1;33m\u001b[0m\u001b[1;33m\u001b[0m\u001b[0m\n\u001b[0m\u001b[0;32m     17\u001b[0m \u001b[1;33m\u001b[0m\u001b[0m\n\u001b[0;32m     18\u001b[0m \u001b[0ms\u001b[0m\u001b[1;33m=\u001b[0m\u001b[0mSmartPhone\u001b[0m\u001b[1;33m(\u001b[0m\u001b[1;36m20000\u001b[0m\u001b[1;33m,\u001b[0m \u001b[1;34m\"Apple\"\u001b[0m\u001b[1;33m,\u001b[0m \u001b[1;36m13\u001b[0m\u001b[1;33m)\u001b[0m\u001b[1;33m\u001b[0m\u001b[1;33m\u001b[0m\u001b[0m\n",
      "\u001b[1;31mAttributeError\u001b[0m: 'super' object has no attribute 'brand'"
     ]
    }
   ],
   "source": [
    "# can super access parent class data? ->super() can not access variables/attributes\n",
    "\n",
    "class Phone:\n",
    "    def __init__(self, price, brand, camera):\n",
    "        print (\"Inside phone constructor\")\n",
    "        self.__price = price\n",
    "        self.brand = brand\n",
    "        self.camera = camera\n",
    "\n",
    "    def buy(self):\n",
    "        print (\"Buying a phone\")\n",
    "\n",
    "class SmartPhone(Phone):\n",
    "    def buy(self):\n",
    "        print (\"Buying a smartphone\")\n",
    "        print(super().brand)\n",
    "\n",
    "s=SmartPhone(20000, \"Apple\", 13)\n",
    "\n",
    "s.buy()"
   ]
  },
  {
   "cell_type": "code",
   "execution_count": 16,
   "id": "1d9fed85",
   "metadata": {},
   "outputs": [
    {
     "name": "stdout",
     "output_type": "stream",
     "text": [
      "Inside smartphone constructor\n",
      "Inside phone constructor\n",
      "Inside smartphone constructor\n",
      "Android\n",
      "Samsung\n"
     ]
    }
   ],
   "source": [
    "# super -> constuctor\n",
    "class Phone:\n",
    "    def __init__(self, price, brand, camera):\n",
    "        print (\"Inside phone constructor\")\n",
    "        self.__price = price\n",
    "        self.brand = brand\n",
    "        self.camera = camera\n",
    "\n",
    "class SmartPhone(Phone):\n",
    "    def __init__(self, price, brand, camera, os, ram):\n",
    "        print('Inside smartphone constructor')\n",
    "        super().__init__(price, brand, camera)\n",
    "        self.os = os\n",
    "        self.ram = ram\n",
    "        print (\"Inside smartphone constructor\")\n",
    "\n",
    "s=SmartPhone(20000, \"Samsung\", 12, \"Android\", 2)\n",
    "\n",
    "print(s.os)\n",
    "print(s.brand)"
   ]
  },
  {
   "cell_type": "markdown",
   "id": "2a91117a",
   "metadata": {},
   "source": [
    "#### Inheritance in summary\n",
    "\n",
    "- A class can inherit from another class.\n",
    "\n",
    "- Inheritance improves code reuse\n",
    "\n",
    "- Constructor, attributes, methods get inherited to the child class\n",
    "\n",
    "- The parent has no access to the child class\n",
    "\n",
    "- Private properties of parent are not accessible directly in child class\n",
    "\n",
    "- Child class can override the attributes or methods. This is called method overriding\n",
    "\n",
    "- super() is an inbuilt function which is used to invoke the parent class methods and constructor"
   ]
  },
  {
   "cell_type": "code",
   "execution_count": 17,
   "id": "5cab5b13",
   "metadata": {},
   "outputs": [
    {
     "name": "stdout",
     "output_type": "stream",
     "text": [
      "100\n",
      "200\n"
     ]
    }
   ],
   "source": [
    "class Parent:\n",
    "\n",
    "    def __init__(self,num):\n",
    "      self.__num=num\n",
    "\n",
    "    def get_num(self):\n",
    "      return self.__num\n",
    "\n",
    "class Child(Parent):\n",
    "  \n",
    "    def __init__(self,num,val):\n",
    "      super().__init__(num)\n",
    "      self.__val=val\n",
    "\n",
    "    def get_val(self):\n",
    "      return self.__val\n",
    "      \n",
    "son=Child(100,200)\n",
    "print(son.get_num())\n",
    "print(son.get_val())"
   ]
  },
  {
   "cell_type": "code",
   "execution_count": 18,
   "id": "ea497733",
   "metadata": {},
   "outputs": [
    {
     "name": "stdout",
     "output_type": "stream",
     "text": [
      "100\n",
      "200\n"
     ]
    }
   ],
   "source": [
    "class Parent:\n",
    "    def __init__(self):\n",
    "        self.num=100\n",
    "\n",
    "class Child(Parent):\n",
    "\n",
    "    def __init__(self):\n",
    "        super().__init__()\n",
    "        self.var=200\n",
    "        \n",
    "    def show(self):\n",
    "        print(self.num)\n",
    "        print(self.var)\n",
    "\n",
    "son=Child()\n",
    "son.show()"
   ]
  },
  {
   "cell_type": "code",
   "execution_count": 19,
   "id": "afe711e6",
   "metadata": {},
   "outputs": [
    {
     "name": "stdout",
     "output_type": "stream",
     "text": [
      "Child: 10\n"
     ]
    }
   ],
   "source": [
    "class Parent:\n",
    "    def __init__(self):\n",
    "        self.__num=100\n",
    "\n",
    "    def show(self):\n",
    "        print(\"Parent:\",self.__num)\n",
    "\n",
    "class Child(Parent):\n",
    "    def __init__(self):\n",
    "        super().__init__()\n",
    "        self.__var=10\n",
    "\n",
    "    def show(self):\n",
    "        print(\"Child:\",self.__var)\n",
    "\n",
    "obj=Child()\n",
    "obj.show()"
   ]
  },
  {
   "cell_type": "markdown",
   "id": "6b1a5bf0",
   "metadata": {},
   "source": [
    "## Types of Inheritance\n",
    "\n",
    "- Single Inheritance\n",
    "- Multilevel Inheritance\n",
    "- Hierarchical Inheritance\n",
    "- Multiple Inheritance(Diamond Problem)\n",
    "- Hybrid Inheritance"
   ]
  },
  {
   "cell_type": "code",
   "execution_count": 20,
   "id": "4a76276b",
   "metadata": {},
   "outputs": [
    {
     "name": "stdout",
     "output_type": "stream",
     "text": [
      "Inside phone constructor\n",
      "Buying a phone\n"
     ]
    }
   ],
   "source": [
    "# single inheritance\n",
    "class Phone:\n",
    "    def __init__(self, price, brand, camera):\n",
    "        print (\"Inside phone constructor\")\n",
    "        self.__price = price\n",
    "        self.brand = brand\n",
    "        self.camera = camera\n",
    "\n",
    "    def buy(self):\n",
    "        print (\"Buying a phone\")\n",
    "\n",
    "class SmartPhone(Phone):\n",
    "    pass\n",
    "\n",
    "SmartPhone(1000,\"Apple\",\"13px\").buy()"
   ]
  },
  {
   "cell_type": "code",
   "execution_count": 21,
   "id": "856ccff5",
   "metadata": {},
   "outputs": [
    {
     "name": "stdout",
     "output_type": "stream",
     "text": [
      "Inside phone constructor\n",
      "Buying a phone\n",
      "Product customer review\n"
     ]
    }
   ],
   "source": [
    "# multilevel\n",
    "class Product:\n",
    "    def review(self):\n",
    "        print (\"Product customer review\")\n",
    "\n",
    "class Phone(Product):\n",
    "    def __init__(self, price, brand, camera):\n",
    "        print (\"Inside phone constructor\")\n",
    "        self.__price = price\n",
    "        self.brand = brand\n",
    "        self.camera = camera\n",
    "\n",
    "    def buy(self):\n",
    "        print (\"Buying a phone\")\n",
    "\n",
    "class SmartPhone(Phone):\n",
    "    pass\n",
    "\n",
    "s=SmartPhone(20000, \"Apple\", 12)\n",
    "\n",
    "s.buy()\n",
    "s.review()"
   ]
  },
  {
   "cell_type": "code",
   "execution_count": 22,
   "id": "3d43ca1b",
   "metadata": {},
   "outputs": [
    {
     "name": "stdout",
     "output_type": "stream",
     "text": [
      "Inside phone constructor\n",
      "Buying a phone\n",
      "Inside phone constructor\n",
      "Buying a phone\n"
     ]
    }
   ],
   "source": [
    "# Hierarchical\n",
    "class Phone:\n",
    "    def __init__(self, price, brand, camera):\n",
    "        print (\"Inside phone constructor\")\n",
    "        self.__price = price\n",
    "        self.brand = brand\n",
    "        self.camera = camera\n",
    "\n",
    "    def buy(self):\n",
    "        print (\"Buying a phone\")\n",
    "\n",
    "class SmartPhone(Phone):\n",
    "    pass\n",
    "\n",
    "class FeaturePhone(Phone):\n",
    "    pass\n",
    "\n",
    "SmartPhone(1000,\"Apple\",\"13px\").buy()\n",
    "FeaturePhone(10,\"Lava\",\"1px\").buy()"
   ]
  },
  {
   "cell_type": "code",
   "execution_count": 23,
   "id": "230bccd3",
   "metadata": {},
   "outputs": [
    {
     "name": "stdout",
     "output_type": "stream",
     "text": [
      "Inside phone constructor\n",
      "Buying a phone\n",
      "Customer review\n"
     ]
    }
   ],
   "source": [
    "# Multiple\n",
    "class Phone:\n",
    "    def __init__(self, price, brand, camera):\n",
    "        print (\"Inside phone constructor\")\n",
    "        self.__price = price\n",
    "        self.brand = brand\n",
    "        self.camera = camera\n",
    "\n",
    "    def buy(self):\n",
    "        print (\"Buying a phone\")\n",
    "\n",
    "class Product:\n",
    "    def review(self):\n",
    "        print (\"Customer review\")\n",
    "\n",
    "class SmartPhone(Phone, Product):\n",
    "    pass\n",
    "\n",
    "s=SmartPhone(20000, \"Apple\", 12)\n",
    "\n",
    "s.buy()\n",
    "s.review()"
   ]
  },
  {
   "cell_type": "code",
   "execution_count": 24,
   "id": "000073c9",
   "metadata": {},
   "outputs": [
    {
     "name": "stdout",
     "output_type": "stream",
     "text": [
      "Inside phone constructor\n",
      "Buying a phone\n"
     ]
    }
   ],
   "source": [
    "# the diamond problem\n",
    "# https://stackoverflow.com/questions/56361048/what-is-the-diamond-problem-in-python-and-why-its-not-appear-in-python2\n",
    "class Phone:\n",
    "    def __init__(self, price, brand, camera):\n",
    "        print (\"Inside phone constructor\")\n",
    "        self.__price = price\n",
    "        self.brand = brand\n",
    "        self.camera = camera\n",
    "\n",
    "    def buy(self):\n",
    "        print (\"Buying a phone\")\n",
    "\n",
    "class Product:\n",
    "    def buy(self):\n",
    "        print (\"Product buy method\")\n",
    "\n",
    "# Method resolution order\n",
    "class SmartPhone(Phone,Product):\n",
    "    pass\n",
    "\n",
    "s=SmartPhone(20000, \"Apple\", 12)\n",
    "\n",
    "s.buy()"
   ]
  },
  {
   "cell_type": "code",
   "execution_count": 25,
   "id": "a0c15472",
   "metadata": {},
   "outputs": [
    {
     "name": "stdout",
     "output_type": "stream",
     "text": [
      "70\n"
     ]
    }
   ],
   "source": [
    "class A:\n",
    "\n",
    "    def m1(self):\n",
    "        return 20\n",
    "\n",
    "class B(A):\n",
    "\n",
    "    def m1(self):\n",
    "        return 30\n",
    "\n",
    "    def m2(self):\n",
    "        return 40\n",
    "\n",
    "class C(B):\n",
    "  \n",
    "    def m2(self):\n",
    "        return 20\n",
    "obj1=A()\n",
    "obj2=B()\n",
    "obj3=C()\n",
    "print(obj1.m1() + obj3.m1()+ obj3.m2())"
   ]
  },
  {
   "cell_type": "markdown",
   "id": "90288c1a",
   "metadata": {},
   "source": [
    "## Polymorphism\n",
    "Polymorphism means many forms.\n",
    "\n",
    "Below mentioned topics are majorly discussed with polymorphism:\n",
    "\n",
    "1. Dynamically typed or Duck Typing\n",
    "2. Overloading\n",
    "    - Operator Overloading\n",
    "    - Method Overloading (Not supported)\n",
    "    - Constructor Overloading (Not supported)\n",
    "3. Overriding\n",
    "    - Method Overriding\n",
    "    - Constructor Overriding"
   ]
  },
  {
   "cell_type": "markdown",
   "id": "1f061103",
   "metadata": {},
   "source": [
    "### Operator Overloading"
   ]
  },
  {
   "cell_type": "code",
   "execution_count": 26,
   "id": "7ae5c5f2",
   "metadata": {},
   "outputs": [
    {
     "name": "stdout",
     "output_type": "stream",
     "text": [
      "30\n"
     ]
    }
   ],
   "source": [
    "class A:\n",
    "    def __init__(self, num):\n",
    "        self.num = num\n",
    "    \n",
    "    def __add__(self, other):\n",
    "        return self.num + other.num\n",
    "        \n",
    "a1 = A(10)\n",
    "a2 = A(20)\n",
    "\n",
    "print(a1+a2)"
   ]
  },
  {
   "cell_type": "markdown",
   "id": "2f8fdefb",
   "metadata": {},
   "source": [
    "## Method Overloading \n",
    "\n",
    "- Inside the class, multiple methods with the same name but output is different based on input."
   ]
  },
  {
   "cell_type": "code",
   "execution_count": 27,
   "id": "eba323c0",
   "metadata": {},
   "outputs": [
    {
     "name": "stdout",
     "output_type": "stream",
     "text": [
      "12\n"
     ]
    },
    {
     "ename": "TypeError",
     "evalue": "area() missing 1 required positional argument: 'b'",
     "output_type": "error",
     "traceback": [
      "\u001b[1;31m---------------------------------------------------------------------------\u001b[0m",
      "\u001b[1;31mTypeError\u001b[0m                                 Traceback (most recent call last)",
      "\u001b[1;32m~\\AppData\\Local\\Temp\\ipykernel_21716\\999608334.py\u001b[0m in \u001b[0;36m<module>\u001b[1;34m\u001b[0m\n\u001b[0;32m      9\u001b[0m \u001b[0ms\u001b[0m \u001b[1;33m=\u001b[0m \u001b[0mShape\u001b[0m\u001b[1;33m(\u001b[0m\u001b[1;33m)\u001b[0m\u001b[1;33m\u001b[0m\u001b[1;33m\u001b[0m\u001b[0m\n\u001b[0;32m     10\u001b[0m \u001b[0mprint\u001b[0m\u001b[1;33m(\u001b[0m\u001b[0ms\u001b[0m\u001b[1;33m.\u001b[0m\u001b[0marea\u001b[0m\u001b[1;33m(\u001b[0m\u001b[1;36m3\u001b[0m\u001b[1;33m,\u001b[0m \u001b[1;36m4\u001b[0m\u001b[1;33m)\u001b[0m\u001b[1;33m)\u001b[0m\u001b[1;33m\u001b[0m\u001b[1;33m\u001b[0m\u001b[0m\n\u001b[1;32m---> 11\u001b[1;33m \u001b[0mprint\u001b[0m\u001b[1;33m(\u001b[0m\u001b[0ms\u001b[0m\u001b[1;33m.\u001b[0m\u001b[0marea\u001b[0m\u001b[1;33m(\u001b[0m\u001b[1;36m3\u001b[0m\u001b[1;33m)\u001b[0m\u001b[1;33m)\u001b[0m\u001b[1;33m\u001b[0m\u001b[1;33m\u001b[0m\u001b[0m\n\u001b[0m",
      "\u001b[1;31mTypeError\u001b[0m: area() missing 1 required positional argument: 'b'"
     ]
    }
   ],
   "source": [
    "class Shape:\n",
    "    \n",
    "    def area(self, radius):\n",
    "        return 3.14*radius*radius\n",
    "    \n",
    "    def area(self, l, b):\n",
    "        return l*b\n",
    "    \n",
    "s = Shape()\n",
    "print(s.area(3, 4))\n",
    "print(s.area(3))"
   ]
  },
  {
   "cell_type": "code",
   "execution_count": 28,
   "id": "cd8d33ea",
   "metadata": {},
   "outputs": [
    {
     "name": "stdout",
     "output_type": "stream",
     "text": [
      "12\n",
      "12.56\n"
     ]
    }
   ],
   "source": [
    "# Smart way to do manual method overloading\n",
    "class Shape:\n",
    "    def area(self, a, b=0):\n",
    "        if b == 0:\n",
    "            return 3.14*a*a\n",
    "        else:\n",
    "            return a*b\n",
    "        \n",
    "s = Shape()\n",
    "print(s.area(3, 4))\n",
    "print(s.area(2))"
   ]
  },
  {
   "cell_type": "markdown",
   "id": "1ee9c4e1",
   "metadata": {},
   "source": [
    "## Constructor Overloading"
   ]
  },
  {
   "cell_type": "code",
   "execution_count": 29,
   "id": "5029ed17",
   "metadata": {},
   "outputs": [
    {
     "name": "stdout",
     "output_type": "stream",
     "text": [
      "constructor with no parameter\n"
     ]
    },
    {
     "ename": "TypeError",
     "evalue": "__init__() takes 1 positional argument but 3 were given",
     "output_type": "error",
     "traceback": [
      "\u001b[1;31m---------------------------------------------------------------------------\u001b[0m",
      "\u001b[1;31mTypeError\u001b[0m                                 Traceback (most recent call last)",
      "\u001b[1;32m~\\AppData\\Local\\Temp\\ipykernel_21716\\2978850460.py\u001b[0m in \u001b[0;36m<module>\u001b[1;34m\u001b[0m\n\u001b[0;32m      8\u001b[0m \u001b[1;33m\u001b[0m\u001b[0m\n\u001b[0;32m      9\u001b[0m \u001b[0mm1\u001b[0m \u001b[1;33m=\u001b[0m \u001b[0mMyClass\u001b[0m\u001b[1;33m(\u001b[0m\u001b[1;33m)\u001b[0m\u001b[1;33m\u001b[0m\u001b[1;33m\u001b[0m\u001b[0m\n\u001b[1;32m---> 10\u001b[1;33m \u001b[0mm2\u001b[0m \u001b[1;33m=\u001b[0m \u001b[0mMyClass\u001b[0m\u001b[1;33m(\u001b[0m\u001b[1;36m1\u001b[0m\u001b[1;33m,\u001b[0m \u001b[1;36m2\u001b[0m\u001b[1;33m)\u001b[0m\u001b[1;33m\u001b[0m\u001b[1;33m\u001b[0m\u001b[0m\n\u001b[0m",
      "\u001b[1;31mTypeError\u001b[0m: __init__() takes 1 positional argument but 3 were given"
     ]
    }
   ],
   "source": [
    "class MyClass:\n",
    "\n",
    "    def __init__(self, a, b):\n",
    "        print('parameterized')\n",
    "        \n",
    "    def __init__(self):\n",
    "        print('constructor with no parameter')\n",
    "        \n",
    "m1 = MyClass()\n",
    "m2 = MyClass(1, 2)"
   ]
  },
  {
   "cell_type": "markdown",
   "id": "c69bb135",
   "metadata": {},
   "source": [
    "## Method Overriding"
   ]
  },
  {
   "cell_type": "code",
   "execution_count": 30,
   "id": "167390f2",
   "metadata": {},
   "outputs": [
    {
     "name": "stdout",
     "output_type": "stream",
     "text": [
      "Class-A : Method-1\n",
      "Class-B : Method-1\n"
     ]
    }
   ],
   "source": [
    "class A:\n",
    "    def m1(self):\n",
    "        print('Class-A : Method-1')\n",
    "    def m2(self):\n",
    "        print('Class-A : Method-2')\n",
    "    \n",
    "class B(A):\n",
    "    def m1(self):\n",
    "        super().m1()\n",
    "        print('Class-B : Method-1')\n",
    "        \n",
    "b = B()\n",
    "b.m1()"
   ]
  },
  {
   "cell_type": "markdown",
   "id": "0ec0a5d2",
   "metadata": {},
   "source": [
    "## Constructor Overriding"
   ]
  },
  {
   "cell_type": "code",
   "execution_count": 31,
   "id": "342b0946",
   "metadata": {},
   "outputs": [
    {
     "name": "stdout",
     "output_type": "stream",
     "text": [
      "Parent Constructor\n",
      "Child Constructor\n"
     ]
    }
   ],
   "source": [
    "class A:\n",
    "    def __init__(self):\n",
    "        print('Parent Constructor')\n",
    "        \n",
    "class B(A):\n",
    "    def __init__(self):\n",
    "        super().__init__()\n",
    "        print('Child Constructor')\n",
    "        \n",
    "b = B()"
   ]
  },
  {
   "cell_type": "markdown",
   "id": "ba0c410f",
   "metadata": {},
   "source": [
    "# Abstraction\n",
    "\n",
    "- Process of highlighting the set of services & hiding the implementation is called ABSTRACTION.\n",
    "- Abstraction basically means hiding"
   ]
  },
  {
   "cell_type": "code",
   "execution_count": 32,
   "id": "3ced5041",
   "metadata": {},
   "outputs": [],
   "source": [
    "from abc import ABC,abstractmethod\n",
    "class BankApp(ABC):\n",
    "\n",
    "  def database(self):\n",
    "    print('connected to database')\n",
    "\n",
    "  @abstractmethod\n",
    "  def security(self):\n",
    "    pass\n",
    "\n",
    "  @abstractmethod\n",
    "  def display(self):\n",
    "    pass\n"
   ]
  },
  {
   "cell_type": "code",
   "execution_count": 33,
   "id": "7ad16bd3",
   "metadata": {},
   "outputs": [],
   "source": [
    "class MobileApp(BankApp):\n",
    "\n",
    "  def mobile_login(self):\n",
    "    print('login into mobile')\n",
    "\n",
    "  def security(self):\n",
    "    print('mobile security')\n",
    "\n",
    "  def display(self):\n",
    "    print('display')"
   ]
  },
  {
   "cell_type": "code",
   "execution_count": 34,
   "id": "c59e7c1c",
   "metadata": {},
   "outputs": [
    {
     "name": "stdout",
     "output_type": "stream",
     "text": [
      "mobile security\n"
     ]
    }
   ],
   "source": [
    "mob = MobileApp()\n",
    "mob.security()"
   ]
  }
 ],
 "metadata": {
  "kernelspec": {
   "display_name": "Python 3 (ipykernel)",
   "language": "python",
   "name": "python3"
  },
  "language_info": {
   "codemirror_mode": {
    "name": "ipython",
    "version": 3
   },
   "file_extension": ".py",
   "mimetype": "text/x-python",
   "name": "python",
   "nbconvert_exporter": "python",
   "pygments_lexer": "ipython3",
   "version": "3.9.13"
  }
 },
 "nbformat": 4,
 "nbformat_minor": 5
}
