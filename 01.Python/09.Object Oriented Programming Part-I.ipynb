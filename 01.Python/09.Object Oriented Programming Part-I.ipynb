{
 "cells": [
  {
   "attachments": {
    "Types-of-OOPS-2.gif": {
     "image/gif": "[encoded data removed]"
    }
   },
   "cell_type": "markdown",
   "id": "eb1c7e95",
   "metadata": {},
   "source": [
    "# Object Oriented Programming\n",
    "\n",
    "- Object Oriented Programming is a fundamental concept in Python, empowering developers to build modular, maintainable, and scalable applications. \n",
    "- By understanding the core OOP principles—classes, objects, inheritance, encapsulation, polymorphism, and abstraction—programmers can leverage the full potential of Python’s OOP capabilities to design elegant and efficient solutions to complex problems.\n",
    "\n",
    "## What is Object-Oriented Programming in Python?\n",
    "\n",
    "- In Python object-oriented Programming (OOPs) is a programming paradigm that uses objects and classes in programming. \n",
    "- The main concept of object-oriented Programming (OOPs) or oops concepts in Python is to bind the data and the functions that work together as a single unit so that no other part of the code can access this data.\n",
    "\n",
    "## OOPs Concepts in Python\n",
    "\n",
    "- Class \n",
    "- Objects\n",
    "- Polymorphism\n",
    "- Encapsulation\n",
    "- Inheritance\n",
    "- Abstraction\n",
    "\n",
    "![Types-of-OOPS-2.gif](attachment:Types-of-OOPS-2.gif)"
   ]
  },
  {
   "cell_type": "markdown",
   "id": "817f75c1",
   "metadata": {},
   "source": [
    "# Class\n",
    "\n",
    "- Class is a Blueprint"
   ]
  },
  {
   "cell_type": "markdown",
   "id": "155d5c8d",
   "metadata": {},
   "source": [
    "### Syntax:\n",
    "\n",
    "class ClassName: <br>\n",
    "    - Attributes <br>\n",
    "    - Methods\n",
    "    \n",
    "`Note`: The class name should be written in Pascal case. <br>\n",
    "        e.g. MyFirstClass"
   ]
  },
  {
   "cell_type": "code",
   "execution_count": 1,
   "id": "8f0f0043",
   "metadata": {},
   "outputs": [],
   "source": [
    "class Car:\n",
    "    \"\"\"A simple class representing a car.\"\"\"\n",
    "\n",
    "    def __init__(self): # Constructor\n",
    "        self.make = \"Tata\"\n",
    "        self.model = \"Nexon\"\n",
    "        self.year = 2024\n",
    "        self.odometer_reading = 10000\n",
    "\n",
    "    def get_info(self):\n",
    "        return \"{} {} {}\".format(self.year, self.make, self.model)\n",
    "\n",
    "    def read_odometer(self):\n",
    "        return \"Odometer: {} km\".format(self.odometer_reading)"
   ]
  },
  {
   "cell_type": "code",
   "execution_count": 2,
   "id": "0da3f276",
   "metadata": {},
   "outputs": [
    {
     "name": "stdout",
     "output_type": "stream",
     "text": [
      "A simple class representing a car.\n"
     ]
    }
   ],
   "source": [
    "print(Car.__doc__)"
   ]
  },
  {
   "cell_type": "markdown",
   "id": "db1acfda",
   "metadata": {},
   "source": [
    "## Object Creation\n",
    "\n",
    "object_name = class_name()"
   ]
  },
  {
   "cell_type": "code",
   "execution_count": 3,
   "id": "b50905cb",
   "metadata": {},
   "outputs": [],
   "source": [
    "my_car = Car()"
   ]
  },
  {
   "cell_type": "code",
   "execution_count": 4,
   "id": "cf56d9c5",
   "metadata": {},
   "outputs": [
    {
     "name": "stdout",
     "output_type": "stream",
     "text": [
      "<class '__main__.Car'>\n"
     ]
    }
   ],
   "source": [
    "print(type(my_car)) # Object of Car class"
   ]
  },
  {
   "cell_type": "markdown",
   "id": "46eb240c",
   "metadata": {},
   "source": [
    "## Accessing Attributes and Methods of Class\n",
    "\n",
    "Objects can access the attributes and methods defined within their class.\n",
    " \n",
    " object_name.variables <br>\n",
    " object_name.methods()"
   ]
  },
  {
   "cell_type": "code",
   "execution_count": 5,
   "id": "547e5b73",
   "metadata": {},
   "outputs": [
    {
     "name": "stdout",
     "output_type": "stream",
     "text": [
      "Tata\n",
      "Nexon\n"
     ]
    }
   ],
   "source": [
    "# Attributes\n",
    "print(my_car.make)\n",
    "print(my_car.model)"
   ]
  },
  {
   "cell_type": "code",
   "execution_count": 6,
   "id": "dc9a2ef4",
   "metadata": {},
   "outputs": [
    {
     "data": {
      "text/plain": [
       "'2024 Tata Nexon'"
      ]
     },
     "execution_count": 6,
     "metadata": {},
     "output_type": "execute_result"
    }
   ],
   "source": [
    "# Methods\n",
    "my_car = Car()\n",
    "my_car.get_info()"
   ]
  },
  {
   "cell_type": "code",
   "execution_count": 7,
   "id": "d794c19e",
   "metadata": {},
   "outputs": [
    {
     "data": {
      "text/plain": [
       "'Odometer: 10000 km'"
      ]
     },
     "execution_count": 7,
     "metadata": {},
     "output_type": "execute_result"
    }
   ],
   "source": [
    "my_car.read_odometer()"
   ]
  },
  {
   "cell_type": "markdown",
   "id": "016e9777",
   "metadata": {},
   "source": [
    "## Constructor\n",
    "\n",
    "It is a method(special method) inside the class which will executed automatically when we make the object of that particular class.\n",
    "\n",
    "- It is a special method\n",
    "- Get called at object initialization automatically\n",
    "- Used for initializing the attributes\n",
    "- Returns `None`"
   ]
  },
  {
   "cell_type": "markdown",
   "id": "5bc23e91",
   "metadata": {},
   "source": [
    "#### Q. Why use a constructor ?\n",
    "\n",
    "**`Ans.`** The true usage of constructor is to write the configuration related code because constructior is a function/method and it will execute automatically when we make object of the class."
   ]
  },
  {
   "cell_type": "code",
   "execution_count": 8,
   "id": "a0f20fc5",
   "metadata": {},
   "outputs": [
    {
     "name": "stdout",
     "output_type": "stream",
     "text": [
      "Constructor called\n"
     ]
    }
   ],
   "source": [
    "class MyClass:\n",
    "    def __init__(self):\n",
    "        print(\"Constructor called\")\n",
    "\n",
    "# Creating an instance of the MyClass class\n",
    "obj = MyClass()"
   ]
  },
  {
   "cell_type": "markdown",
   "id": "a8d3db26",
   "metadata": {},
   "source": [
    "## Self\n",
    "\n",
    "- Self is the current object of the class. \n",
    "- We can use any variable name instead of self."
   ]
  },
  {
   "cell_type": "code",
   "execution_count": 9,
   "id": "afe649bf",
   "metadata": {},
   "outputs": [
    {
     "name": "stdout",
     "output_type": "stream",
     "text": [
      "2134067203232\n"
     ]
    }
   ],
   "source": [
    "class MyClass:\n",
    "    def __init__(self):\n",
    "        print(id(self))\n",
    "        \n",
    "obj = MyClass()"
   ]
  },
  {
   "cell_type": "code",
   "execution_count": 10,
   "id": "d72c981e",
   "metadata": {},
   "outputs": [
    {
     "name": "stdout",
     "output_type": "stream",
     "text": [
      "2134067203232\n"
     ]
    }
   ],
   "source": [
    "print(id(obj))"
   ]
  },
  {
   "cell_type": "markdown",
   "id": "2bc8ece3",
   "metadata": {},
   "source": [
    "### Design an Object-Oriented Programming (OOP) solution to manage an Automated Teller Machine (ATM) system, incorporating the following functionalities:\n",
    "\n",
    "- Allow users to create and view their account details, including their PIN and balance.\n",
    "- Implement a method to enable users to change their PIN.\n",
    "- Develop a feature to allow users to check their account balance.\n",
    "- Extend the functionality to enable users to withdraw funds from their account."
   ]
  },
  {
   "cell_type": "code",
   "execution_count": 11,
   "id": "a061424c",
   "metadata": {},
   "outputs": [],
   "source": [
    "class Atm:\n",
    "    \n",
    "    # Constructor\n",
    "    def __init__(self):\n",
    "        self.pin = ''\n",
    "        self.balance = 0\n",
    "        self.menu()\n",
    "        \n",
    "    def menu(self):\n",
    "        user_input = input(\"\"\"\n",
    "        Hi, How can I help you?\n",
    "        1. Press 1 to Create Pin\n",
    "        2. Press 2 to Change Pin\n",
    "        3. Press 3 to Check Balance\n",
    "        4. Press 4 to Withdraw\n",
    "        5. Exit\n",
    "        \"\"\")\n",
    "        \n",
    "        if user_input == '1':\n",
    "            self.create_pin()\n",
    "        elif user_input == '2':\n",
    "            self.change_pin()\n",
    "        elif user_input == '3':\n",
    "            self.check_balance()\n",
    "        elif user_input == '4':\n",
    "            self.withdraw()\n",
    "        else:\n",
    "            exit()\n",
    "            \n",
    "    def create_pin(self):\n",
    "        user_pin = input('Enter Your Pin: ')\n",
    "        self.pin = user_pin\n",
    "        \n",
    "        user_balance = int(input('Enter Balance'))\n",
    "        self.balance = user_balance\n",
    "        \n",
    "        print('Pin Created Successfully')\n",
    "        self.menu()\n",
    "        \n",
    "    def change_pin(self):\n",
    "        old_pin = input('Enter Your Pin: ')\n",
    "        if old_pin == self.pin:\n",
    "            new_pin = input('Enter New Pin: ')\n",
    "            self.pin = new_pin\n",
    "            print('Pin Change Successfully')\n",
    "        else:\n",
    "            print('Invalid Pin')\n",
    "            \n",
    "        self.menu()\n",
    "        \n",
    "    def check_balance(self):\n",
    "        user_pin = input('Enter Your Pin: ')\n",
    "        if self.pin == user_pin:\n",
    "            print('Your Balance Is: ', self.balance)\n",
    "        else:\n",
    "            print('Sorry, Invalid Pin')\n",
    "        self.menu()\n",
    "        \n",
    "    def withdraw(self):\n",
    "        user_pin = input('Enter Your Pin: ')\n",
    "        if self.pin == user_pin:\n",
    "            amount = int(input('Enter The Amount: '))\n",
    "            if self.balance >= amount:\n",
    "                self.balance = self.balance - amount\n",
    "                print('Withdrawal Successful. Balance is', self.balance)\n",
    "            else:\n",
    "                print('Insufficient Balance')\n",
    "        else:\n",
    "            print('Invalid Pin')\n",
    "        \n",
    "            "
   ]
  },
  {
   "cell_type": "code",
   "execution_count": 12,
   "id": "2593ab8b",
   "metadata": {},
   "outputs": [
    {
     "name": "stdout",
     "output_type": "stream",
     "text": [
      "\n",
      "        Hi, How can I help you?\n",
      "        1. Press 1 to Create Pin\n",
      "        2. Press 2 to Change Pin\n",
      "        3. Press 3 to Check Balance\n",
      "        4. Press 4 to Withdraw\n",
      "        5. Exit\n",
      "        1\n",
      "Enter Your Pin: 1234\n",
      "Enter Balance85000\n",
      "Pin Created Successfully\n",
      "\n",
      "        Hi, How can I help you?\n",
      "        1. Press 1 to Create Pin\n",
      "        2. Press 2 to Change Pin\n",
      "        3. Press 3 to Check Balance\n",
      "        4. Press 4 to Withdraw\n",
      "        5. Exit\n",
      "        2\n",
      "Enter Your Pin: 1234\n",
      "Enter New Pin: 7899\n",
      "Pin Change Successfully\n",
      "\n",
      "        Hi, How can I help you?\n",
      "        1. Press 1 to Create Pin\n",
      "        2. Press 2 to Change Pin\n",
      "        3. Press 3 to Check Balance\n",
      "        4. Press 4 to Withdraw\n",
      "        5. Exit\n",
      "        3\n",
      "Enter Your Pin: 7899\n",
      "Your Balance Is:  85000\n",
      "\n",
      "        Hi, How can I help you?\n",
      "        1. Press 1 to Create Pin\n",
      "        2. Press 2 to Change Pin\n",
      "        3. Press 3 to Check Balance\n",
      "        4. Press 4 to Withdraw\n",
      "        5. Exit\n",
      "        4\n",
      "Enter Your Pin: 7899\n",
      "Enter The Amount: 75000\n",
      "Withdrawal Successful. Balance is 10000\n"
     ]
    }
   ],
   "source": [
    "res = Atm()"
   ]
  },
  {
   "cell_type": "markdown",
   "id": "bb79b00f",
   "metadata": {},
   "source": [
    "## Method vs function\n",
    "\n",
    "- if the function is implemented inside the class then it is called as method.\n",
    "- If the function independently exist outside the class then it is called function."
   ]
  },
  {
   "cell_type": "code",
   "execution_count": 13,
   "id": "6634b8cf",
   "metadata": {},
   "outputs": [],
   "source": [
    "L = [1,2,3]\n",
    "len(L) # -> function because it is outside the list class\n",
    "L.append(7) # -> method because it is inside the list class"
   ]
  },
  {
   "cell_type": "markdown",
   "id": "dc9bb941",
   "metadata": {},
   "source": [
    "## Constructor With Multiple Parameters"
   ]
  },
  {
   "cell_type": "code",
   "execution_count": 14,
   "id": "6d77e802",
   "metadata": {},
   "outputs": [],
   "source": [
    "class Person:\n",
    "    \n",
    "    # Parameterized Constructor\n",
    "    def __init__(self, name, age):\n",
    "        self.name = name\n",
    "        self.age = age\n",
    "\n",
    "    def display_info(self):\n",
    "        print(\"My name is {} and I'm {} years old.\".format(self.name, self.age))\n",
    "\n",
    "\n",
    "person1 = Person(\"xyz\", 25)"
   ]
  },
  {
   "cell_type": "code",
   "execution_count": 15,
   "id": "e6231393",
   "metadata": {},
   "outputs": [
    {
     "name": "stdout",
     "output_type": "stream",
     "text": [
      "My name is xyz and I'm 25 years old.\n"
     ]
    }
   ],
   "source": [
    "person1.display_info()"
   ]
  },
  {
   "cell_type": "markdown",
   "id": "c1b46831",
   "metadata": {},
   "source": [
    "### Develop an Object-Oriented Programming (OOP) solution for handling fractions. \n",
    "\n",
    "- Allowing users to create and view fractions.\n",
    "- Defining methods within the class to perform addition, subtraction, multiplication, and division of fractions.\n",
    "- Enabling users to convert fractions to decimal values."
   ]
  },
  {
   "cell_type": "code",
   "execution_count": 16,
   "id": "0881fac1",
   "metadata": {},
   "outputs": [],
   "source": [
    "class Fraction:\n",
    "    \n",
    "    def __init__(self, x, y):\n",
    "        self.num = x\n",
    "        self.den = y\n",
    "        \n",
    "    def __str__(self):\n",
    "        return \"{}/{}\".format(self.num, self.den)\n",
    "    \n",
    "    def __add__(self, other):\n",
    "        num = self.num*other.den + other.num*self.den\n",
    "        den = self.den*other.den\n",
    "        return \"{}/{}\".format(num, den) \n",
    "    \n",
    "    def __sub__(self, other):\n",
    "        num = self.num*other.den - other.num*self.den\n",
    "        den = self.den*other.den\n",
    "        return \"{}/{}\".format(num, den) \n",
    "    \n",
    "    def __mul__(self, other):\n",
    "        num = self.num*other.num\n",
    "        den = self.den*other.den\n",
    "        return \"{}/{}\".format(num, den)\n",
    "    \n",
    "    def __truediv__(self, other):\n",
    "        num = self.num*other.den\n",
    "        den = self.den*other.num\n",
    "        return \"{}/{}\".format(num, den)\n",
    "    \n",
    "    def Convert_to_Decimal(self):\n",
    "        return self.num / self.den"
   ]
  },
  {
   "cell_type": "code",
   "execution_count": 17,
   "id": "91286dfc",
   "metadata": {},
   "outputs": [],
   "source": [
    "fr1 = Fraction(3,4)\n",
    "fr2 = Fraction(1,2)"
   ]
  },
  {
   "cell_type": "code",
   "execution_count": 18,
   "id": "8b5399dc",
   "metadata": {},
   "outputs": [
    {
     "name": "stdout",
     "output_type": "stream",
     "text": [
      "10/8\n",
      "2/8\n",
      "3/8\n",
      "6/4\n"
     ]
    }
   ],
   "source": [
    "print(fr1 + fr2)\n",
    "print(fr1 - fr2)\n",
    "print(fr1 * fr2)\n",
    "print(fr1 / fr2)"
   ]
  },
  {
   "cell_type": "code",
   "execution_count": 19,
   "id": "23b79451",
   "metadata": {},
   "outputs": [
    {
     "data": {
      "text/plain": [
       "0.75"
      ]
     },
     "execution_count": 19,
     "metadata": {},
     "output_type": "execute_result"
    }
   ],
   "source": [
    "fr1.Convert_to_Decimal()"
   ]
  },
  {
   "cell_type": "markdown",
   "id": "5001cd61",
   "metadata": {},
   "source": [
    "### Write OOP classes to handle the following scenarios:\n",
    "\n",
    "- A user create and view 2D co-ordinates\n",
    "- A user can find out the distance between 2 co-ordinates\n",
    "- A user can find the distance of co-ordinates from origin\n",
    "- A user can check if a point lies on a given line\n",
    "- A user can find the distance between a given 2D point and a given line"
   ]
  },
  {
   "cell_type": "code",
   "execution_count": 20,
   "id": "b541e608",
   "metadata": {},
   "outputs": [],
   "source": [
    "class Point:\n",
    "    \n",
    "    def __init__(self, x, y):\n",
    "        self.x_cor = x\n",
    "        self.y_cor = y\n",
    "        \n",
    "    def __str__(self):\n",
    "        return '<{},{}>'.format(self.x_cor, self.y_cor)\n",
    "    \n",
    "    def euclidean_distance(self, other):\n",
    "        return ((self.x_cor - other.x_cor)**2 + (self.y_cor - other.y_cor)**2)**0.5\n",
    "    \n",
    "    def distance_from_origin(self):\n",
    "        return self.euclidean_distance(Point(0,0))\n",
    "        #return (self.x_cor**2 + self.y_cor**2)**0.5\n",
    "        \n",
    "class Line:\n",
    "    \n",
    "    def __init__(self, A, B, C):\n",
    "        self.A = A\n",
    "        self.B = B\n",
    "        self.C = C\n",
    "        \n",
    "    def __str__(self):\n",
    "        return '{}x + {}y + {}z = 0'.format(self.A, self.B, self.C)\n",
    "    \n",
    "    def point_on_line(line, point):\n",
    "        if line.A*point.x_cor + line.B*point.y_cor + line.C == 0:\n",
    "            return 'Lies on the line'\n",
    "        else:\n",
    "            return 'Does not lies on the line'\n",
    "        \n",
    "    def shortest_distance(line, point):\n",
    "        return abs(line.A*point.x_cor + line.B*point.y_cor + line.C) / (line.A**2 + line.B**2)**0.5\n",
    "        \n",
    "        "
   ]
  },
  {
   "cell_type": "code",
   "execution_count": 21,
   "id": "a10adaa4",
   "metadata": {},
   "outputs": [
    {
     "data": {
      "text/plain": [
       "3.605551275463989"
      ]
     },
     "execution_count": 21,
     "metadata": {},
     "output_type": "execute_result"
    }
   ],
   "source": [
    "p1 = Point(2,3)\n",
    "p2 = Point(7,7)\n",
    "\n",
    "p1.distance_from_origin()"
   ]
  },
  {
   "cell_type": "code",
   "execution_count": 22,
   "id": "3f9e36bf",
   "metadata": {},
   "outputs": [
    {
     "data": {
      "text/plain": [
       "'Lies on the line'"
      ]
     },
     "execution_count": 22,
     "metadata": {},
     "output_type": "execute_result"
    }
   ],
   "source": [
    "l1 = Line(1,1,-2)\n",
    "p1 = Point(1,1)\n",
    "\n",
    "l1.point_on_line(p1)"
   ]
  },
  {
   "cell_type": "code",
   "execution_count": 23,
   "id": "65c66394",
   "metadata": {},
   "outputs": [
    {
     "data": {
      "text/plain": [
       "6.363961030678928"
      ]
     },
     "execution_count": 23,
     "metadata": {},
     "output_type": "execute_result"
    }
   ],
   "source": [
    "l1 = Line(1,1,-2)\n",
    "p1 = Point(1,10)\n",
    "\n",
    "l1.shortest_distance(p1)"
   ]
  },
  {
   "cell_type": "markdown",
   "id": "2c335703",
   "metadata": {},
   "source": [
    "## `Q-1:` Rectangle Class\n",
    "\n",
    "1. Write a Rectangle class in Python language, allowing you to build a rectangle with length and width attributes.\n",
    "\n",
    "2. Create a Perimeter() method to calculate the perimeter of the rectangle and a Area() method to calculate the area of ​​the rectangle.\n",
    "\n",
    "3. Create a method display() that display the length, width, perimeter and area of an object created using an instantiation on rectangle class."
   ]
  },
  {
   "cell_type": "code",
   "execution_count": 24,
   "id": "4e5ba4a5",
   "metadata": {},
   "outputs": [
    {
     "name": "stdout",
     "output_type": "stream",
     "text": [
      "The length of rectangle is:  3\n",
      "The width of rectangle is:  4\n",
      "The perimeter of rectangle is:  14\n",
      "The area of rectangle is:  12\n"
     ]
    }
   ],
   "source": [
    "class Rectangle:\n",
    "\n",
    "    def __init__(self,l,b):\n",
    "        self.length = l\n",
    "        self.width = b\n",
    "\n",
    "    def perimeter(self):\n",
    "        return 2*(self.length + self.width)\n",
    "\n",
    "    def area(self):\n",
    "        return self.length * self.width\n",
    "\n",
    "    def display(self):\n",
    "        print('The length of rectangle is: ',self.length)\n",
    "        print('The width of rectangle is: ',self.width)\n",
    "        print('The perimeter of rectangle is: ',self.perimeter())\n",
    "        print('The area of rectangle is: ',self.area())\n",
    "\n",
    "\n",
    "obj = Rectangle(3,4)\n",
    "obj.display()"
   ]
  },
  {
   "cell_type": "markdown",
   "id": "2ea78437",
   "metadata": {},
   "source": [
    "## `Q-2: Bank Class`\n",
    "\n",
    "1. Create a Python class called `BankAccount` which represents a bank account, having as attributes: `accountNumber` (numeric type), `name` (name of the account owner as string type), `balance`.\n",
    "2. Create a constructor with parameters: `accountNumber, name, balance`.\n",
    "3. Create a `Deposit()` method which manages the deposit actions.\n",
    "4. Create a `Withdrawal()` method  which manages withdrawals actions.\n",
    "5. Create an `bankFees()` method to apply the bank fees with a percentage of 5% of the balance account.\n",
    "6. Create a `display()` method to display account details."
   ]
  },
  {
   "cell_type": "code",
   "execution_count": 25,
   "id": "dc2a7aff",
   "metadata": {},
   "outputs": [
    {
     "name": "stdout",
     "output_type": "stream",
     "text": [
      "Account Number : 1000000\n",
      "Account Name : xyz\n",
      "Account Balance : 855.0 ₹\n"
     ]
    }
   ],
   "source": [
    "class Bank:\n",
    "\n",
    "    def __init__(self,name, acc_no, balance):\n",
    "        self.name = name\n",
    "        self.acc_no = acc_no\n",
    "        self.balance = balance\n",
    "\n",
    "    def display(self):\n",
    "        print('Account Number :',self.acc_no)\n",
    "        print('Account Name :',self.name)\n",
    "        print('Account Balance :',self.balance,'₹')\n",
    "\n",
    "    def deposit(self,amount):\n",
    "        self.balance = self.balance + amount\n",
    "\n",
    "    def withdrawl(self,amount):\n",
    "        if amount > self.balance:\n",
    "            print('Insufficient funds')\n",
    "        else:\n",
    "            self.balance = self.balance - amount\n",
    "            reduction = self.bankFees()\n",
    "            self.balance = self.balance - reduction\n",
    "            \n",
    "    def bankFees(self):\n",
    "        return 0.05*self.balance\n",
    "\n",
    "cust = Bank('xyz',1000000,500)\n",
    "cust.deposit(500)\n",
    "cust.withdrawl(100)\n",
    "cust.display()"
   ]
  }
 ],
 "metadata": {
  "kernelspec": {
   "display_name": "Python 3 (ipykernel)",
   "language": "python",
   "name": "python3"
  },
  "language_info": {
   "codemirror_mode": {
    "name": "ipython",
    "version": 3
   },
   "file_extension": ".py",
   "mimetype": "text/x-python",
   "name": "python",
   "nbconvert_exporter": "python",
   "pygments_lexer": "ipython3",
   "version": "3.9.13"
  }
 },
 "nbformat": 4,
 "nbformat_minor": 5
}
