{
 "cells": [
  {
   "attachments": {
    "images.png": {
     "image/png": "[encoded data removed]"
    }
   },
   "cell_type": "markdown",
   "id": "de4cade1",
   "metadata": {},
   "source": [
    "![images.png](attachment:images.png)"
   ]
  },
  {
   "cell_type": "markdown",
   "id": "75276e24",
   "metadata": {},
   "source": [
    "## What is NumPy?\n",
    "\n",
    "NumPy is the fundamental package for scientific computing in Python. It is a Python library that provides a multidimensional array object, various derived objects (such as masked arrays and matrices), and an assortment of routines for fast operations on arrays, including mathematical, logical, shape manipulation, sorting, selecting, I/O, discrete Fourier transforms, basic linear algebra, basic statistical operations, random simulation and much more.\n",
    "\n",
    "\n",
    "At the core of the NumPy package, is the ndarray object. This encapsulates n-dimensional arrays of homogeneous data types"
   ]
  },
  {
   "cell_type": "markdown",
   "id": "4014e40c",
   "metadata": {},
   "source": [
    "## Numpy Arrays Vs Python Sequences\n",
    "\n",
    "- NumPy arrays have a fixed size at creation, unlike Python lists (which can grow dynamically). Changing the size of an ndarray will create a new array and delete the original.\n",
    "\n",
    "- The elements in a NumPy array are all required to be of the same data type, and thus will be the same size in memory.\n",
    "\n",
    "- NumPy arrays facilitate advanced mathematical and other types of operations on large numbers of data. Typically, such operations are executed more efficiently and with less code than is possible using Python’s built-in sequences.\n",
    "\n",
    "- A growing plethora of scientific and mathematical Python-based packages are using NumPy arrays; though these typically support Python-sequence input, they convert such input to NumPy arrays prior to processing, and they often output NumPy arrays."
   ]
  },
  {
   "cell_type": "markdown",
   "id": "b5222c1b",
   "metadata": {},
   "source": [
    "## 1.Creating Numpy Arrays\n",
    "\n",
    "- np.array\n",
    "- np.arange\n",
    "- np.zeros\n",
    "- np.ones\n",
    "- np.random\n",
    "- np.linspace\n",
    "- np.identity"
   ]
  },
  {
   "cell_type": "code",
   "execution_count": 1,
   "id": "b432790e",
   "metadata": {},
   "outputs": [
    {
     "name": "stdout",
     "output_type": "stream",
     "text": [
      "[1 2 3 4 5]\n",
      "<class 'numpy.ndarray'>\n"
     ]
    }
   ],
   "source": [
    "import numpy as np\n",
    "\n",
    "a = np.array([1,2,3,4,5]) #Vector\n",
    "print(a)\n",
    "print(type(a))"
   ]
  },
  {
   "cell_type": "code",
   "execution_count": 2,
   "id": "97e80aa8",
   "metadata": {},
   "outputs": [
    {
     "name": "stdout",
     "output_type": "stream",
     "text": [
      "[[1 2 3 4]\n",
      " [5 6 7 8]]\n"
     ]
    }
   ],
   "source": [
    "# 2D(matrix) array\n",
    "b = np.array([[1,2,3,4], [5,6,7,8]])\n",
    "print(b)"
   ]
  },
  {
   "cell_type": "code",
   "execution_count": 3,
   "id": "0b532a87",
   "metadata": {},
   "outputs": [
    {
     "name": "stdout",
     "output_type": "stream",
     "text": [
      "[[[ 1  2  3]\n",
      "  [ 4  5  6]]\n",
      "\n",
      " [[ 7  8  9]\n",
      "  [10 11 12]]]\n"
     ]
    }
   ],
   "source": [
    "# 3D(Tensor) array\n",
    "c = np.array([[[1,2,3], [4,5,6]], [[7,8,9], [10,11,12]]])\n",
    "print(c)"
   ]
  },
  {
   "cell_type": "code",
   "execution_count": 4,
   "id": "c89ead5b",
   "metadata": {},
   "outputs": [
    {
     "name": "stdout",
     "output_type": "stream",
     "text": [
      "[1. 2. 3.]\n",
      "[ True  True  True]\n",
      "[1.+0.j 2.+0.j 3.+0.j]\n"
     ]
    }
   ],
   "source": [
    "# dtype\n",
    "print(np.array([1,2,3], dtype=float))\n",
    "print(np.array([1,2,3], dtype=bool)) # except zero python treat every number as true\n",
    "print(np.array([1,2,3], dtype=complex))"
   ]
  },
  {
   "cell_type": "code",
   "execution_count": 5,
   "id": "c9b6c9c6",
   "metadata": {},
   "outputs": [
    {
     "name": "stdout",
     "output_type": "stream",
     "text": [
      "[ 1  2  3  4  5  6  7  8  9 10]\n",
      "[ 1  3  5  7  9 11 13 15 17 19]\n"
     ]
    }
   ],
   "source": [
    "# np.arange\n",
    "print(np.arange(1,11))\n",
    "print(np.arange(1,20,2))"
   ]
  },
  {
   "cell_type": "code",
   "execution_count": 6,
   "id": "f614f70c",
   "metadata": {},
   "outputs": [
    {
     "data": {
      "text/plain": [
       "array([[ 1,  2,  3,  4,  5],\n",
       "       [ 6,  7,  8,  9, 10]])"
      ]
     },
     "execution_count": 6,
     "metadata": {},
     "output_type": "execute_result"
    }
   ],
   "source": [
    "# with reshape\n",
    "np.arange(1,11).reshape(2,5)"
   ]
  },
  {
   "cell_type": "code",
   "execution_count": 7,
   "id": "68dd2207",
   "metadata": {},
   "outputs": [
    {
     "data": {
      "text/plain": [
       "array([[0., 0., 0.],\n",
       "       [0., 0., 0.],\n",
       "       [0., 0., 0.]])"
      ]
     },
     "execution_count": 7,
     "metadata": {},
     "output_type": "execute_result"
    }
   ],
   "source": [
    "# np.zeros\n",
    "np.zeros((3,3))"
   ]
  },
  {
   "cell_type": "code",
   "execution_count": 8,
   "id": "7b3a216d",
   "metadata": {},
   "outputs": [
    {
     "data": {
      "text/plain": [
       "array([[1., 1., 1.],\n",
       "       [1., 1., 1.],\n",
       "       [1., 1., 1.],\n",
       "       [1., 1., 1.]])"
      ]
     },
     "execution_count": 8,
     "metadata": {},
     "output_type": "execute_result"
    }
   ],
   "source": [
    "# np.ones\n",
    "np.ones((4,3))"
   ]
  },
  {
   "cell_type": "code",
   "execution_count": 9,
   "id": "4a791183",
   "metadata": {},
   "outputs": [
    {
     "data": {
      "text/plain": [
       "array([[0.99943911, 0.33934273, 0.07071025, 0.24743226],\n",
       "       [0.37583264, 0.91438553, 0.38188962, 0.07433392],\n",
       "       [0.14143389, 0.90087146, 0.5836428 , 0.95910175]])"
      ]
     },
     "execution_count": 9,
     "metadata": {},
     "output_type": "execute_result"
    }
   ],
   "source": [
    "# np.random\n",
    "# generates random number between 0-1\n",
    "np.random.random((3,4))"
   ]
  },
  {
   "cell_type": "code",
   "execution_count": 10,
   "id": "bef7cd84",
   "metadata": {},
   "outputs": [
    {
     "data": {
      "text/plain": [
       "array([[0.73190518, 0.11526922, 0.11484878, 0.89808103],\n",
       "       [0.45311982, 0.73947295, 0.00675729, 0.48253305],\n",
       "       [0.47615208, 0.59814754, 0.59524313, 0.80351004]])"
      ]
     },
     "execution_count": 10,
     "metadata": {},
     "output_type": "execute_result"
    }
   ],
   "source": [
    "np.random.rand(12).reshape(3,4)"
   ]
  },
  {
   "cell_type": "code",
   "execution_count": 11,
   "id": "38ea9524",
   "metadata": {},
   "outputs": [
    {
     "data": {
      "text/plain": [
       "array([-10. ,  -7.5,  -5. ,  -2.5,   0. ,   2.5,   5. ,   7.5,  10. ])"
      ]
     },
     "execution_count": 11,
     "metadata": {},
     "output_type": "execute_result"
    }
   ],
   "source": [
    "# np.linspace\n",
    "np.linspace(-10, 10, 9)"
   ]
  },
  {
   "cell_type": "code",
   "execution_count": 12,
   "id": "90d2bbcf",
   "metadata": {},
   "outputs": [
    {
     "data": {
      "text/plain": [
       "array([[1., 0., 0., 0.],\n",
       "       [0., 1., 0., 0.],\n",
       "       [0., 0., 1., 0.],\n",
       "       [0., 0., 0., 1.]])"
      ]
     },
     "execution_count": 12,
     "metadata": {},
     "output_type": "execute_result"
    }
   ],
   "source": [
    "# np.identity\n",
    "np.identity(4)"
   ]
  },
  {
   "cell_type": "code",
   "execution_count": 13,
   "id": "f086d5a9",
   "metadata": {},
   "outputs": [
    {
     "data": {
      "text/plain": [
       "array([[1., 0., 0.],\n",
       "       [0., 1., 0.],\n",
       "       [0., 0., 1.]])"
      ]
     },
     "execution_count": 13,
     "metadata": {},
     "output_type": "execute_result"
    }
   ],
   "source": [
    "np.eye(3)"
   ]
  },
  {
   "cell_type": "code",
   "execution_count": 14,
   "id": "8af10b37",
   "metadata": {},
   "outputs": [
    {
     "data": {
      "text/plain": [
       "array([[1, 0, 0, 0],\n",
       "       [0, 2, 0, 0],\n",
       "       [0, 0, 3, 0],\n",
       "       [0, 0, 0, 4]])"
      ]
     },
     "execution_count": 14,
     "metadata": {},
     "output_type": "execute_result"
    }
   ],
   "source": [
    "# np.diag\n",
    "np.diag([1,2,3,4])"
   ]
  },
  {
   "cell_type": "code",
   "execution_count": 15,
   "id": "8ce9cf4b",
   "metadata": {},
   "outputs": [
    {
     "name": "stdout",
     "output_type": "stream",
     "text": [
      "[[ 0  1  2  3]\n",
      " [ 4  5  6  7]\n",
      " [ 8  9 10 11]\n",
      " [12 13 14 15]]\n"
     ]
    }
   ],
   "source": [
    "a = np.arange(16).reshape(4,4)\n",
    "print(a)"
   ]
  },
  {
   "cell_type": "code",
   "execution_count": 16,
   "id": "e72ad51e",
   "metadata": {},
   "outputs": [
    {
     "data": {
      "text/plain": [
       "array([ 0,  5, 10, 15])"
      ]
     },
     "execution_count": 16,
     "metadata": {},
     "output_type": "execute_result"
    }
   ],
   "source": [
    "np.diag(a)"
   ]
  },
  {
   "cell_type": "code",
   "execution_count": 17,
   "id": "dd17bd4a",
   "metadata": {},
   "outputs": [
    {
     "data": {
      "text/plain": [
       "array([ 1,  6, 11])"
      ]
     },
     "execution_count": 17,
     "metadata": {},
     "output_type": "execute_result"
    }
   ],
   "source": [
    "np.diag(a, 1)"
   ]
  },
  {
   "cell_type": "code",
   "execution_count": 18,
   "id": "41ec0977",
   "metadata": {},
   "outputs": [
    {
     "data": {
      "text/plain": [
       "array([ 4,  9, 14])"
      ]
     },
     "execution_count": 18,
     "metadata": {},
     "output_type": "execute_result"
    }
   ],
   "source": [
    "np.diag(a, -1)"
   ]
  },
  {
   "cell_type": "markdown",
   "id": "00e3ce91",
   "metadata": {},
   "source": [
    "## 2.Array Attributes\n",
    "\n",
    "- ndim (number of dimensions)\n",
    "- shape\n",
    "- size\n",
    "- itemsize\n",
    "- dtype"
   ]
  },
  {
   "cell_type": "code",
   "execution_count": 19,
   "id": "28929ab5",
   "metadata": {},
   "outputs": [
    {
     "name": "stdout",
     "output_type": "stream",
     "text": [
      "[0 1 2 3 4 5 6 7 8 9]\n",
      "--------------------------------------------------\n",
      "[[ 0  1  2  3]\n",
      " [ 4  5  6  7]\n",
      " [ 8  9 10 11]]\n",
      "--------------------------------------------------\n",
      "[[[0 1]\n",
      "  [2 3]]\n",
      "\n",
      " [[4 5]\n",
      "  [6 7]]]\n"
     ]
    }
   ],
   "source": [
    "a = np.arange(10)\n",
    "print(a)\n",
    "print('-'*50)\n",
    "\n",
    "b = np.arange(12).reshape(3,4)\n",
    "print(b)\n",
    "print('-'*50)\n",
    "\n",
    "c = np.arange(8).reshape(2,2,2)\n",
    "print(c)"
   ]
  },
  {
   "cell_type": "code",
   "execution_count": 20,
   "id": "a416235a",
   "metadata": {},
   "outputs": [
    {
     "name": "stdout",
     "output_type": "stream",
     "text": [
      "1\n",
      "2\n",
      "3\n"
     ]
    }
   ],
   "source": [
    "#ndim -> number of dimensions\n",
    "print(a.ndim)\n",
    "print(b.ndim)\n",
    "print(c.ndim)"
   ]
  },
  {
   "cell_type": "code",
   "execution_count": 21,
   "id": "a04c1f39",
   "metadata": {},
   "outputs": [
    {
     "name": "stdout",
     "output_type": "stream",
     "text": [
      "(10,)\n",
      "(3, 4)\n",
      "(2, 2, 2)\n"
     ]
    }
   ],
   "source": [
    "# shape\n",
    "print(a.shape)\n",
    "print(b.shape)\n",
    "print(c.shape)"
   ]
  },
  {
   "cell_type": "code",
   "execution_count": 22,
   "id": "b45cb239",
   "metadata": {},
   "outputs": [
    {
     "name": "stdout",
     "output_type": "stream",
     "text": [
      "10\n",
      "12\n",
      "8\n"
     ]
    }
   ],
   "source": [
    "# size -> number of items\n",
    "print(a.size)\n",
    "print(b.size)\n",
    "print(c.size)"
   ]
  },
  {
   "cell_type": "code",
   "execution_count": 23,
   "id": "5a154c13",
   "metadata": {},
   "outputs": [
    {
     "name": "stdout",
     "output_type": "stream",
     "text": [
      "4\n",
      "4\n",
      "4\n"
     ]
    }
   ],
   "source": [
    "# itemsize -> memory occupied by each item\n",
    "print(a.itemsize)\n",
    "print(b.itemsize)\n",
    "print(c.itemsize)\n"
   ]
  },
  {
   "cell_type": "code",
   "execution_count": 24,
   "id": "b9d643ed",
   "metadata": {},
   "outputs": [
    {
     "name": "stdout",
     "output_type": "stream",
     "text": [
      "8\n",
      "16\n"
     ]
    }
   ],
   "source": [
    "d = np.arange(9, dtype='float')\n",
    "e = np.arange(9, dtype='complex')\n",
    "\n",
    "print(d.itemsize)\n",
    "print(e.itemsize)"
   ]
  },
  {
   "cell_type": "code",
   "execution_count": 25,
   "id": "d1823930",
   "metadata": {},
   "outputs": [
    {
     "name": "stdout",
     "output_type": "stream",
     "text": [
      "int32\n",
      "int32\n",
      "int32\n",
      "float64\n",
      "complex128\n"
     ]
    }
   ],
   "source": [
    "# dtype\n",
    "print(a.dtype)\n",
    "print(b.dtype)\n",
    "print(c.dtype)\n",
    "print(d.dtype)\n",
    "print(e.dtype)"
   ]
  },
  {
   "cell_type": "markdown",
   "id": "ccb9fa5c",
   "metadata": {},
   "source": [
    "## 3.Changing Datatype"
   ]
  },
  {
   "cell_type": "code",
   "execution_count": 26,
   "id": "b4453fc0",
   "metadata": {},
   "outputs": [
    {
     "data": {
      "text/plain": [
       "dtype('int32')"
      ]
     },
     "execution_count": 26,
     "metadata": {},
     "output_type": "execute_result"
    }
   ],
   "source": [
    "#astype\n",
    "c.dtype"
   ]
  },
  {
   "cell_type": "code",
   "execution_count": 27,
   "id": "6fc8c728",
   "metadata": {},
   "outputs": [
    {
     "data": {
      "text/plain": [
       "array([[[0, 1],\n",
       "        [2, 3]],\n",
       "\n",
       "       [[4, 5],\n",
       "        [6, 7]]], dtype=int8)"
      ]
     },
     "execution_count": 27,
     "metadata": {},
     "output_type": "execute_result"
    }
   ],
   "source": [
    "c.astype(np.int8)"
   ]
  },
  {
   "cell_type": "markdown",
   "id": "08dd1c03",
   "metadata": {},
   "source": [
    "## 4.Array Operations\n",
    "\n",
    "- scalar operations\n",
    "- vector operations"
   ]
  },
  {
   "cell_type": "code",
   "execution_count": 28,
   "id": "145ae5e4",
   "metadata": {},
   "outputs": [
    {
     "name": "stdout",
     "output_type": "stream",
     "text": [
      "[[ 2  3  4  5]\n",
      " [ 6  7  8  9]\n",
      " [10 11 12 13]]\n",
      "--------------------------------------------------\n",
      "[[ 0  4  8 12]\n",
      " [16 20 24 28]\n",
      " [32 36 40 44]]\n"
     ]
    }
   ],
   "source": [
    "# scaler operations\n",
    "# Arithmatic\n",
    "print(b + 2)\n",
    "print('-'*50)\n",
    "print(b * 4)"
   ]
  },
  {
   "cell_type": "code",
   "execution_count": 29,
   "id": "001593fa",
   "metadata": {},
   "outputs": [
    {
     "data": {
      "text/plain": [
       "array([[False, False, False, False],\n",
       "       [False, False, False, False],\n",
       "       [ True,  True,  True,  True]])"
      ]
     },
     "execution_count": 29,
     "metadata": {},
     "output_type": "execute_result"
    }
   ],
   "source": [
    "# Relational\n",
    "b > 7"
   ]
  },
  {
   "cell_type": "code",
   "execution_count": 30,
   "id": "34e9ea88",
   "metadata": {},
   "outputs": [
    {
     "name": "stdout",
     "output_type": "stream",
     "text": [
      "[[0.19782495 0.51105632 0.43631092 0.51355757]\n",
      " [0.28349344 0.11486072 0.91288515 0.8667536 ]\n",
      " [0.32898602 0.81967411 0.72656625 0.73465121]\n",
      " [0.1902785  0.27957298 0.00489766 0.999158  ]]\n",
      "--------------------------------------------------\n",
      "[[0.02116846 0.11406491 0.56411921 0.05494705]\n",
      " [0.87436376 0.01021685 0.17845263 0.42852222]\n",
      " [0.5322191  0.33641906 0.99683505 0.03404953]\n",
      " [0.23462572 0.44471266 0.93267121 0.31058811]]\n",
      "--------------------------------------------------\n",
      "[[0.21899342 0.62512122 1.00043013 0.56850462]\n",
      " [1.1578572  0.12507757 1.09133778 1.29527582]\n",
      " [0.86120512 1.15609317 1.7234013  0.76870074]\n",
      " [0.42490422 0.72428565 0.93756887 1.30974611]]\n"
     ]
    }
   ],
   "source": [
    "# vector operations\n",
    "# arithmatic\n",
    "a = np.random.rand(16).reshape(4,4)\n",
    "b = np.random.rand(16).reshape(4,4)\n",
    "\n",
    "print(a)\n",
    "print('-'*50)\n",
    "print(b)\n",
    "print('-'*50)\n",
    "print(a+b)"
   ]
  },
  {
   "cell_type": "markdown",
   "id": "060502af",
   "metadata": {},
   "source": [
    "## 5.Array Functions\n",
    "\n",
    "- max/min/sum/prod\n",
    "- mean/median/std/var\n",
    "- trigonometric functions\n",
    "- dot product\n",
    "- log and exponent\n",
    "- round/floor/ceil"
   ]
  },
  {
   "cell_type": "code",
   "execution_count": 31,
   "id": "dafca154",
   "metadata": {},
   "outputs": [
    {
     "name": "stdout",
     "output_type": "stream",
     "text": [
      "[[75. 43. 74.]\n",
      " [ 2. 85. 37.]\n",
      " [99. 38. 85.]]\n"
     ]
    }
   ],
   "source": [
    "a = np.random.random((3,3))\n",
    "a = np.round(a*100)\n",
    "print(a)"
   ]
  },
  {
   "cell_type": "code",
   "execution_count": 32,
   "id": "8a8f288d",
   "metadata": {},
   "outputs": [
    {
     "name": "stdout",
     "output_type": "stream",
     "text": [
      "99.0\n",
      "2.0\n",
      "538.0\n",
      "480009465045000.0\n"
     ]
    }
   ],
   "source": [
    "# max/min/sum/prod\n",
    "print(np.max(a))\n",
    "print(np.min(a))\n",
    "print(np.sum(a))\n",
    "print(np.prod(a))"
   ]
  },
  {
   "cell_type": "code",
   "execution_count": 33,
   "id": "421dd771",
   "metadata": {},
   "outputs": [
    {
     "name": "stdout",
     "output_type": "stream",
     "text": [
      "[75. 85. 99.]\n",
      "[99. 85. 85.]\n"
     ]
    }
   ],
   "source": [
    "# rowwise max value\n",
    "# 1 -> row\n",
    "# 0 -> column\n",
    "print(np.max(a, axis=1))\n",
    "\n",
    "# rowwise max value\n",
    "print(np.max(a, axis=0))"
   ]
  },
  {
   "cell_type": "code",
   "execution_count": 34,
   "id": "7286884b",
   "metadata": {},
   "outputs": [
    {
     "name": "stdout",
     "output_type": "stream",
     "text": [
      "59.77777777777778\n",
      "[64.         41.33333333 74.        ]\n",
      "74.0\n",
      "29.54761798174367\n",
      "873.0617283950618\n"
     ]
    }
   ],
   "source": [
    "# mean/median/std/var\n",
    "print(np.mean(a))\n",
    "print(np.mean(a, axis=1))\n",
    "\n",
    "print(np.median(a))\n",
    "print(np.std(a))\n",
    "print(np.var(a))"
   ]
  },
  {
   "cell_type": "code",
   "execution_count": 35,
   "id": "fd106d37",
   "metadata": {},
   "outputs": [
    {
     "data": {
      "text/plain": [
       "array([[-0.38778164, -0.83177474, -0.98514626],\n",
       "       [ 0.90929743, -0.17607562, -0.64353813],\n",
       "       [-0.99920683,  0.29636858, -0.17607562]])"
      ]
     },
     "execution_count": 35,
     "metadata": {},
     "output_type": "execute_result"
    }
   ],
   "source": [
    "# Trigonometric Function\n",
    "np.sin(a)"
   ]
  },
  {
   "cell_type": "code",
   "execution_count": 36,
   "id": "cc308c33",
   "metadata": {},
   "outputs": [
    {
     "data": {
      "text/plain": [
       "array([[114, 120, 126],\n",
       "       [378, 400, 422],\n",
       "       [642, 680, 718]])"
      ]
     },
     "execution_count": 36,
     "metadata": {},
     "output_type": "execute_result"
    }
   ],
   "source": [
    "# dot product\n",
    "x = np.arange(12).reshape(3,4)\n",
    "y = np.arange(12,24).reshape(4,3)\n",
    "\n",
    "np.dot(x,y)"
   ]
  },
  {
   "cell_type": "code",
   "execution_count": 37,
   "id": "20ced764",
   "metadata": {},
   "outputs": [
    {
     "name": "stdout",
     "output_type": "stream",
     "text": [
      "[[2.48490665 2.56494936 2.63905733]\n",
      " [2.7080502  2.77258872 2.83321334]\n",
      " [2.89037176 2.94443898 2.99573227]\n",
      " [3.04452244 3.09104245 3.13549422]]\n",
      "--------------------------------------------------\n",
      "[[1.00000000e+00 2.71828183e+00 7.38905610e+00 2.00855369e+01]\n",
      " [5.45981500e+01 1.48413159e+02 4.03428793e+02 1.09663316e+03]\n",
      " [2.98095799e+03 8.10308393e+03 2.20264658e+04 5.98741417e+04]]\n"
     ]
    }
   ],
   "source": [
    "# log and Exponent\n",
    "print(np.log(y))\n",
    "print('-'*50)\n",
    "print(np.exp(x))"
   ]
  },
  {
   "cell_type": "code",
   "execution_count": 38,
   "id": "6c67049d",
   "metadata": {},
   "outputs": [
    {
     "name": "stdout",
     "output_type": "stream",
     "text": [
      "[[42. 73. 81.]\n",
      " [71. 42. 73.]\n",
      " [56. 36.  7.]]\n",
      "--------------------------------------------------\n",
      "[[16.  5. 44.]\n",
      " [34.  2. 86.]\n",
      " [85. 67. 79.]]\n",
      "--------------------------------------------------\n",
      "[[45. 43. 96.]\n",
      " [30. 27. 78.]\n",
      " [72. 76. 18.]]\n"
     ]
    }
   ],
   "source": [
    "# Round/Floor/Ceil\n",
    "print(np.round(np.random.random((3,3))*100))\n",
    "print('-'*50)\n",
    "\n",
    "print(np.floor(np.random.random((3,3))*100))\n",
    "print('-'*50)\n",
    "\n",
    "print(np.ceil(np.random.random((3,3))*100))"
   ]
  },
  {
   "cell_type": "markdown",
   "id": "6ffa354b",
   "metadata": {},
   "source": [
    "## 6.Indexing and Slicing"
   ]
  },
  {
   "cell_type": "code",
   "execution_count": 39,
   "id": "08411cb3",
   "metadata": {},
   "outputs": [
    {
     "name": "stdout",
     "output_type": "stream",
     "text": [
      "[0 1 2 3 4 5 6 7 8 9]\n",
      "--------------------------------------------------\n",
      "[[ 0  1  2  3]\n",
      " [ 4  5  6  7]\n",
      " [ 8  9 10 11]]\n",
      "--------------------------------------------------\n",
      "[[[0 1]\n",
      "  [2 3]]\n",
      "\n",
      " [[4 5]\n",
      "  [6 7]]]\n"
     ]
    }
   ],
   "source": [
    "a = np.arange(10)\n",
    "print(a)\n",
    "print('-'*50)\n",
    "\n",
    "b = np.arange(12).reshape(3,4)\n",
    "print(b)\n",
    "print('-'*50)\n",
    "\n",
    "c = np.arange(8).reshape(2,2,2)\n",
    "print(c)"
   ]
  },
  {
   "cell_type": "code",
   "execution_count": 40,
   "id": "46d44e67",
   "metadata": {},
   "outputs": [
    {
     "data": {
      "text/plain": [
       "9"
      ]
     },
     "execution_count": 40,
     "metadata": {},
     "output_type": "execute_result"
    }
   ],
   "source": [
    "# Indexing\n",
    "a[-1]"
   ]
  },
  {
   "cell_type": "code",
   "execution_count": 41,
   "id": "8aa9082b",
   "metadata": {},
   "outputs": [
    {
     "data": {
      "text/plain": [
       "7"
      ]
     },
     "execution_count": 41,
     "metadata": {},
     "output_type": "execute_result"
    }
   ],
   "source": [
    "b[1,3]"
   ]
  },
  {
   "cell_type": "code",
   "execution_count": 42,
   "id": "ffa19b53",
   "metadata": {},
   "outputs": [
    {
     "data": {
      "text/plain": [
       "5"
      ]
     },
     "execution_count": 42,
     "metadata": {},
     "output_type": "execute_result"
    }
   ],
   "source": [
    "c[1,0,1]"
   ]
  },
  {
   "cell_type": "code",
   "execution_count": 43,
   "id": "9de5730f",
   "metadata": {},
   "outputs": [
    {
     "data": {
      "text/plain": [
       "array([2, 3, 4])"
      ]
     },
     "execution_count": 43,
     "metadata": {},
     "output_type": "execute_result"
    }
   ],
   "source": [
    "# SLicing\n",
    "a[2:5]"
   ]
  },
  {
   "cell_type": "code",
   "execution_count": 44,
   "id": "60cfbb34",
   "metadata": {},
   "outputs": [
    {
     "data": {
      "text/plain": [
       "array([0, 1, 2, 3])"
      ]
     },
     "execution_count": 44,
     "metadata": {},
     "output_type": "execute_result"
    }
   ],
   "source": [
    "b[0, :]"
   ]
  },
  {
   "cell_type": "code",
   "execution_count": 45,
   "id": "78ca058f",
   "metadata": {},
   "outputs": [
    {
     "data": {
      "text/plain": [
       "array([ 2,  6, 10])"
      ]
     },
     "execution_count": 45,
     "metadata": {},
     "output_type": "execute_result"
    }
   ],
   "source": [
    "b[:, 2]"
   ]
  },
  {
   "cell_type": "code",
   "execution_count": 46,
   "id": "190ad4f0",
   "metadata": {},
   "outputs": [
    {
     "data": {
      "text/plain": [
       "array([[ 5,  6],\n",
       "       [ 9, 10]])"
      ]
     },
     "execution_count": 46,
     "metadata": {},
     "output_type": "execute_result"
    }
   ],
   "source": [
    "b[1:, 1:3]"
   ]
  },
  {
   "cell_type": "code",
   "execution_count": 47,
   "id": "e0b62a2f",
   "metadata": {},
   "outputs": [
    {
     "data": {
      "text/plain": [
       "array([[ 0,  3],\n",
       "       [ 8, 11]])"
      ]
     },
     "execution_count": 47,
     "metadata": {},
     "output_type": "execute_result"
    }
   ],
   "source": [
    "b[::2, ::3]"
   ]
  },
  {
   "cell_type": "code",
   "execution_count": 48,
   "id": "48f48bda",
   "metadata": {},
   "outputs": [
    {
     "data": {
      "text/plain": [
       "array([[ 1,  3],\n",
       "       [ 9, 11]])"
      ]
     },
     "execution_count": 48,
     "metadata": {},
     "output_type": "execute_result"
    }
   ],
   "source": [
    "b[::2, 1::2]"
   ]
  },
  {
   "cell_type": "code",
   "execution_count": 49,
   "id": "072955bb",
   "metadata": {},
   "outputs": [
    {
     "data": {
      "text/plain": [
       "array([4, 7])"
      ]
     },
     "execution_count": 49,
     "metadata": {},
     "output_type": "execute_result"
    }
   ],
   "source": [
    "b[1, ::3]"
   ]
  },
  {
   "cell_type": "code",
   "execution_count": 50,
   "id": "07ba7571",
   "metadata": {},
   "outputs": [
    {
     "data": {
      "text/plain": [
       "array([[1, 2, 3],\n",
       "       [5, 6, 7]])"
      ]
     },
     "execution_count": 50,
     "metadata": {},
     "output_type": "execute_result"
    }
   ],
   "source": [
    "b[0:2, 1:]"
   ]
  },
  {
   "cell_type": "code",
   "execution_count": 51,
   "id": "663ce6b1",
   "metadata": {},
   "outputs": [
    {
     "data": {
      "text/plain": [
       "array([[[ 0,  1,  2],\n",
       "        [ 3,  4,  5],\n",
       "        [ 6,  7,  8]],\n",
       "\n",
       "       [[ 9, 10, 11],\n",
       "        [12, 13, 14],\n",
       "        [15, 16, 17]],\n",
       "\n",
       "       [[18, 19, 20],\n",
       "        [21, 22, 23],\n",
       "        [24, 25, 26]]])"
      ]
     },
     "execution_count": 51,
     "metadata": {},
     "output_type": "execute_result"
    }
   ],
   "source": [
    "x = np.arange(27).reshape(3,3,3)\n",
    "x"
   ]
  },
  {
   "cell_type": "code",
   "execution_count": 52,
   "id": "ce751d0b",
   "metadata": {},
   "outputs": [
    {
     "data": {
      "text/plain": [
       "array([[ 9, 10, 11],\n",
       "       [12, 13, 14],\n",
       "       [15, 16, 17]])"
      ]
     },
     "execution_count": 52,
     "metadata": {},
     "output_type": "execute_result"
    }
   ],
   "source": [
    "x[1]"
   ]
  },
  {
   "cell_type": "code",
   "execution_count": 53,
   "id": "0c2131a8",
   "metadata": {},
   "outputs": [
    {
     "data": {
      "text/plain": [
       "array([[[ 0,  1,  2],\n",
       "        [ 3,  4,  5],\n",
       "        [ 6,  7,  8]],\n",
       "\n",
       "       [[18, 19, 20],\n",
       "        [21, 22, 23],\n",
       "        [24, 25, 26]]])"
      ]
     },
     "execution_count": 53,
     "metadata": {},
     "output_type": "execute_result"
    }
   ],
   "source": [
    "x[::2]"
   ]
  },
  {
   "cell_type": "code",
   "execution_count": 54,
   "id": "60eaf329",
   "metadata": {},
   "outputs": [
    {
     "data": {
      "text/plain": [
       "array([3, 4, 5])"
      ]
     },
     "execution_count": 54,
     "metadata": {},
     "output_type": "execute_result"
    }
   ],
   "source": [
    "x[0, 1]"
   ]
  },
  {
   "cell_type": "code",
   "execution_count": 55,
   "id": "636c4515",
   "metadata": {},
   "outputs": [
    {
     "data": {
      "text/plain": [
       "array([10, 13, 16])"
      ]
     },
     "execution_count": 55,
     "metadata": {},
     "output_type": "execute_result"
    }
   ],
   "source": [
    "x[1, :, 1]"
   ]
  },
  {
   "cell_type": "code",
   "execution_count": 56,
   "id": "6786560d",
   "metadata": {},
   "outputs": [
    {
     "data": {
      "text/plain": [
       "array([[22, 23],\n",
       "       [25, 26]])"
      ]
     },
     "execution_count": 56,
     "metadata": {},
     "output_type": "execute_result"
    }
   ],
   "source": [
    "x[2, 1:, 1:]"
   ]
  },
  {
   "cell_type": "code",
   "execution_count": 57,
   "id": "b45cb615",
   "metadata": {},
   "outputs": [
    {
     "data": {
      "text/plain": [
       "array([[ 0,  2],\n",
       "       [18, 20]])"
      ]
     },
     "execution_count": 57,
     "metadata": {},
     "output_type": "execute_result"
    }
   ],
   "source": [
    "x[::2, 0, ::2]"
   ]
  },
  {
   "cell_type": "markdown",
   "id": "6d47d69f",
   "metadata": {},
   "source": [
    "## 7.Iterating"
   ]
  },
  {
   "cell_type": "code",
   "execution_count": 58,
   "id": "b7a34db2",
   "metadata": {},
   "outputs": [
    {
     "name": "stdout",
     "output_type": "stream",
     "text": [
      "[0 1 2 3 4 5 6 7 8 9]\n"
     ]
    }
   ],
   "source": [
    "print(a)"
   ]
  },
  {
   "cell_type": "code",
   "execution_count": 59,
   "id": "4d7c0129",
   "metadata": {},
   "outputs": [
    {
     "name": "stdout",
     "output_type": "stream",
     "text": [
      "0\n",
      "1\n",
      "2\n",
      "3\n",
      "4\n",
      "5\n",
      "6\n",
      "7\n",
      "8\n",
      "9\n"
     ]
    }
   ],
   "source": [
    "for i in a:\n",
    "    print(i)"
   ]
  },
  {
   "cell_type": "code",
   "execution_count": 60,
   "id": "4abcd806",
   "metadata": {},
   "outputs": [
    {
     "name": "stdout",
     "output_type": "stream",
     "text": [
      "[[ 0  1  2  3]\n",
      " [ 4  5  6  7]\n",
      " [ 8  9 10 11]]\n"
     ]
    }
   ],
   "source": [
    "print(b)"
   ]
  },
  {
   "cell_type": "code",
   "execution_count": 61,
   "id": "3c082176",
   "metadata": {},
   "outputs": [
    {
     "name": "stdout",
     "output_type": "stream",
     "text": [
      "[0 1 2 3]\n",
      "[4 5 6 7]\n",
      "[ 8  9 10 11]\n"
     ]
    }
   ],
   "source": [
    "for i in b:\n",
    "    print(i)"
   ]
  },
  {
   "cell_type": "code",
   "execution_count": 62,
   "id": "11d5b464",
   "metadata": {},
   "outputs": [
    {
     "name": "stdout",
     "output_type": "stream",
     "text": [
      "0\n",
      "1\n",
      "2\n",
      "3\n",
      "4\n",
      "5\n",
      "6\n",
      "7\n",
      "8\n",
      "9\n",
      "10\n",
      "11\n"
     ]
    }
   ],
   "source": [
    "for i in np.nditer(b):\n",
    "    print(i)"
   ]
  },
  {
   "cell_type": "code",
   "execution_count": 63,
   "id": "cc3d1128",
   "metadata": {},
   "outputs": [
    {
     "name": "stdout",
     "output_type": "stream",
     "text": [
      "[[[ 0  1  2]\n",
      "  [ 3  4  5]\n",
      "  [ 6  7  8]]\n",
      "\n",
      " [[ 9 10 11]\n",
      "  [12 13 14]\n",
      "  [15 16 17]]\n",
      "\n",
      " [[18 19 20]\n",
      "  [21 22 23]\n",
      "  [24 25 26]]]\n"
     ]
    }
   ],
   "source": [
    "print(x)"
   ]
  },
  {
   "cell_type": "code",
   "execution_count": 64,
   "id": "1367ffab",
   "metadata": {},
   "outputs": [
    {
     "name": "stdout",
     "output_type": "stream",
     "text": [
      "[[0 1 2]\n",
      " [3 4 5]\n",
      " [6 7 8]]\n",
      "[[ 9 10 11]\n",
      " [12 13 14]\n",
      " [15 16 17]]\n",
      "[[18 19 20]\n",
      " [21 22 23]\n",
      " [24 25 26]]\n"
     ]
    }
   ],
   "source": [
    "for i in x:\n",
    "    print(i)"
   ]
  },
  {
   "cell_type": "code",
   "execution_count": 65,
   "id": "381706f8",
   "metadata": {},
   "outputs": [
    {
     "name": "stdout",
     "output_type": "stream",
     "text": [
      "0\n",
      "1\n",
      "2\n",
      "3\n",
      "4\n",
      "5\n",
      "6\n",
      "7\n",
      "8\n",
      "9\n",
      "10\n",
      "11\n",
      "12\n",
      "13\n",
      "14\n",
      "15\n",
      "16\n",
      "17\n",
      "18\n",
      "19\n",
      "20\n",
      "21\n",
      "22\n",
      "23\n",
      "24\n",
      "25\n",
      "26\n"
     ]
    }
   ],
   "source": [
    "for i in np.nditer(x):\n",
    "    print(i)"
   ]
  },
  {
   "cell_type": "markdown",
   "id": "8f5fd46f",
   "metadata": {},
   "source": [
    "## 8.Reshaping\n",
    "\n",
    "- reshape\n",
    "- transpose\n",
    "- ravel"
   ]
  },
  {
   "cell_type": "code",
   "execution_count": 66,
   "id": "1be99021",
   "metadata": {},
   "outputs": [
    {
     "data": {
      "text/plain": [
       "array([[0, 1, 2, 3, 4],\n",
       "       [5, 6, 7, 8, 9]])"
      ]
     },
     "execution_count": 66,
     "metadata": {},
     "output_type": "execute_result"
    }
   ],
   "source": [
    "# reshape\n",
    "np.arange(10).reshape(2,5)"
   ]
  },
  {
   "cell_type": "code",
   "execution_count": 67,
   "id": "eb2820b6",
   "metadata": {},
   "outputs": [
    {
     "data": {
      "text/plain": [
       "array([[ 0,  1,  2,  3],\n",
       "       [ 4,  5,  6,  7],\n",
       "       [ 8,  9, 10, 11]])"
      ]
     },
     "execution_count": 67,
     "metadata": {},
     "output_type": "execute_result"
    }
   ],
   "source": [
    "# Transpose\n",
    "b"
   ]
  },
  {
   "cell_type": "code",
   "execution_count": 68,
   "id": "3d82c6a2",
   "metadata": {},
   "outputs": [
    {
     "data": {
      "text/plain": [
       "array([[ 0,  4,  8],\n",
       "       [ 1,  5,  9],\n",
       "       [ 2,  6, 10],\n",
       "       [ 3,  7, 11]])"
      ]
     },
     "execution_count": 68,
     "metadata": {},
     "output_type": "execute_result"
    }
   ],
   "source": [
    "# np.transpose(b)\n",
    "b.T"
   ]
  },
  {
   "cell_type": "code",
   "execution_count": 69,
   "id": "10c16eb5",
   "metadata": {},
   "outputs": [
    {
     "data": {
      "text/plain": [
       "array([ 0,  1,  2,  3,  4,  5,  6,  7,  8,  9, 10, 11])"
      ]
     },
     "execution_count": 69,
     "metadata": {},
     "output_type": "execute_result"
    }
   ],
   "source": [
    "# ravel -> converting any dimensional array into 1d array\n",
    "b.ravel()"
   ]
  },
  {
   "cell_type": "code",
   "execution_count": 70,
   "id": "2f1790ed",
   "metadata": {},
   "outputs": [
    {
     "data": {
      "text/plain": [
       "array([ 0,  1,  2,  3,  4,  5,  6,  7,  8,  9, 10, 11, 12, 13, 14, 15, 16,\n",
       "       17, 18, 19, 20, 21, 22, 23, 24, 25, 26])"
      ]
     },
     "execution_count": 70,
     "metadata": {},
     "output_type": "execute_result"
    }
   ],
   "source": [
    "x.ravel()"
   ]
  },
  {
   "cell_type": "markdown",
   "id": "f81beb97",
   "metadata": {},
   "source": [
    "## 9.Stacking"
   ]
  },
  {
   "cell_type": "code",
   "execution_count": 71,
   "id": "47d7aeea",
   "metadata": {},
   "outputs": [
    {
     "data": {
      "text/plain": [
       "array([[ 0,  1,  2,  3, 12, 13, 14, 15],\n",
       "       [ 4,  5,  6,  7, 16, 17, 18, 19],\n",
       "       [ 8,  9, 10, 11, 20, 21, 22, 23]])"
      ]
     },
     "execution_count": 71,
     "metadata": {},
     "output_type": "execute_result"
    }
   ],
   "source": [
    "# Horizontal Stacking\n",
    "a = np.arange(12).reshape(3,4)\n",
    "b = np.arange(12, 24).reshape(3,4)\n",
    "\n",
    "np.hstack((a,b))"
   ]
  },
  {
   "cell_type": "code",
   "execution_count": 72,
   "id": "77c608e0",
   "metadata": {},
   "outputs": [
    {
     "data": {
      "text/plain": [
       "array([[ 0,  1,  2,  3],\n",
       "       [ 4,  5,  6,  7],\n",
       "       [ 8,  9, 10, 11],\n",
       "       [12, 13, 14, 15],\n",
       "       [16, 17, 18, 19],\n",
       "       [20, 21, 22, 23]])"
      ]
     },
     "execution_count": 72,
     "metadata": {},
     "output_type": "execute_result"
    }
   ],
   "source": [
    "# Vertical Stacking\n",
    "np.vstack((a,b))"
   ]
  },
  {
   "cell_type": "markdown",
   "id": "c238d9a7",
   "metadata": {},
   "source": [
    "## 10.Splitting"
   ]
  },
  {
   "cell_type": "code",
   "execution_count": 73,
   "id": "28250c57",
   "metadata": {},
   "outputs": [
    {
     "data": {
      "text/plain": [
       "[array([[0, 1],\n",
       "        [4, 5],\n",
       "        [8, 9]]),\n",
       " array([[ 2,  3],\n",
       "        [ 6,  7],\n",
       "        [10, 11]])]"
      ]
     },
     "execution_count": 73,
     "metadata": {},
     "output_type": "execute_result"
    }
   ],
   "source": [
    "# horizontal split\n",
    "np.hsplit(a,2)"
   ]
  },
  {
   "cell_type": "code",
   "execution_count": 74,
   "id": "4e2b6bae",
   "metadata": {},
   "outputs": [
    {
     "data": {
      "text/plain": [
       "[array([[12, 13, 14, 15]]),\n",
       " array([[16, 17, 18, 19]]),\n",
       " array([[20, 21, 22, 23]])]"
      ]
     },
     "execution_count": 74,
     "metadata": {},
     "output_type": "execute_result"
    }
   ],
   "source": [
    "# vertical split\n",
    "np.vsplit(b,3)"
   ]
  }
 ],
 "metadata": {
  "kernelspec": {
   "display_name": "Python 3 (ipykernel)",
   "language": "python",
   "name": "python3"
  },
  "language_info": {
   "codemirror_mode": {
    "name": "ipython",
    "version": 3
   },
   "file_extension": ".py",
   "mimetype": "text/x-python",
   "name": "python",
   "nbconvert_exporter": "python",
   "pygments_lexer": "ipython3",
   "version": "3.9.13"
  }
 },
 "nbformat": 4,
 "nbformat_minor": 5
}
